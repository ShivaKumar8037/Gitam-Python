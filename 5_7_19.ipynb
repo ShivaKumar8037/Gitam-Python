{
  "nbformat": 4,
  "nbformat_minor": 0,
  "metadata": {
    "colab": {
      "name": "5/7/19.ipynb",
      "version": "0.3.2",
      "provenance": [],
      "collapsed_sections": [],
      "include_colab_link": true
    },
    "kernelspec": {
      "name": "python3",
      "display_name": "Python 3"
    }
  },
  "cells": [
    {
      "cell_type": "markdown",
      "metadata": {
        "id": "view-in-github",
        "colab_type": "text"
      },
      "source": [
        "<a href=\"https://colab.research.google.com/github/ShivaKumar8037/Gitam-Python/blob/master/5_7_19.ipynb\" target=\"_parent\"><img src=\"https://colab.research.google.com/assets/colab-badge.svg\" alt=\"Open In Colab\"/></a>"
      ]
    },
    {
      "cell_type": "markdown",
      "metadata": {
        "id": "e37HZEY_ywZ8",
        "colab_type": "text"
      },
      "source": [
        "# Markdown Basics\n",
        "## Markdown Basics\n",
        "### Markdown Basics\n",
        "#### Markdown Basics\n",
        "##### Markdown Basics\n",
        "\n",
        "* **point** (Bold)\n",
        "* *point*     (Italic)\n",
        "* ***point*** (Bold and Italic)\n",
        "\n",
        "* Normal text\n",
        "   *sublist 1\n",
        "   *sublist 2\n",
        "\n",
        "> 1.Point 1\n",
        "> 2.Point 2\n",
        "\n",
        "* ***Adding Links to Markdown***\n",
        "* Google Site -- .[1].: http://www.google.com\n",
        "* msn site      -- .[2].: http://www.msn.com\n",
        "\n",
        "* []option 1\n",
        "* Google Site -- [Google].[1]\n",
        "\n",
        ".[1].: http://www.google.com\n"
      ]
    },
    {
      "cell_type": "code",
      "metadata": {
        "id": "GcYLIHLL38ZW",
        "colab_type": "code",
        "outputId": "93cec4c4-144a-405f-9df0-4cad2ecf657e",
        "colab": {
          "base_uri": "https://localhost:8080/",
          "height": 52
        }
      },
      "source": [
        "print(\"Hello,Gitam\")\n",
        "print(\"hello\")"
      ],
      "execution_count": 0,
      "outputs": [
        {
          "output_type": "stream",
          "text": [
            "Hello,Gitam\n",
            "hello\n"
          ],
          "name": "stdout"
        }
      ]
    },
    {
      "cell_type": "code",
      "metadata": {
        "id": "GRfoFAyp4CSQ",
        "colab_type": "code",
        "outputId": "a0f758f2-b8b8-480d-ba59-c1247d68d30f",
        "colab": {
          "base_uri": "https://localhost:8080/",
          "height": 34
        }
      },
      "source": [
        "print(\"Hello, Gitam\",\"|||\", end = \"\")\n",
        "print(\"Hyderabad\",end = \"|||\")\n",
        "print(\"Python Programming\")"
      ],
      "execution_count": 0,
      "outputs": [
        {
          "output_type": "stream",
          "text": [
            "Hello, Gitam |||Hyderabad|||Python Programming\n"
          ],
          "name": "stdout"
        }
      ]
    },
    {
      "cell_type": "code",
      "metadata": {
        "id": "1r4T4Mf35wbS",
        "colab_type": "code",
        "outputId": "11fc518c-b31f-4e77-91c9-21473f005706",
        "colab": {
          "base_uri": "https://localhost:8080/",
          "height": 69
        }
      },
      "source": [
        "n1 =100 #single variable Assignment\n",
        "a = b = c = 20 #Multi Variable Assignment\n",
        "a1,b1,c1 = 111,222,333 # Multi Variable Assignment with different values \n",
        "print(n1)\n",
        "print(a,b,c)\n",
        "print(a1,b1,c1)"
      ],
      "execution_count": 0,
      "outputs": [
        {
          "output_type": "stream",
          "text": [
            "100\n",
            "20 20 20\n",
            "111 222 333\n"
          ],
          "name": "stdout"
        }
      ]
    },
    {
      "cell_type": "markdown",
      "metadata": {
        "id": "yNhRLxZl7Jeg",
        "colab_type": "text"
      },
      "source": [
        "###Data types and Conversions\n",
        "* int\n",
        "* float\n",
        "* string \n"
      ]
    },
    {
      "cell_type": "code",
      "metadata": {
        "id": "weL4Uid57Udx",
        "colab_type": "code",
        "outputId": "07ea8ef8-8ef7-4173-be80-4df2b3350f65",
        "colab": {
          "base_uri": "https://localhost:8080/",
          "height": 121
        }
      },
      "source": [
        "a=100\n",
        "s1 = \"Python\"\n",
        "s2 = \"p\"\n",
        "f1 = 10.2 \n",
        "print(a)\n",
        "print(s1)\n",
        "print(type(a))\n",
        "print(type(s1))\n",
        "print(type(s2))#python doesn't have a character data type\n",
        "print(type(f1))"
      ],
      "execution_count": 0,
      "outputs": [
        {
          "output_type": "stream",
          "text": [
            "100\n",
            "Python\n",
            "<class 'int'>\n",
            "<class 'str'>\n",
            "<class 'str'>\n",
            "<class 'float'>\n"
          ],
          "name": "stdout"
        }
      ]
    },
    {
      "cell_type": "code",
      "metadata": {
        "id": "CGvyVW0pRxJN",
        "colab_type": "code",
        "outputId": "a088e0f8-165f-422b-8809-e6bc2b1d77d1",
        "colab": {
          "base_uri": "https://localhost:8080/",
          "height": 69
        }
      },
      "source": [
        "i = 100 \n",
        "print(type(i))\n",
        "s1 = str(i)  #str() converts the input into string type\n",
        "print(type(s1))\n",
        "f1 = float(i) # float() coverts the input into float type\n",
        "print(type(f1))"
      ],
      "execution_count": 0,
      "outputs": [
        {
          "output_type": "stream",
          "text": [
            "<class 'int'>\n",
            "<class 'str'>\n",
            "<class 'float'>\n"
          ],
          "name": "stdout"
        }
      ]
    },
    {
      "cell_type": "code",
      "metadata": {
        "id": "qgUP_Ol-TQg7",
        "colab_type": "code",
        "outputId": "871591ec-6e7c-476c-f8fb-88e5ee953328",
        "colab": {
          "base_uri": "https://localhost:8080/",
          "height": 86
        }
      },
      "source": [
        "s1 = \"100\"\n",
        "print(type(s1))\n",
        "a = int(s1) # converts into an intger form\n",
        "print(type(a))\n",
        "\n",
        "f=1.5\n",
        "a1=int(f)\n",
        "print(type(a1))\n",
        "print(a1)"
      ],
      "execution_count": 0,
      "outputs": [
        {
          "output_type": "stream",
          "text": [
            "<class 'str'>\n",
            "<class 'int'>\n",
            "<class 'int'>\n",
            "1\n"
          ],
          "name": "stdout"
        }
      ]
    },
    {
      "cell_type": "code",
      "metadata": {
        "id": "l98hOr_YU4-x",
        "colab_type": "code",
        "outputId": "c1d9d529-67c3-4e06-efbc-fdc6fd0bc232",
        "colab": {
          "base_uri": "https://localhost:8080/",
          "height": 34
        }
      },
      "source": [
        "# A number is given 1234 -\n",
        "# Digit count\n",
        "a1 = 1234\n",
        "print(len(str(a1)))"
      ],
      "execution_count": 0,
      "outputs": [
        {
          "output_type": "stream",
          "text": [
            "4\n"
          ],
          "name": "stdout"
        }
      ]
    },
    {
      "cell_type": "markdown",
      "metadata": {
        "id": "iS1QS5XbWuAi",
        "colab_type": "text"
      },
      "source": [
        "### Reading a value\n",
        "* input(\"message\")--string"
      ]
    },
    {
      "cell_type": "code",
      "metadata": {
        "id": "5KyZNllEW5tZ",
        "colab_type": "code",
        "outputId": "1a1e6dea-708a-43c3-9b9b-663a248fb9b8",
        "colab": {
          "base_uri": "https://localhost:8080/",
          "height": 69
        }
      },
      "source": [
        "s1 = input(\"Enter your name\")\n",
        "print(s1)\n",
        "print(type(s1))"
      ],
      "execution_count": 0,
      "outputs": [
        {
          "output_type": "stream",
          "text": [
            "Enter your nameShiva KUmar\n",
            "Shiva KUmar\n",
            "<class 'str'>\n"
          ],
          "name": "stdout"
        }
      ]
    },
    {
      "cell_type": "code",
      "metadata": {
        "id": "lwZ3zhgRYJZQ",
        "colab_type": "code",
        "outputId": "518a4b0b-3bd4-4e74-ca63-3dc6d228ae50",
        "colab": {
          "base_uri": "https://localhost:8080/",
          "height": 69
        }
      },
      "source": [
        "#want a number as a input\n",
        "n1= int(input(\"Enter a number\\n\"))\n",
        "print(n1,type(n1))"
      ],
      "execution_count": 0,
      "outputs": [
        {
          "output_type": "stream",
          "text": [
            "Enter a number\n",
            "546546456546854865448654186541654685468546854685416854685468541654654685416854\n",
            "546546456546854865448654186541654685468546854685416854685468541654654685416854 <class 'int'>\n"
          ],
          "name": "stdout"
        }
      ]
    },
    {
      "cell_type": "markdown",
      "metadata": {
        "id": "HTkaKw1rZFOr",
        "colab_type": "text"
      },
      "source": [
        "##Operators\n",
        "* Operator is a symbols is used to perform a specific kind of operations\n",
        "\n",
        "### Arithmetic Operators\n",
        "- +\n",
        "- /\n",
        "- *\n",
        "- %\n",
        "- **\n",
        "- //"
      ]
    },
    {
      "cell_type": "code",
      "metadata": {
        "id": "V_bbQWN3ZPkS",
        "colab_type": "code",
        "outputId": "b49402e1-1cb4-4aff-8338-5cbd5ebdbee1",
        "colab": {
          "base_uri": "https://localhost:8080/",
          "height": 138
        }
      },
      "source": [
        "n1 = 696969\n",
        "print(n1 +10)\n",
        "print(n1-10)\n",
        "print(n1*10)\n",
        "print(n1/10) #float\n",
        "print(n1%10) #remainder\n",
        "print(n1//10) #int (quotient)\n",
        "print(n1**10) #exponent"
      ],
      "execution_count": 0,
      "outputs": [
        {
          "output_type": "stream",
          "text": [
            "696979\n",
            "696959\n",
            "6969690\n",
            "69696.9\n",
            "9\n",
            "69696\n",
            "27047966411767032618181411590855654140444248002673015110801\n"
          ],
          "name": "stdout"
        }
      ]
    },
    {
      "cell_type": "markdown",
      "metadata": {
        "id": "o1wWLmp2czvG",
        "colab_type": "text"
      },
      "source": [
        "###Precedence of the Arithmetic Operators\n",
        "* Parenthesis\n",
        "*Power\n",
        "* Multiplication \n",
        "* Addition\n",
        "\n",
        "####Left to Right"
      ]
    },
    {
      "cell_type": "code",
      "metadata": {
        "id": "_z4hddIcdHm8",
        "colab_type": "code",
        "outputId": "5a0bfd60-6f5c-4f18-ef55-0d7b349bd984",
        "colab": {
          "base_uri": "https://localhost:8080/",
          "height": 34
        }
      },
      "source": [
        "x = 1 + 2 ** 3 / 4 + 5\n",
        "print(x)"
      ],
      "execution_count": 0,
      "outputs": [
        {
          "output_type": "stream",
          "text": [
            "8.0\n"
          ],
          "name": "stdout"
        }
      ]
    },
    {
      "cell_type": "code",
      "metadata": {
        "id": "1fpvJtYgdNxP",
        "colab_type": "code",
        "outputId": "2ade0c38-5991-4a5a-dd7b-03ad4d4738e6",
        "colab": {
          "base_uri": "https://localhost:8080/",
          "height": 34
        }
      },
      "source": [
        "x = 1 + 2 ** 3 / 4 * 5\n",
        "print(x)"
      ],
      "execution_count": 0,
      "outputs": [
        {
          "output_type": "stream",
          "text": [
            "11.0\n"
          ],
          "name": "stdout"
        }
      ]
    },
    {
      "cell_type": "markdown",
      "metadata": {
        "id": "aHb9UpnpfFPh",
        "colab_type": "text"
      },
      "source": [
        "### Relational Operators (True or False)\n",
        "- ==\n",
        "- !=\n",
        "- Greater (>)\n",
        "- Less than (<)\n",
        "- Less than or equals to (<=)\n",
        "- Greater than or equals to (>=)\n"
      ]
    },
    {
      "cell_type": "code",
      "metadata": {
        "id": "lnT9kZhZd5Kv",
        "colab_type": "code",
        "outputId": "676c14c6-b010-4af3-aae9-1ac6dc4f0f4b",
        "colab": {
          "base_uri": "https://localhost:8080/",
          "height": 34
        }
      },
      "source": [
        "x= 10 \n",
        "a1 = x>15\n",
        "print(a1)"
      ],
      "execution_count": 0,
      "outputs": [
        {
          "output_type": "stream",
          "text": [
            "False\n"
          ],
          "name": "stdout"
        }
      ]
    },
    {
      "cell_type": "markdown",
      "metadata": {
        "id": "Sc-dbAZLj71v",
        "colab_type": "text"
      },
      "source": [
        "###Logical Operators\n",
        "####Used to combine more than single condition\n",
        "- and (when both conditions are true --- true)\n",
        "-or (when only one condition is true -- true)\n",
        "- not"
      ]
    },
    {
      "cell_type": "code",
      "metadata": {
        "id": "zZAZkVyjjy5W",
        "colab_type": "code",
        "outputId": "fa61bbe6-34c2-4a9f-c052-6c6c24fcad7e",
        "colab": {
          "base_uri": "https://localhost:8080/",
          "height": 52
        }
      },
      "source": [
        "i =100\n",
        "a1 =(i > 15) and ( i < 800)\n",
        "a2 =(i> 15)  and (i  > 800)\n",
        "print(a1)\n",
        "print(a2)"
      ],
      "execution_count": 0,
      "outputs": [
        {
          "output_type": "stream",
          "text": [
            "True\n",
            "False\n"
          ],
          "name": "stdout"
        }
      ]
    },
    {
      "cell_type": "markdown",
      "metadata": {
        "id": "VIgErBzek-ns",
        "colab_type": "text"
      },
      "source": [
        "###Control Flow Statements\n",
        "- Conditional statements\n",
        "-Looping Statements\n",
        "\n",
        "### Syntax\n",
        "if Boolean_Condition:\n",
        "\n",
        "Statements\n",
        "\n",
        "else :\n",
        "\n",
        "statements"
      ]
    },
    {
      "cell_type": "code",
      "metadata": {
        "id": "vL_tb2awkh0_",
        "colab_type": "code",
        "outputId": "8581c9f8-853c-49bf-9a56-d5d698283c1e",
        "colab": {
          "base_uri": "https://localhost:8080/",
          "height": 52
        }
      },
      "source": [
        "#To check given number is even or odd\n",
        "n = int(input(\"Enter a number\"))\n",
        "if n%2 == 0:\n",
        "  print(\"even\")\n",
        "else:\n",
        "  print(\"Odd\")\n"
      ],
      "execution_count": 0,
      "outputs": [
        {
          "output_type": "stream",
          "text": [
            "Enter a number65\n",
            "Odd\n"
          ],
          "name": "stdout"
        }
      ]
    },
    {
      "cell_type": "code",
      "metadata": {
        "id": "IX1FaZ6_mLwm",
        "colab_type": "code",
        "outputId": "e5ed81ed-752f-4356-9cce-19487f77a706",
        "colab": {
          "base_uri": "https://localhost:8080/",
          "height": 69
        }
      },
      "source": [
        "#to check a given number is perfectly multiple of 3 and 5\n",
        "n = int(input(\"Enter  a  number\\n\"))\n",
        "if n%3==0 and n%5==0:\n",
        "  print(\"Yes\")\n",
        "else:\n",
        "  print(\"No\")"
      ],
      "execution_count": 0,
      "outputs": [
        {
          "output_type": "stream",
          "text": [
            "Enter  a  number\n",
            "30\n",
            "Yes\n"
          ],
          "name": "stdout"
        }
      ]
    },
    {
      "cell_type": "code",
      "metadata": {
        "id": "EWlPH6jUnkZe",
        "colab_type": "code",
        "colab": {
          "base_uri": "https://localhost:8080/",
          "height": 69
        },
        "outputId": "2a872b5a-a2ee-46f0-95d2-bd238b16d367"
      },
      "source": [
        "#test given number is positive , negative or not\n",
        "n = int(input(\"Enter a number\\n\"))\n",
        "if n>0:\n",
        "  print(\"Number is greater than zero\")\n",
        "elif n==0:\n",
        "  print(\"Number is equal to zero\")\n",
        "elif n<0:\n",
        "  print(\"Number is less than zero\")"
      ],
      "execution_count": 65,
      "outputs": [
        {
          "output_type": "stream",
          "text": [
            "Enter a number\n",
            "0\n",
            "Number is equal to zero\n"
          ],
          "name": "stdout"
        }
      ]
    },
    {
      "cell_type": "code",
      "metadata": {
        "id": "2B2fwXcXo-Ur",
        "colab_type": "code",
        "colab": {}
      },
      "source": [
        "-5\n"
      ],
      "execution_count": 0,
      "outputs": []
    }
  ]
}