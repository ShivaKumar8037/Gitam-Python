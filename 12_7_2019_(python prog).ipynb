{
  "nbformat": 4,
  "nbformat_minor": 0,
  "metadata": {
    "colab": {
      "name": "12-7-2019 (1).ipynb",
      "version": "0.3.2",
      "provenance": [],
      "include_colab_link": true
    },
    "language_info": {
      "codemirror_mode": {
        "name": "ipython",
        "version": 3
      },
      "file_extension": ".py",
      "mimetype": "text/x-python",
      "name": "python",
      "nbconvert_exporter": "python",
      "pygments_lexer": "ipython3",
      "version": "3.7.3"
    },
    "kernelspec": {
      "display_name": "Python 3",
      "language": "python",
      "name": "python3"
    }
  },
  "cells": [
    {
      "cell_type": "markdown",
      "metadata": {
        "id": "view-in-github",
        "colab_type": "text"
      },
      "source": [
        "<a href=\"https://colab.research.google.com/github/ShivaKumar8037/Gitam-Python/blob/master/12_7_2019_(python%20prog).ipynb\" target=\"_parent\"><img src=\"https://colab.research.google.com/assets/colab-badge.svg\" alt=\"Open In Colab\"/></a>"
      ]
    },
    {
      "cell_type": "markdown",
      "metadata": {
        "id": "X_Q1dLYXB6Nr",
        "colab_type": "text"
      },
      "source": [
        "### Reguluar expression\n",
        " - pattern matching\n",
        " - patterns(re) package\n",
        " - cap symbol is used to represent start of the re\n",
        " - dollar symbol is used to represent end of re\n",
        " - [0-9] --> any digit matching\n",
        "          > two digit number (^[0-9]{2}$)\n",
        "          > five digit number (^[0-9]{5}$)"
      ]
    },
    {
      "cell_type": "markdown",
      "metadata": {
        "id": "HefyYHIsB6Nu",
        "colab_type": "text"
      },
      "source": [
        "### Regular expression for characters\n",
        "- [a-z] --> any lower case character \n",
        "- [A-Z] --> any uppercase character\n",
        "- ^[a-z]{5}$ --> it accepts 5 lower cases\n",
        "- ^[a-zA-Z]{8}$ --> it accepts 8 lower case and upper case characters\n",
        "- ^[a-zA-Z0-9]{8}$ --> it accepts 8 lower case and upper case characters and numbers"
      ]
    },
    {
      "cell_type": "code",
      "metadata": {
        "id": "FUMSqUCuB6Nv",
        "colab_type": "code",
        "colab": {},
        "outputId": "53aaf47a-e9d7-473b-88ad-ec1af55c0287"
      },
      "source": [
        "# function to test two digit number matching\n",
        "import re\n",
        "def twoDigitMatching(n):\n",
        "    pattern= '^[0-9]{2}$'\n",
        "    n=str(n)\n",
        "    if re.match(pattern,n):\n",
        "        return True\n",
        "    return False\n",
        "print(twoDigitMatching(12)) # true\n",
        "print(twoDigitMatching(123)) #false"
      ],
      "execution_count": 0,
      "outputs": [
        {
          "output_type": "stream",
          "text": [
            "True\n",
            "False\n"
          ],
          "name": "stdout"
        }
      ]
    },
    {
      "cell_type": "code",
      "metadata": {
        "id": "aN92z6KgB6N4",
        "colab_type": "code",
        "colab": {},
        "outputId": "e18ea9a2-ee00-475a-ff3b-71ebf8db68fe"
      },
      "source": [
        "# function to define to test username having 8 characters\n",
        "# uppercase and lowercase\n",
        "def testusername(s):\n",
        "    pattern = '^[a-zA-Z]{8}$'\n",
        "    if re.match(pattern,s):\n",
        "        return True\n",
        "    return False\n",
        "print(testusername('GitamHYD'))\n",
        "print(testusername('Gitam363'))"
      ],
      "execution_count": 0,
      "outputs": [
        {
          "output_type": "stream",
          "text": [
            "True\n",
            "False\n"
          ],
          "name": "stdout"
        }
      ]
    },
    {
      "cell_type": "markdown",
      "metadata": {
        "id": "rYtBSvcpB6N9",
        "colab_type": "text"
      },
      "source": [
        "### Regular expressions to match the indian mobile number\n",
        "- 10 digits\n",
        "- (first digit will be [6-9]) and remaining 9 digits will be [0-9]\n",
        "- example:- 998887775544\n",
        "- Re-^[6-9][0-9]{9}$\n",
        "- example - 0998887775544"
      ]
    },
    {
      "cell_type": "code",
      "metadata": {
        "id": "96sGVZ3_B6N-",
        "colab_type": "code",
        "colab": {},
        "outputId": "2ba1284e-2bfc-4c32-b0d5-08dd8e82fb5a"
      },
      "source": [
        "# function to test indian mobile number\n",
        "def mno(y):\n",
        "    pattern='^[6-9][0-9]{9}$|^[0][6-9][0-9]{9}$|^[+][9][1][6-9][0-9]{9}$'\n",
        "    if re.match(pattern,y):\n",
        "        return True\n",
        "    return False\n",
        "print(mno(str(input())))\n"
      ],
      "execution_count": 0,
      "outputs": [
        {
          "output_type": "stream",
          "text": [
            "+919949057441\n",
            "True\n"
          ],
          "name": "stdout"
        }
      ]
    },
    {
      "cell_type": "code",
      "metadata": {
        "id": "q1j2MRQ0B6OC",
        "colab_type": "code",
        "colab": {},
        "outputId": "51cbac8e-281c-465d-95a9-d83f5868b573"
      },
      "source": [
        "def roll(g):\n",
        "    pattern = '^[1521A0]+[0-9]{3}$'\n",
        "    if re.match(pattern,g):\n",
        "        return True\n",
        "    return False\n",
        "print(roll(str(input())))"
      ],
      "execution_count": 0,
      "outputs": [
        {
          "output_type": "stream",
          "text": [
            "1521A0501\n",
            "True\n"
          ],
          "name": "stdout"
        }
      ]
    },
    {
      "cell_type": "code",
      "metadata": {
        "id": "4FspENkQB6OH",
        "colab_type": "code",
        "colab": {},
        "outputId": "0950ffee-3b0f-42b8-871e-bf20efc579ac"
      },
      "source": [
        "def password(i):\n",
        "    pattern = '^[A-Za-z0-9@#!]{6,15}$'\n",
        "    if re.match(pattern,i):\n",
        "        return True\n",
        "    return False\n",
        "print(password(str(input())))"
      ],
      "execution_count": 0,
      "outputs": [
        {
          "output_type": "stream",
          "text": [
            "Kaushik12@#!6\n",
            "True\n"
          ],
          "name": "stdout"
        }
      ]
    },
    {
      "cell_type": "code",
      "metadata": {
        "id": "j4NPoErkB6OK",
        "colab_type": "code",
        "colab": {},
        "outputId": "fb834b3d-9e27-41d8-b70f-c0556ae3a011"
      },
      "source": [
        "def email(i):\n",
        "    pattern = '^[A-Za-z0-9._-]+[@]+[a-z]+[.com]{4}$'\n",
        "    if re.match(pattern,i):\n",
        "        return True\n",
        "    return False\n",
        "print(email(str(input())))"
      ],
      "execution_count": 0,
      "outputs": [
        {
          "output_type": "stream",
          "text": [
            "kaushikparvathaneni2266@gmail.com\n",
            "True\n"
          ],
          "name": "stdout"
        }
      ]
    },
    {
      "cell_type": "markdown",
      "metadata": {
        "id": "Kv-AubotB6ON",
        "colab_type": "text"
      },
      "source": [
        "### python turtle\n",
        "- Turtle graphics"
      ]
    },
    {
      "cell_type": "code",
      "metadata": {
        "id": "sVR5__KxB6OO",
        "colab_type": "code",
        "colab": {}
      },
      "source": [
        "# step 1:Make all the turtle package to be imported\n",
        "import turtle\n",
        "# turtle method creates and returns a new object\n",
        "a1=turtle.Turtle()\n",
        "#forward() method moves 100 pixels\n",
        "turtle.forward(250)\n",
        "# we are done \n",
        "turtle.done()"
      ],
      "execution_count": 0,
      "outputs": []
    },
    {
      "cell_type": "code",
      "metadata": {
        "id": "nmFJVBiHB6OQ",
        "colab_type": "code",
        "colab": {},
        "outputId": "00c52626-e4ef-4d17-9c78-5e87eac81861"
      },
      "source": [
        "import turtle as tt\n",
        "a1 = turtle.Turtle()\n",
        "tt.backward(100)\n",
        "tt.done()"
      ],
      "execution_count": 0,
      "outputs": [
        {
          "output_type": "error",
          "ename": "NameError",
          "evalue": "name 'turtle' is not defined",
          "traceback": [
            "\u001b[1;31m---------------------------------------------------------------------------\u001b[0m",
            "\u001b[1;31mNameError\u001b[0m                                 Traceback (most recent call last)",
            "\u001b[1;32m<ipython-input-4-8d6e016df786>\u001b[0m in \u001b[0;36m<module>\u001b[1;34m\u001b[0m\n\u001b[0;32m      1\u001b[0m \u001b[1;32mimport\u001b[0m \u001b[0mturtle\u001b[0m \u001b[1;32mas\u001b[0m \u001b[0mtt\u001b[0m\u001b[1;33m\u001b[0m\u001b[1;33m\u001b[0m\u001b[0m\n\u001b[1;32m----> 2\u001b[1;33m \u001b[0ma1\u001b[0m \u001b[1;33m=\u001b[0m \u001b[0mturtle\u001b[0m\u001b[1;33m.\u001b[0m\u001b[0mTurtle\u001b[0m\u001b[1;33m(\u001b[0m\u001b[1;33m)\u001b[0m\u001b[1;33m\u001b[0m\u001b[1;33m\u001b[0m\u001b[0m\n\u001b[0m\u001b[0;32m      3\u001b[0m \u001b[0mtt\u001b[0m\u001b[1;33m.\u001b[0m\u001b[0mbackward\u001b[0m\u001b[1;33m(\u001b[0m\u001b[1;36m100\u001b[0m\u001b[1;33m)\u001b[0m\u001b[1;33m\u001b[0m\u001b[1;33m\u001b[0m\u001b[0m\n\u001b[0;32m      4\u001b[0m \u001b[0mtt\u001b[0m\u001b[1;33m.\u001b[0m\u001b[0mdone\u001b[0m\u001b[1;33m(\u001b[0m\u001b[1;33m)\u001b[0m\u001b[1;33m\u001b[0m\u001b[1;33m\u001b[0m\u001b[0m\n",
            "\u001b[1;31mNameError\u001b[0m: name 'turtle' is not defined"
          ]
        }
      ]
    },
    {
      "cell_type": "code",
      "metadata": {
        "id": "hrDdnNxZB6OS",
        "colab_type": "code",
        "colab": {}
      },
      "source": [
        "# draw a square\n",
        "import turtle as tt\n",
        "a1=tt.Turtle()\n",
        "a1.forward(150)\n",
        "a1.right(90)\n",
        "a1.forward(150)\n",
        "a1.right(90)\n",
        "a1.forward(150)\n",
        "a1.right(90)\n",
        "a1.forward(150)\n",
        "a1.right(90)\n",
        "tt.done()"
      ],
      "execution_count": 0,
      "outputs": []
    },
    {
      "cell_type": "code",
      "metadata": {
        "id": "hypbVu-eB6OU",
        "colab_type": "code",
        "colab": {}
      },
      "source": [
        "import turtle as t\n",
        "aa=t.Turtle()\n",
        "aa.backward(150)\n",
        "aa.left(90)\n",
        "aa.backward(150)\n",
        "aa.left(90)\n",
        "aa.backward(150)\n",
        "aa.left(90)\n",
        "aa.backward(150)\n",
        "aa.left(90)\n",
        "t.done()"
      ],
      "execution_count": 0,
      "outputs": []
    },
    {
      "cell_type": "code",
      "metadata": {
        "id": "wHDAhSruB6OW",
        "colab_type": "code",
        "colab": {}
      },
      "source": [
        "import turtle as t\n",
        "aa=t.Turtle()\n",
        "aa.backward(150)\n",
        "aa.left(90)\n",
        "aa.backward(150)\n",
        "aa.left(90)\n",
        "aa.backward(150)\n",
        "aa.left(90)\n",
        "aa.backward(150)\n",
        "aa.left(90)\n",
        "aa.right(15)\n",
        "aa.backward(150)\n",
        "aa.left(90)\n",
        "aa.backward(150)\n",
        "aa.left(90)\n",
        "aa.backward(150)\n",
        "aa.left(90)\n",
        "aa.backward(150)\n",
        "aa.left(90)\n",
        "aa.right(15)\n",
        "aa.backward(150)\n",
        "aa.left(90)\n",
        "aa.backward(150)\n",
        "aa.left(90)\n",
        "aa.backward(150)\n",
        "aa.left(90)\n",
        "aa.backward(150)\n",
        "aa.left(90)\n",
        "aa.right(15)\n",
        "t.done()"
      ],
      "execution_count": 0,
      "outputs": []
    },
    {
      "cell_type": "code",
      "metadata": {
        "id": "yO2eIjuWB6OY",
        "colab_type": "code",
        "colab": {}
      },
      "source": [
        "import turtle as t\n",
        "a1=t.Turtle()\n",
        "a1.pencolor('blue')\n",
        "for i in range(40):\n",
        "    a1.forward(i*10)\n",
        "    a1.right(144)\n",
        "t.done()\n",
        "    \n"
      ],
      "execution_count": 0,
      "outputs": []
    },
    {
      "cell_type": "code",
      "metadata": {
        "scrolled": true,
        "id": "G_DUTTCJB6OZ",
        "colab_type": "code",
        "colab": {}
      },
      "source": [
        "import turtle as t\n",
        "a1=t.Turtle()\n",
        "a1.pencolor('blue')\n",
        "for i in range(100):\n",
        "    a1.forward(i)\n",
        "    a1.left(91)\n",
        "t.done()"
      ],
      "execution_count": 0,
      "outputs": []
    },
    {
      "cell_type": "code",
      "metadata": {
        "id": "FweVDXvQB6Oc",
        "colab_type": "code",
        "colab": {}
      },
      "source": [
        "### hexagon\n",
        "from turtle import *\n",
        "colors = ['blue','green','yellow','orange','black','red']\n",
        "for x in range(360):\n",
        "    pencolor(colors[x%6])\n",
        "    width(x/100+1)\n",
        "    forward(x)\n",
        "    left(59)"
      ],
      "execution_count": 0,
      "outputs": []
    },
    {
      "cell_type": "code",
      "metadata": {
        "id": "3M9tXAprB6Od",
        "colab_type": "code",
        "colab": {}
      },
      "source": [
        "from turtle import *\n",
        "goto(50,50)\n",
        "goto(-50,50)\n",
        "goto(100,-50)\n",
        "goto(-50,-50)"
      ],
      "execution_count": 0,
      "outputs": []
    },
    {
      "cell_type": "code",
      "metadata": {
        "id": "jhAd7E-BB6Of",
        "colab_type": "code",
        "colab": {}
      },
      "source": [
        "# set heading\n",
        "from turtle import *\n",
        "colors = ['blue','red','purple','orange','green','yellow']\n",
        "for angle in range(0,360,15):\n",
        "    pencolor(colors[angle%6])\n",
        "    setheading(angle)\n",
        "    forward(100)\n",
        "    write(str(angle)+'o')\n",
        "    backward(100)"
      ],
      "execution_count": 0,
      "outputs": []
    },
    {
      "cell_type": "code",
      "metadata": {
        "id": "7aM8JzltB6Oi",
        "colab_type": "code",
        "colab": {}
      },
      "source": [
        "from turtle import *\n",
        "pencolor('blue')\n",
        "for i in range(15):\n",
        "    forward(100)\n",
        "    left(90)\n",
        "    forward(10)\n",
        "    left(90)\n",
        "    forward(100)\n",
        "    right(90)\n",
        "    forward(10)\n",
        "    right(90)\n",
        "pencolor('red')\n",
        "for i in range(90):\n",
        "    undo()\n",
        "    "
      ],
      "execution_count": 0,
      "outputs": []
    },
    {
      "cell_type": "code",
      "metadata": {
        "id": "NyLjZl-hB6Ok",
        "colab_type": "code",
        "colab": {}
      },
      "source": [
        "from turtle import *\n",
        "pensize(60)\n",
        "pencolor('blue')\n",
        "forward(250)\n",
        "pencolor(0,1.0,0)\n",
        "forward(250)\n",
        "pensize(10)\n",
        "goto(-400,50)\n",
        "\n",
        "for red in range(4):\n",
        "    for green in range(4):\n",
        "        for blue in range(4):\n",
        "            pencolor(red/4.0,green/4.0,blue/4.0)\n",
        "            forward(10)"
      ],
      "execution_count": 0,
      "outputs": []
    },
    {
      "cell_type": "code",
      "metadata": {
        "id": "WVBnHlscB6On",
        "colab_type": "code",
        "colab": {}
      },
      "source": [
        "from turtle import *\n",
        "fillcolor('green')\n",
        "pensize(10)\n",
        "pencolor('black')\n",
        "forward(100)\n",
        "\n",
        "begin_fill()\n",
        "forward(250)\n",
        "left(90)\n",
        "forward(250)\n",
        "left(90)\n",
        "forward(250)\n",
        "left(90)\n",
        "forward(250)\n",
        "left(90)\n",
        "end_fill()\n",
        "\n"
      ],
      "execution_count": 0,
      "outputs": []
    },
    {
      "cell_type": "code",
      "metadata": {
        "id": "HbqAKKCYB6Op",
        "colab_type": "code",
        "colab": {}
      },
      "source": [
        "from turtle import *\n",
        "fillcolor('orange')\n",
        "pensize(10)\n",
        "pencolor('black')\n",
        "begin_fill()\n",
        "circle(150)\n",
        "end_fill()"
      ],
      "execution_count": 0,
      "outputs": []
    },
    {
      "cell_type": "code",
      "metadata": {
        "id": "037isaycB6Or",
        "colab_type": "code",
        "colab": {}
      },
      "source": [
        "from turtle import *\n",
        "fillcolor('orange')\n",
        "pensize(10)\n",
        "pencolor('black')\n",
        "begin_fill()\n",
        "circle(150)\n",
        "end_fill()\n",
        "fillcolor('white')\n",
        "pensize(10)\n",
        "pencolor('black')\n",
        "begin_fill()\n",
        "circle(100)\n",
        "end_fill()\n",
        "fillcolor('green')\n",
        "pensize(10)\n",
        "pencolor('black')\n",
        "begin_fill()\n",
        "circle(50)\n",
        "end_fill()"
      ],
      "execution_count": 0,
      "outputs": []
    },
    {
      "cell_type": "code",
      "metadata": {
        "id": "67mK9jFaB6Ot",
        "colab_type": "code",
        "colab": {}
      },
      "source": [
        ""
      ],
      "execution_count": 0,
      "outputs": []
    }
  ]
}