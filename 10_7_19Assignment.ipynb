{
  "nbformat": 4,
  "nbformat_minor": 0,
  "metadata": {
    "colab": {
      "name": "10/7/19Assignment.ipynb",
      "version": "0.3.2",
      "provenance": [],
      "collapsed_sections": [],
      "include_colab_link": true
    },
    "kernelspec": {
      "name": "python3",
      "display_name": "Python 3"
    }
  },
  "cells": [
    {
      "cell_type": "markdown",
      "metadata": {
        "id": "view-in-github",
        "colab_type": "text"
      },
      "source": [
        "<a href=\"https://colab.research.google.com/github/ShivaKumar8037/Gitam-Python/blob/master/10_7_19Assignment.ipynb\" target=\"_parent\"><img src=\"https://colab.research.google.com/assets/colab-badge.svg\" alt=\"Open In Colab\"/></a>"
      ]
    },
    {
      "cell_type": "markdown",
      "metadata": {
        "id": "Hg1f7C_BCfAF",
        "colab_type": "text"
      },
      "source": [
        "###1.The program must accept an integer N as the input. The program must print the fibonacci series in the reverse order as the output."
      ]
    },
    {
      "cell_type": "code",
      "metadata": {
        "id": "FgqFYkHxxYv7",
        "colab_type": "code",
        "outputId": "ab2f9ae8-5f49-4502-952e-0dda9ad813a8",
        "colab": {
          "base_uri": "https://localhost:8080/",
          "height": 52
        }
      },
      "source": [
        "#fibi\n",
        "n = int(input(\"Enter a number:\"))\n",
        "f0=0\n",
        "f1=1\n",
        "k=1\n",
        "l=[]\n",
        "l.append(f0)\n",
        "l.append(f1)\n",
        "while k!=n-1:\n",
        "  f2=f1+f0\n",
        "  l.append(f2)\n",
        "  f0=f1\n",
        "  f1=f2\n",
        "  k=k+1\n",
        "l.reverse()\n",
        "print(l)"
      ],
      "execution_count": 0,
      "outputs": [
        {
          "output_type": "stream",
          "text": [
            "Enter a number:12\n",
            "[89, 55, 34, 21, 13, 8, 5, 3, 2, 1, 1, 0]\n"
          ],
          "name": "stdout"
        }
      ]
    },
    {
      "cell_type": "markdown",
      "metadata": {
        "id": "pJ5AA0-PCnoM",
        "colab_type": "text"
      },
      "source": [
        "###10.Series Generations:-  1, 3, 9, 27, 81, ..."
      ]
    },
    {
      "cell_type": "code",
      "metadata": {
        "id": "lSpSmN0uxoJe",
        "colab_type": "code",
        "outputId": "262d518d-ff9e-42c5-b4e9-4ee5b2974626",
        "colab": {
          "base_uri": "https://localhost:8080/",
          "height": 34
        }
      },
      "source": [
        "#10\n",
        "#3x3^0\n",
        "for i in range(0,10):\n",
        "  s3=(3**i)\n",
        "  print(s3,end=\" \")\n",
        "  "
      ],
      "execution_count": 0,
      "outputs": [
        {
          "output_type": "stream",
          "text": [
            "1 3 9 27 81 243 729 2187 6561 19683 "
          ],
          "name": "stdout"
        }
      ]
    },
    {
      "cell_type": "markdown",
      "metadata": {
        "id": "Gd7YqHdjCtNL",
        "colab_type": "text"
      },
      "source": [
        "###11.Series Generations:-  1, 2, 4, 8, 16, 32, 64, 128, 256, ..."
      ]
    },
    {
      "cell_type": "code",
      "metadata": {
        "id": "RVDKshgyyMP3",
        "colab_type": "code",
        "outputId": "e802c083-65b1-43aa-e85a-ebe918c99d11",
        "colab": {
          "base_uri": "https://localhost:8080/",
          "height": 34
        }
      },
      "source": [
        "#11\n",
        "for i in range(0,10):\n",
        "  s3=(2**i)\n",
        "  print(s3,end=\" \")"
      ],
      "execution_count": 0,
      "outputs": [
        {
          "output_type": "stream",
          "text": [
            "1 2 4 8 16 32 64 128 256 512 "
          ],
          "name": "stdout"
        }
      ]
    },
    {
      "cell_type": "markdown",
      "metadata": {
        "id": "v9xaggE-CxYY",
        "colab_type": "text"
      },
      "source": [
        "###14.Series Generations:-  1! + 2! + 3! + 4! + 5! + ... + n!"
      ]
    },
    {
      "cell_type": "code",
      "metadata": {
        "id": "QGsE6rPUyMtM",
        "colab_type": "code",
        "outputId": "8945c7a7-9bb2-4720-814a-2055c3fbae58",
        "colab": {
          "base_uri": "https://localhost:8080/",
          "height": 70
        }
      },
      "source": [
        "#14\n",
        "def fact(n):\n",
        "  f=1\n",
        "  i=1\n",
        "  while(n+1!=i):\n",
        "    f=f*i\n",
        "    i=i+1\n",
        "  return f\n",
        "fact(5)\n",
        "sum=0\n",
        "for i in range(1,12):\n",
        "  print(fact(i),\"+\",end=\" \")\n",
        "print(\"\\n\")\n",
        "for i in range(1,12):\n",
        "  print(i,\"! +\",end=\" \")"
      ],
      "execution_count": 0,
      "outputs": [
        {
          "output_type": "stream",
          "text": [
            "1 + 2 + 6 + 24 + 120 + 720 + 5040 + 40320 + 362880 + 3628800 + 39916800 + \n",
            "\n",
            "1 ! + 2 ! + 3 ! + 4 ! + 5 ! + 6 ! + 7 ! + 8 ! + 9 ! + 10 ! + 11 ! + "
          ],
          "name": "stdout"
        }
      ]
    },
    {
      "cell_type": "markdown",
      "metadata": {
        "id": "uZLrPTCSC2nT",
        "colab_type": "text"
      },
      "source": [
        "###8.Your Program has to read one string as well as one character and you need to remove the all the occurance of the character."
      ]
    },
    {
      "cell_type": "code",
      "metadata": {
        "id": "t0APNv8hyPLG",
        "colab_type": "code",
        "outputId": "76def2aa-2020-4599-a86d-899c2219c573",
        "colab": {
          "base_uri": "https://localhost:8080/",
          "height": 70
        }
      },
      "source": [
        "#8\n",
        "s=input(\"Enter string:\")\n",
        "n=input(\"Enter removing charcter:\")\n",
        "for i in range(len(s)):\n",
        "  if s[i]==n:\n",
        "    s.replace(n,'')\n",
        "  else:\n",
        "    print(s[i],end='')"
      ],
      "execution_count": 0,
      "outputs": [
        {
          "output_type": "stream",
          "text": [
            "Enter string:HebeonTech\n",
            "Enter removing charcter:e\n",
            "HbonTch"
          ],
          "name": "stdout"
        }
      ]
    },
    {
      "cell_type": "markdown",
      "metadata": {
        "id": "eja__PbVC9p_",
        "colab_type": "text"
      },
      "source": [
        "###9.Your Program need to accept two strings and generate the output in merging of both strings."
      ]
    },
    {
      "cell_type": "code",
      "metadata": {
        "id": "C9tP1pKoySgk",
        "colab_type": "code",
        "outputId": "df2b13bb-d5ea-43ec-dc77-7b37251e135f",
        "colab": {
          "base_uri": "https://localhost:8080/",
          "height": 70
        }
      },
      "source": [
        "#9\n",
        "s1=(input(\"Enter string s1:\"))\n",
        "s2=(input(\"Enter string s2:\"))\n",
        "for i in range(len(s1)):\n",
        "  print(s1[i],end=\"\")\n",
        "  for j in range(i,i+1):\n",
        "    print(s2[j],end='')\n"
      ],
      "execution_count": 0,
      "outputs": [
        {
          "output_type": "stream",
          "text": [
            "Enter string s1:abc\n",
            "Enter string s2:xyz\n",
            "axbycz"
          ],
          "name": "stdout"
        }
      ]
    },
    {
      "cell_type": "markdown",
      "metadata": {
        "id": "ko1mV3P1DBRL",
        "colab_type": "text"
      },
      "source": [
        "###5.Your program need to accept a string (alphanuermic) includes white spaces also. The program must print the output in the following way.\n"
      ]
    },
    {
      "cell_type": "code",
      "metadata": {
        "id": "gNyHE4GuycEn",
        "colab_type": "code",
        "outputId": "1caac357-d91e-434f-ae4a-9830a3755500",
        "colab": {
          "base_uri": "https://localhost:8080/",
          "height": 34
        }
      },
      "source": [
        "#5.1\n",
        "def wordUpperCase(s):\n",
        "  spaceCnt = 0\n",
        "  for x in range(len(s)):\n",
        "    if ord(s[x])==32:\n",
        "      spaceCnt += 1 #spaceCnt = spaceCnt + 1\n",
        "    if spaceCnt == 1:\n",
        "      if ord(s[x])>=65 and ord(s[x])<=90:\n",
        "        print(s[x],end=\"\")\n",
        "      elif ord(s[x])>=97 and ord(s[x]) <=122:\n",
        "        print(chr(ord(s[x])-32),end=\"\")\n",
        "    if spaceCnt ==2:\n",
        "      return\n",
        "wordUpperCase(\"application Testing\")\n",
        "wordUpperCase(\"anil Test app\")"
      ],
      "execution_count": 0,
      "outputs": [
        {
          "output_type": "stream",
          "text": [
            "TESTINGTEST"
          ],
          "name": "stdout"
        }
      ]
    },
    {
      "cell_type": "markdown",
      "metadata": {
        "id": "jHq5q8G8DScd",
        "colab_type": "text"
      },
      "source": [
        "###7.The program must accept an integer N the input. The program must print the desired pattern as shown in the Example Input/Output section."
      ]
    },
    {
      "cell_type": "code",
      "metadata": {
        "id": "TyxehOJ-ygYk",
        "colab_type": "code",
        "outputId": "34cdeea8-7d3c-4439-ec22-470afecec267",
        "colab": {
          "base_uri": "https://localhost:8080/",
          "height": 210
        }
      },
      "source": [
        "#7\n",
        "n=int(input(\"Enter a number:\"))\n",
        "k=0\n",
        "rev=0\n",
        "while(n>0):\n",
        "    dig=n%10\n",
        "    rev=rev*10+dig\n",
        "    n=n//10 \n",
        "n=rev\n",
        "\n",
        "temp = n\n",
        "while n!=0:\n",
        "  \n",
        "  n=n//10\n",
        "  k=k+1\n",
        "  \n",
        "for j in range(k):\n",
        "  r=temp%10\n",
        "  for i in range(1,r+1):\n",
        "    print(\"*\",end=\" \")\n",
        "  print(\"\\n\")\n",
        "  temp=temp//10\n",
        "  "
      ],
      "execution_count": 0,
      "outputs": [
        {
          "output_type": "stream",
          "text": [
            "Enter a number:14957\n",
            "* \n",
            "\n",
            "* * * * \n",
            "\n",
            "* * * * * * * * * \n",
            "\n",
            "* * * * * \n",
            "\n",
            "* * * * * * * \n",
            "\n"
          ],
          "name": "stdout"
        }
      ]
    },
    {
      "cell_type": "markdown",
      "metadata": {
        "id": "JbaLKXuFDY_-",
        "colab_type": "text"
      },
      "source": [
        "###4.The program must accept a string S as the input. The program print the longest word from the string S as the output. If two or more longest words are of same length then consider the first one."
      ]
    },
    {
      "cell_type": "code",
      "metadata": {
        "id": "_gtvozQb_ah0",
        "colab_type": "code",
        "outputId": "76f871c5-41fc-4771-9698-dd39ac1c5c4e",
        "colab": {
          "base_uri": "https://localhost:8080/",
          "height": 70
        }
      },
      "source": [
        "#4 print the largest string in a given string\n",
        "n=input(\"Enter string:\")\n",
        "c1=0\n",
        "c2=0\n",
        "for i in range(len(n)):\n",
        "  if ord(n[i])==32:\n",
        "    spacePos=i\n",
        "for j in range(spacePos):\n",
        "  c1=c1+1\n",
        "for k in range(spacePos+1,len(n)):\n",
        "  c2=c2+1\n",
        "if c1>c2:\n",
        "  for m in range(c1):\n",
        "    print(n[m],end='')\n",
        "elif c2>c1:\n",
        "  for z in range(c1,len(n)):\n",
        "    print(n[z],end='')\n",
        "elif c2==c2:\n",
        "  for y in range(c1):\n",
        "    print(n[y],end='')\n",
        "  "
      ],
      "execution_count": 0,
      "outputs": [
        {
          "output_type": "stream",
          "text": [
            "Enter string:good abad\n",
            "4 4\n",
            "good"
          ],
          "name": "stdout"
        }
      ]
    },
    {
      "cell_type": "markdown",
      "metadata": {
        "id": "DNE2jAiUMPPP",
        "colab_type": "text"
      },
      "source": [
        "###13. Series Generations:-  2 15 41 80 132 197 275 366 470 587"
      ]
    },
    {
      "cell_type": "code",
      "metadata": {
        "id": "j9IHKK5jKzEO",
        "colab_type": "code",
        "outputId": "17456af6-c6a1-4fa8-d468-c73e932884fe",
        "colab": {
          "base_uri": "https://localhost:8080/",
          "height": 34
        }
      },
      "source": [
        "a=2\n",
        "i=1\n",
        "print(a,end=\" \")\n",
        "while i!=10:\n",
        "  b=a+13*i\n",
        "  print(b,end=\" \")\n",
        "  a=b\n",
        "  i=i+1\n",
        "  "
      ],
      "execution_count": 0,
      "outputs": [
        {
          "output_type": "stream",
          "text": [
            "2 15 41 80 132 197 275 366 470 587 "
          ],
          "name": "stdout"
        }
      ]
    },
    {
      "cell_type": "markdown",
      "metadata": {
        "id": "1OA7nikapzZ8",
        "colab_type": "text"
      },
      "source": [
        "###3. The program must accept two string values S1 and S2. The program must print the pattern as shown in the \n",
        "\n",
        "Example Input/Output sections.\n",
        "\n",
        "Boundary Condition(s):\n",
        "\n",
        "1 <= Length of S1, S2 <= 100\n",
        "\n",
        "Example Input/Output 1:\n",
        "\n",
        "Input:\n",
        "\n",
        "bad water\n",
        "\n",
        "Output:\n",
        "\n",
        "bw\n",
        "\n",
        "aa\n",
        "\n",
        "dt\n",
        "\n",
        "*e\n",
        "\n",
        "*r"
      ]
    },
    {
      "cell_type": "code",
      "metadata": {
        "id": "x9otb3DLOuMk",
        "colab_type": "code",
        "colab": {
          "base_uri": "https://localhost:8080/",
          "height": 228
        },
        "outputId": "8d7e7095-f0c7-45d0-c75d-8d624942a4e7"
      },
      "source": [
        "s1=input(\"\")\n",
        "s2=input(\"\")\n",
        "if len(s1)>len(s2):\n",
        "    while(len(s1)!=len(s2)):\n",
        "        s2=s2+\"*\"\n",
        "        a=len(s2)\n",
        "if len(s1)<len(s2):\n",
        "    while(len(s1)!=len(s2)):\n",
        "        s1=s1+\"*\"\n",
        "        a=len(s1)\n",
        "for i in range(a):\n",
        "    print(s1[i],s2[i],\"\\n\")"
      ],
      "execution_count": 4,
      "outputs": [
        {
          "output_type": "stream",
          "text": [
            "hello\n",
            "dad\n",
            "h d \n",
            "\n",
            "e a \n",
            "\n",
            "l d \n",
            "\n",
            "l * \n",
            "\n",
            "o * \n",
            "\n"
          ],
          "name": "stdout"
        }
      ]
    },
    {
      "cell_type": "code",
      "metadata": {
        "id": "RnWCvOfJlnZg",
        "colab_type": "code",
        "colab": {}
      },
      "source": [
        ""
      ],
      "execution_count": 0,
      "outputs": []
    }
  ]
}