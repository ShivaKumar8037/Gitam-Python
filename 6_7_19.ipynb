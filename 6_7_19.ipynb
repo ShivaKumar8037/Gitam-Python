{
  "nbformat": 4,
  "nbformat_minor": 0,
  "metadata": {
    "colab": {
      "name": "6-7-19.ipynb",
      "version": "0.3.2",
      "provenance": [],
      "collapsed_sections": [],
      "include_colab_link": true
    },
    "kernelspec": {
      "name": "python3",
      "display_name": "Python 3"
    }
  },
  "cells": [
    {
      "cell_type": "markdown",
      "metadata": {
        "id": "view-in-github",
        "colab_type": "text"
      },
      "source": [
        "<a href=\"https://colab.research.google.com/github/ShivaKumar8037/Gitam-Python/blob/master/6_7_19.ipynb\" target=\"_parent\"><img src=\"https://colab.research.google.com/assets/colab-badge.svg\" alt=\"Open In Colab\"/></a>"
      ]
    },
    {
      "cell_type": "code",
      "metadata": {
        "id": "9i5UIpLLY_p6",
        "colab_type": "code",
        "outputId": "89ad7c60-db9b-41a8-b6c0-b22c2db26418",
        "colab": {
          "base_uri": "https://localhost:8080/",
          "height": 86
        }
      },
      "source": [
        "#find the largest of three numbers\n",
        "a = int(input(\"Enter number 1:\"))\n",
        "b = int(input(\"Enter number 2:\"))\n",
        "c = int(input(\"Enter number 3:\"))\n",
        "if a>b and a>c:\n",
        "  print(a,\" is the largest\")\n",
        "elif b>a and b>c:\n",
        "  print(b,\" is the largest\")\n",
        "elif c>a and c>b:\n",
        "  print(c,\" is the largest\")\n"
      ],
      "execution_count": 0,
      "outputs": [
        {
          "output_type": "stream",
          "text": [
            "Enter number 1:69\n",
            "Enter number 2:6969\n",
            "Enter number 3:69\n",
            "6969  is the largest\n"
          ],
          "name": "stdout"
        }
      ]
    },
    {
      "cell_type": "code",
      "metadata": {
        "id": "EsaR3I1YaV_6",
        "colab_type": "code",
        "outputId": "e51a23f8-61c6-4dd6-9bfc-6af4f0509baf",
        "colab": {
          "base_uri": "https://localhost:8080/",
          "height": 69
        }
      },
      "source": [
        "#check if a year is leap year or not\n",
        "year = int(input(\"Enter year\\n\"))\n",
        "if year%400 ==0 or (year %100 !=0 and year % 4 ==0):\n",
        "  print(\"It is a leap year\")\n",
        "else:\n",
        "  print(\"Not a leap year\")"
      ],
      "execution_count": 0,
      "outputs": [
        {
          "output_type": "stream",
          "text": [
            "Enter year\n",
            "2016\n",
            "It is a leap year\n"
          ],
          "name": "stdout"
        }
      ]
    },
    {
      "cell_type": "markdown",
      "metadata": {
        "id": "kPIcyaG_dhHm",
        "colab_type": "text"
      },
      "source": [
        "###Iteration\n",
        "- while \n",
        "-for\n",
        "\n",
        "####Syntax:\n",
        "            while Boolean_Condition():\n",
        "                Statements...\n",
        "                Increment/Decrement"
      ]
    },
    {
      "cell_type": "code",
      "metadata": {
        "id": "UNpQ34jMfAj_",
        "colab_type": "code",
        "outputId": "6c9119c5-a20a-4ab7-c43f-aceaa65e2c4b",
        "colab": {
          "base_uri": "https://localhost:8080/",
          "height": 104
        }
      },
      "source": [
        "# to print \"Gitam \" 5 times\n",
        "x=0\n",
        "while x < 5:\n",
        "  print(\"Gitam\")\n",
        "  x=x+1"
      ],
      "execution_count": 0,
      "outputs": [
        {
          "output_type": "stream",
          "text": [
            "Gitam\n",
            "Gitam\n",
            "Gitam\n",
            "Gitam\n",
            "Gitam\n"
          ],
          "name": "stdout"
        }
      ]
    },
    {
      "cell_type": "code",
      "metadata": {
        "id": "WaylQbtPfdov",
        "colab_type": "code",
        "outputId": "58b0cd53-6c8f-4989-f27b-2256f9a9ba53",
        "colab": {
          "base_uri": "https://localhost:8080/",
          "height": 52
        }
      },
      "source": [
        "#print n natural numbers using while loop \n",
        "x=1\n",
        "n = int(input(\"Enter a number:\"))\n",
        "while x<=n:\n",
        "  print(x, end = \" \")\n",
        "  x=x+1"
      ],
      "execution_count": 0,
      "outputs": [
        {
          "output_type": "stream",
          "text": [
            "Enter a number:10\n",
            "1 2 3 4 5 6 7 8 9 10 "
          ],
          "name": "stdout"
        }
      ]
    },
    {
      "cell_type": "code",
      "metadata": {
        "id": "cXXCHpdggu-v",
        "colab_type": "code",
        "outputId": "9985d0b7-3125-4435-a827-7401034dbf9b",
        "colab": {
          "base_uri": "https://localhost:8080/",
          "height": 52
        }
      },
      "source": [
        "#read a number n\n",
        "#add only even num between 1 to n\n",
        "#input -- 10\n",
        "#output -- 30(2 + 4 +6 + 8 + 10)\n",
        "n= int(input(\"Enter a number:\"))\n",
        "i=0\n",
        "sum=0\n",
        "while i<=n:\n",
        "  if i %2 == 0:\n",
        "      sum=sum + i\n",
        "  i=i+1\n",
        "print(sum)"
      ],
      "execution_count": 0,
      "outputs": [
        {
          "output_type": "stream",
          "text": [
            "Enter a number:10\n",
            "30\n"
          ],
          "name": "stdout"
        }
      ]
    },
    {
      "cell_type": "code",
      "metadata": {
        "id": "ESzzXMuOkQkf",
        "colab_type": "code",
        "outputId": "9f388440-c744-4c81-d4d4-23078fa035c1",
        "colab": {
          "base_uri": "https://localhost:8080/",
          "height": 52
        }
      },
      "source": [
        "#number as a number -- 123\n",
        "#print the digits of given number : 321\n",
        "n = int(input(\"Enter a number:\"))\n",
        "while n%10!= 0 :\n",
        "  print(n%10, end = \" \")\n",
        "  n=n//10"
      ],
      "execution_count": 0,
      "outputs": [
        {
          "output_type": "stream",
          "text": [
            "Enter a number:123\n",
            "3 2 1 "
          ],
          "name": "stdout"
        }
      ]
    },
    {
      "cell_type": "markdown",
      "metadata": {
        "id": "lo7bmA6OrV36",
        "colab_type": "text"
      },
      "source": [
        "###Functional Programming\n",
        "- Simple \n",
        " \n",
        "- easy read\n",
        "- Lengthy program divides into sub programs"
      ]
    },
    {
      "cell_type": "code",
      "metadata": {
        "id": "4uEgjQBEnfEv",
        "colab_type": "code",
        "colab": {}
      },
      "source": [
        "def nameoftheFunction(<Parameters>):\n",
        "  Statement\n",
        "  return"
      ],
      "execution_count": 0,
      "outputs": []
    },
    {
      "cell_type": "code",
      "metadata": {
        "id": "_CgrzgNvubbL",
        "colab_type": "code",
        "colab": {
          "base_uri": "https://localhost:8080/",
          "height": 52
        },
        "outputId": "0260bf96-49b2-4768-fe10-626e4169053a"
      },
      "source": [
        "# Read a number -- 1234 \n",
        "# Output -- 6 (2+4)\n",
        "def addEvenDigits(n) :\n",
        "    # Statements to compute the output of the program \n",
        "    sum = 0\n",
        "    while n > 0 : \n",
        "        r = n % 10\n",
        "        if r %2 == 0 :\n",
        "            sum += r\n",
        "        n //= 10\n",
        "    print(sum)\n",
        "    return\n",
        "\n",
        "def main () :\n",
        "    # Statements to compute the output \n",
        "    n = int(input(\"Enter a number : \"))\n",
        "    addEvenDigits(n)\n",
        "\n",
        "if __name__ == \"__main__\":\n",
        "    main()"
      ],
      "execution_count": 1,
      "outputs": [
        {
          "output_type": "stream",
          "text": [
            "Enter a number : 123456\n",
            "12\n"
          ],
          "name": "stdout"
        }
      ]
    },
    {
      "cell_type": "code",
      "metadata": {
        "id": "h1rfZtUIpTvP",
        "colab_type": "code",
        "colab": {
          "base_uri": "https://localhost:8080/",
          "height": 34
        },
        "outputId": "4eb7ce78-f127-4cc3-faf6-4658d166fd7a"
      },
      "source": [
        "x = True \n",
        "if x and False :\n",
        "    print(\"100\")\n",
        "else :\n",
        "    print(\"200\")"
      ],
      "execution_count": 2,
      "outputs": [
        {
          "output_type": "stream",
          "text": [
            "200\n"
          ],
          "name": "stdout"
        }
      ]
    },
    {
      "cell_type": "code",
      "metadata": {
        "id": "pxBRjxdxpYZJ",
        "colab_type": "code",
        "colab": {
          "base_uri": "https://localhost:8080/",
          "height": 52
        },
        "outputId": "1cc25cfc-b808-43fa-c1e6-97aa7d028359"
      },
      "source": [
        "# Read a number -- 19528\n",
        "# Print the large digit print the  number\n",
        "def printLarge(n):\n",
        "    # Program to achieve the given task\n",
        "    large = 0\n",
        "    while n > 0:\n",
        "        r = n % 10\n",
        "        if r > large:\n",
        "            large = r\n",
        "        n //= 10\n",
        "    print(large)\n",
        "\n",
        "def main() :\n",
        "    n = int(input(\"Enter a number : \"))\n",
        "    printLarge(n)\n",
        "\n",
        "if __name__ == \"__main__\":\n",
        "    main()"
      ],
      "execution_count": 3,
      "outputs": [
        {
          "output_type": "stream",
          "text": [
            "Enter a number : 19528\n",
            "9\n"
          ],
          "name": "stdout"
        }
      ]
    },
    {
      "cell_type": "code",
      "metadata": {
        "id": "jD6S-S5gpgbT",
        "colab_type": "code",
        "colab": {
          "base_uri": "https://localhost:8080/",
          "height": 52
        },
        "outputId": "94b9fe21-ef76-4ef9-f05e-c90b38e55d86"
      },
      "source": [
        "# Read a number input \n",
        "# Output reverse of the given number\n",
        "# 123 -- 321\n",
        "def reversenumber(n):\n",
        "    while n > 0 :\n",
        "        r = n % 10\n",
        "        print(r,end=\"\")\n",
        "        n = n//10\n",
        "    return\n",
        "\n",
        "def main() :\n",
        "    n = int(input(\"Enter a number : \"))\n",
        "    reversenumber(n)\n",
        "\n",
        "if __name__ == \"__main__\":\n",
        "    main()\n",
        "    "
      ],
      "execution_count": 4,
      "outputs": [
        {
          "output_type": "stream",
          "text": [
            "Enter a number : 6551824\n",
            "4281556"
          ],
          "name": "stdout"
        }
      ]
    },
    {
      "cell_type": "code",
      "metadata": {
        "id": "m1sjgD0BpoBs",
        "colab_type": "code",
        "colab": {
          "base_uri": "https://localhost:8080/",
          "height": 52
        },
        "outputId": "eec458d7-503e-4839-bf9e-c1cf0f66a149"
      },
      "source": [
        "# Given number is palindrome or not \n",
        "# input \n",
        "# 123 -- 321 -- No\n",
        "# 121 -- 121 -- Yes\n",
        "def isPalindrome(n):\n",
        "    rev = 0\n",
        "    while n > 0 : \n",
        "        r = n % 10\n",
        "        rev = rev * 10 + r\n",
        "        n //= 10\n",
        "    return rev\n",
        "\n",
        "def main():\n",
        "    n = int(input(\"Enter a number : \"))\n",
        "    temp= isPalindrome(n)\n",
        "    if (int(temp)==n):\n",
        "        print(\"'Yes'\")\n",
        "    else :\n",
        "        print(\"'No'\")\n",
        "\n",
        "if __name__ == \"__main__\" :\n",
        "    main()\n",
        "   "
      ],
      "execution_count": 5,
      "outputs": [
        {
          "output_type": "stream",
          "text": [
            "Enter a number : 121\n",
            "'Yes'\n"
          ],
          "name": "stdout"
        }
      ]
    },
    {
      "cell_type": "code",
      "metadata": {
        "id": "p7nB0TQepwbI",
        "colab_type": "code",
        "colab": {
          "base_uri": "https://localhost:8080/",
          "height": 34
        },
        "outputId": "f6188e1b-88b1-40a7-a197-5b47c6a2ad2d"
      },
      "source": [
        "# Function to print N natural numbers with for loop\n",
        "def printNaturalNumbers(n) :\n",
        "    for x in range (1,n+1):\n",
        "        print(x,end=\" \")\n",
        "printNaturalNumbers(10)\n"
      ],
      "execution_count": 6,
      "outputs": [
        {
          "output_type": "stream",
          "text": [
            "1 2 3 4 5 6 7 8 9 10 "
          ],
          "name": "stdout"
        }
      ]
    },
    {
      "cell_type": "code",
      "metadata": {
        "id": "G0O0vOh2pzSU",
        "colab_type": "code",
        "colab": {
          "base_uri": "https://localhost:8080/",
          "height": 34
        },
        "outputId": "60bc0bec-09ad-45da-ed73-903d95916d71"
      },
      "source": [
        "#Function to print the numbers between two limits \n",
        "# input : 11, 25\n",
        "# Output : 11, 12, 13, .............., 25\n",
        "def printSeries (lb,ub):\n",
        "    for x in range (lb,ub+1):\n",
        "        print(x,end= \" \")\n",
        "    return\n",
        "printSeries(11,25)"
      ],
      "execution_count": 7,
      "outputs": [
        {
          "output_type": "stream",
          "text": [
            "11 12 13 14 15 16 17 18 19 20 21 22 23 24 25 "
          ],
          "name": "stdout"
        }
      ]
    },
    {
      "cell_type": "code",
      "metadata": {
        "id": "fb66o0tnp4WV",
        "colab_type": "code",
        "colab": {
          "base_uri": "https://localhost:8080/",
          "height": 34
        },
        "outputId": "def1f503-9fb6-4724-bc51-09a53ea5ab73"
      },
      "source": [
        "# Function to print alternate numbers\n",
        "# [500,520] -- 500 502 504 506 508 .... 520\n",
        "# [100,150] -- 100 104 108 112 116 .... \n",
        "def alternateNumbers(lb,ub):\n",
        "    for x in range (lb,ub+1,4) :\n",
        "        print(x,end = \" \")\n",
        "    return\n",
        "alternateNumbers(100,150)"
      ],
      "execution_count": 8,
      "outputs": [
        {
          "output_type": "stream",
          "text": [
            "100 104 108 112 116 120 124 128 132 136 140 144 148 "
          ],
          "name": "stdout"
        }
      ]
    },
    {
      "cell_type": "code",
      "metadata": {
        "id": "rUChlX4LqB2c",
        "colab_type": "code",
        "colab": {
          "base_uri": "https://localhost:8080/",
          "height": 34
        },
        "outputId": "c9a42a3e-f1ed-4b8a-890b-480a31e068f3"
      },
      "source": [
        "# Function to print the series in reverse\n",
        "# Input -- 1,10...\n",
        "# Output -- 10 9 8 7 ...... 1\n",
        "def reverseRange(start, end) : \n",
        "    for x in range (end, start-1,-1):\n",
        "        print(x,end = \" \")\n",
        "    return\n",
        "reverseRange(1,10)"
      ],
      "execution_count": 9,
      "outputs": [
        {
          "output_type": "stream",
          "text": [
            "10 9 8 7 6 5 4 3 2 1 "
          ],
          "name": "stdout"
        }
      ]
    },
    {
      "cell_type": "code",
      "metadata": {
        "id": "2lgYUOI1qEY2",
        "colab_type": "code",
        "colab": {}
      },
      "source": [
        ""
      ],
      "execution_count": 0,
      "outputs": []
    },
    {
      "cell_type": "markdown",
      "metadata": {
        "id": "I5zEUZVGqIPc",
        "colab_type": "text"
      },
      "source": [
        "###All  NoteBook in this Format\n",
        "-Problem Name\n",
        "\n",
        "-Algorithm\n",
        "\n",
        "-Sample Input and Output\n",
        "\n",
        "-Flowchart\n",
        "\n",
        "-Python Code\n"
      ]
    },
    {
      "cell_type": "code",
      "metadata": {
        "id": "70n_uYXoqRza",
        "colab_type": "code",
        "colab": {}
      },
      "source": [
        ""
      ],
      "execution_count": 0,
      "outputs": []
    }
  ]
}