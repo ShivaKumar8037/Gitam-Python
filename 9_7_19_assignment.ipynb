{
  "nbformat": 4,
  "nbformat_minor": 0,
  "metadata": {
    "colab": {
      "name": "9/7/19 assignment.ipynb",
      "version": "0.3.2",
      "provenance": [],
      "include_colab_link": true
    },
    "kernelspec": {
      "name": "python3",
      "display_name": "Python 3"
    }
  },
  "cells": [
    {
      "cell_type": "markdown",
      "metadata": {
        "id": "view-in-github",
        "colab_type": "text"
      },
      "source": [
        "<a href=\"https://colab.research.google.com/github/ShivaKumar8037/Gitam-Python/blob/master/9_7_19_assignment.ipynb\" target=\"_parent\"><img src=\"https://colab.research.google.com/assets/colab-badge.svg\" alt=\"Open In Colab\"/></a>"
      ]
    },
    {
      "cell_type": "code",
      "metadata": {
        "id": "eH4EWNCCfCLx",
        "colab_type": "code",
        "colab": {
          "base_uri": "https://localhost:8080/",
          "height": 34
        },
        "outputId": "d261f5de-b34f-4b69-c462-e65837ecb1e4"
      },
      "source": [
        "#assignment Question 1\n",
        "def lis(li):\n",
        "  for x in range(len(li)):\n",
        "    print(li[x],end=\"\")\n",
        "  return\n",
        "li=[1,4,5,6,9]\n",
        "    \n",
        "lis(li)"
      ],
      "execution_count": 1,
      "outputs": [
        {
          "output_type": "stream",
          "text": [
            "14569"
          ],
          "name": "stdout"
        }
      ]
    },
    {
      "cell_type": "code",
      "metadata": {
        "id": "JVWvLsOSfJ5T",
        "colab_type": "code",
        "colab": {
          "base_uri": "https://localhost:8080/",
          "height": 34
        },
        "outputId": "7cbeae1e-76fb-451f-ff0a-6154cfae3e11"
      },
      "source": [
        "#assignment question 2\n",
        "def lis(li):\n",
        "  for x in range(len(li)):\n",
        "    if li[x]%2==0:\n",
        "      print(li[x],end=\"\")\n",
        "  return\n",
        "li=[1,4,5,6,9]\n",
        "lis(li)"
      ],
      "execution_count": 2,
      "outputs": [
        {
          "output_type": "stream",
          "text": [
            "46"
          ],
          "name": "stdout"
        }
      ]
    },
    {
      "cell_type": "code",
      "metadata": {
        "id": "shaiBc-ufJwc",
        "colab_type": "code",
        "colab": {
          "base_uri": "https://localhost:8080/",
          "height": 34
        },
        "outputId": "79f24884-a50e-4a98-fe95-2ea4b607fa75"
      },
      "source": [
        "#assignment question 3\n",
        "def lis(li):\n",
        "  for x in range(len(li)):\n",
        "    if li[x]%2==0:\n",
        "      li[x]=li[x]*li[x]\n",
        "  return li\n",
        "li=[1,2,3,4,5] \n",
        "lis(li)"
      ],
      "execution_count": 3,
      "outputs": [
        {
          "output_type": "execute_result",
          "data": {
            "text/plain": [
              "[1, 4, 3, 16, 5]"
            ]
          },
          "metadata": {
            "tags": []
          },
          "execution_count": 3
        }
      ]
    },
    {
      "cell_type": "code",
      "metadata": {
        "id": "6yHzRWlPfJWv",
        "colab_type": "code",
        "colab": {
          "base_uri": "https://localhost:8080/",
          "height": 34
        },
        "outputId": "343c4e6e-5f49-41c3-ad05-bbfd6ab04903"
      },
      "source": [
        "[1,5,6,9,5,3,2,4]#assignment question 4\n",
        "def lis(li):\n",
        "  l2=[]\n",
        "  for x in range(len(li)):\n",
        "    if x==0 or x==len(li)-1:\n",
        "      l2.append(li[x])\n",
        "    else:\n",
        "      l2.append(li[x-1]+li[x])\n",
        "  return l2\n",
        "li=[15,19,12,16,4]\n",
        "lis(li)"
      ],
      "execution_count": 4,
      "outputs": [
        {
          "output_type": "execute_result",
          "data": {
            "text/plain": [
              "[15, 34, 31, 28, 4]"
            ]
          },
          "metadata": {
            "tags": []
          },
          "execution_count": 4
        }
      ]
    },
    {
      "cell_type": "code",
      "metadata": {
        "id": "ppYQgoAzfSD9",
        "colab_type": "code",
        "colab": {}
      },
      "source": [
        ""
      ],
      "execution_count": 0,
      "outputs": []
    }
  ]
}