{
  "nbformat": 4,
  "nbformat_minor": 0,
  "metadata": {
    "colab": {
      "name": "leapyearornot.ipynb",
      "version": "0.3.2",
      "provenance": [],
      "collapsed_sections": [],
      "include_colab_link": true
    },
    "kernelspec": {
      "name": "python3",
      "display_name": "Python 3"
    }
  },
  "cells": [
    {
      "cell_type": "markdown",
      "metadata": {
        "id": "view-in-github",
        "colab_type": "text"
      },
      "source": [
        "<a href=\"https://colab.research.google.com/github/ShivaKumar8037/Gitam-Python/blob/master/leapyearornot.ipynb\" target=\"_parent\"><img src=\"https://colab.research.google.com/assets/colab-badge.svg\" alt=\"Open In Colab\"/></a>"
      ]
    },
    {
      "cell_type": "code",
      "metadata": {
        "id": "iwliVIZuyqe0",
        "colab_type": "code",
        "colab": {
          "base_uri": "https://localhost:8080/",
          "height": 69
        },
        "outputId": "985c5ce2-48ec-407b-d891-164c01aefc7f"
      },
      "source": [
        "year = int(input(\"Enter year\\n\"))\n",
        "if year%4==0 and year %100 !=0:\n",
        "  print(year, \"is a leap year\")\n",
        "elif year % 100 ==0:\n",
        "  print(year, \"is not a leap year\")\n",
        "elif year % 400 ==0:\n",
        "  print(year, \"is a leap year\")\n",
        "else: \n",
        "  print(year,\"is not a Leap year\")"
      ],
      "execution_count": 2,
      "outputs": [
        {
          "output_type": "stream",
          "text": [
            "Enter year\n",
            "2000\n",
            "2000 is not a leap year\n"
          ],
          "name": "stdout"
        }
      ]
    }
  ]
}