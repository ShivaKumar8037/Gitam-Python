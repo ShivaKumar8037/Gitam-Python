{
  "nbformat": 4,
  "nbformat_minor": 0,
  "metadata": {
    "colab": {
      "name": "assignment.ipynb",
      "version": "0.3.2",
      "provenance": [],
      "collapsed_sections": [],
      "include_colab_link": true
    },
    "kernelspec": {
      "name": "python3",
      "display_name": "Python 3"
    }
  },
  "cells": [
    {
      "cell_type": "markdown",
      "metadata": {
        "id": "view-in-github",
        "colab_type": "text"
      },
      "source": [
        "<a href=\"https://colab.research.google.com/github/ShivaKumar8037/Gitam-Python/blob/master/assignment.ipynb\" target=\"_parent\"><img src=\"https://colab.research.google.com/assets/colab-badge.svg\" alt=\"Open In Colab\"/></a>"
      ]
    },
    {
      "cell_type": "code",
      "metadata": {
        "id": "iwliVIZuyqe0",
        "colab_type": "code",
        "colab": {
          "base_uri": "https://localhost:8080/",
          "height": 69
        },
        "outputId": "985c5ce2-48ec-407b-d891-164c01aefc7f"
      },
      "source": [
        "#1Leap year or not\n",
        "year = int(input(\"Enter year\\n\"))\n",
        "if year%4==0 and year %100 !=0:\n",
        "  print(year, \"is a leap year\")\n",
        "elif year % 100 ==0:\n",
        "  print(year, \"is not a leap year\")\n",
        "elif year % 400 ==0:\n",
        "  print(year, \"is a leap year\")\n",
        "else: \n",
        "  print(year,\"is not a Leap year\")"
      ],
      "execution_count": 2,
      "outputs": [
        {
          "output_type": "stream",
          "text": [
            "Enter year\n",
            "2000\n",
            "2000 is not a leap year\n"
          ],
          "name": "stdout"
        }
      ]
    },
    {
      "cell_type": "code",
      "metadata": {
        "id": "jxcKENJN0yVZ",
        "colab_type": "code",
        "colab": {
          "base_uri": "https://localhost:8080/",
          "height": 52
        },
        "outputId": "6216065f-b2c5-4ede-e08a-125f6a4ac1c6"
      },
      "source": [
        "#2Week Day \n",
        "n=int(input(\"Enter week day \"))\n",
        "if n==1:\n",
        "  print(\"Sunday\")\n",
        "elif n==2:\n",
        "  print(\"Monday\")\n",
        "elif n==3:\n",
        "  print(\"Tuesday\")\n",
        "elif n==4:\n",
        "  print(\"Wednesday\")\n",
        "elif n==5:\n",
        "  print(\"Thursday\")\n",
        "elif n==6:\n",
        "  print(\"Friday\")\n",
        "elif n==7:\n",
        "  print(\"Saturday\")\n",
        "else:\n",
        "  print(\"Invalid week number\")\n"
      ],
      "execution_count": 6,
      "outputs": [
        {
          "output_type": "stream",
          "text": [
            "Enter week day 8\n",
            "Invalid week number\n"
          ],
          "name": "stdout"
        }
      ]
    },
    {
      "cell_type": "code",
      "metadata": {
        "id": "fsovz_FO13XK",
        "colab_type": "code",
        "colab": {
          "base_uri": "https://localhost:8080/",
          "height": 86
        },
        "outputId": "7572256e-d17f-4e85-b151-a79787cdcf6a"
      },
      "source": [
        "#3largest of 3 numbers\n",
        "a=int(input(\"Enter num 1:\"))\n",
        "b=int(input(\"Enter num 2:\"))\n",
        "c=int(input(\"Enter num 3:\"))\n",
        "if a>b and a>c:\n",
        "  print(a,\" is largest\")\n",
        "elif b>a and b>c:\n",
        "  print(b,\" is largest\")\n",
        "elif c>a and c>b:\n",
        "  print(c,\" is largest\")"
      ],
      "execution_count": 8,
      "outputs": [
        {
          "output_type": "stream",
          "text": [
            "Enter num 1:8\n",
            "Enter num 2:4\n",
            "Enter num 3:2\n",
            "8  is largest\n"
          ],
          "name": "stdout"
        }
      ]
    },
    {
      "cell_type": "code",
      "metadata": {
        "id": "rfg_TvHt2rk1",
        "colab_type": "code",
        "colab": {
          "base_uri": "https://localhost:8080/",
          "height": 52
        },
        "outputId": "78df329d-9136-4482-988a-cdd12e7ce858"
      },
      "source": [
        "#4Sum of n numbers\n",
        "n = int(input(\"enter a number:\"))\n",
        "sum=0\n",
        "for i in range(n+1):\n",
        "  sum=sum+i\n",
        "print(sum)"
      ],
      "execution_count": 12,
      "outputs": [
        {
          "output_type": "stream",
          "text": [
            "enter a number:10\n",
            "55\n"
          ],
          "name": "stdout"
        }
      ]
    },
    {
      "cell_type": "code",
      "metadata": {
        "id": "03eveG5M3TlQ",
        "colab_type": "code",
        "colab": {
          "base_uri": "https://localhost:8080/",
          "height": 52
        },
        "outputId": "42236088-c625-49a8-fd42-53151ab24dda"
      },
      "source": [
        "#5sum of n odd numbers\n",
        "n = int(input(\"enter a number:\"))\n",
        "sum=0\n",
        "for i in range(1,n+1,2):\n",
        "  sum=sum+i\n",
        "print(\"sum is\",sum)"
      ],
      "execution_count": 13,
      "outputs": [
        {
          "output_type": "stream",
          "text": [
            "enter a number:10\n",
            "25\n"
          ],
          "name": "stdout"
        }
      ]
    },
    {
      "cell_type": "code",
      "metadata": {
        "id": "BYcNI4XN4R1l",
        "colab_type": "code",
        "colab": {
          "base_uri": "https://localhost:8080/",
          "height": 138
        },
        "outputId": "15c16153-8b87-48c8-baec-4162cf73e936"
      },
      "source": [
        "#6sum of given series of numbers and their avg\n",
        "n = int(input(\"Enter a number:\"))\n",
        "sum=0\n",
        "avg=0\n",
        "for i in range(n):\n",
        "  i= int(input(\"enter a number:\"))\n",
        "  sum=sum+i\n",
        "avg=sum/n\n",
        "print(\"sum is \",sum)\n",
        "print(\"avg is \",avg)"
      ],
      "execution_count": 28,
      "outputs": [
        {
          "output_type": "stream",
          "text": [
            "Enter a number:4\n",
            "enter a number:1\n",
            "enter a number:2\n",
            "enter a number:3\n",
            "enter a number:4\n",
            "sum is  10\n",
            "avg is  2.5\n"
          ],
          "name": "stdout"
        }
      ]
    },
    {
      "cell_type": "code",
      "metadata": {
        "id": "G79FKWkS_fEw",
        "colab_type": "code",
        "colab": {}
      },
      "source": [
        ""
      ],
      "execution_count": 0,
      "outputs": []
    },
    {
      "cell_type": "code",
      "metadata": {
        "id": "tcsbHnKs5SCB",
        "colab_type": "code",
        "colab": {
          "base_uri": "https://localhost:8080/",
          "height": 86
        },
        "outputId": "1522845a-8a27-43e2-a117-0a0e944b4477"
      },
      "source": [
        "#7 roots of quadratic equation\n",
        "import math\n",
        "a = int(input(\"Enter coeff of x^2:\"))\n",
        "b = int(input(\"Enter coeff of x:\"))\n",
        "c = int(input(\"Enter constant:\"))\n",
        "p=(-b+math.sqrt(b*b-4*a*c))/2*a\n",
        "q=(-b-math.sqrt(b*b-4*a*c))/2*a\n",
        "if b*b-4*a*c >=0:\n",
        "  print(\"the roots are\",p,q)\n",
        "else:\n",
        "  print(\"roots are imaginary\")\n",
        "  "
      ],
      "execution_count": 18,
      "outputs": [
        {
          "output_type": "stream",
          "text": [
            "Enter coeff of x^2:1\n",
            "Enter coeff of x:5\n",
            "Enter constant:6\n",
            "the roots are -2.0 -3.0\n"
          ],
          "name": "stdout"
        }
      ]
    },
    {
      "cell_type": "code",
      "metadata": {
        "id": "NN4ViRBY6ydR",
        "colab_type": "code",
        "colab": {
          "base_uri": "https://localhost:8080/",
          "height": 104
        },
        "outputId": "6a5597a4-fdb4-49b0-bb3f-816d0fa647fe"
      },
      "source": [
        "#8 divisors of all numbers\n",
        "n = int(input(\"Enter a number:\"))\n",
        "for i in range(1,n+1):\n",
        "  if n%i==0:\n",
        "    print(i)\n",
        "    i=i+1\n",
        "  else:\n",
        "    i=i+1"
      ],
      "execution_count": 24,
      "outputs": [
        {
          "output_type": "stream",
          "text": [
            "Enter a number:8\n",
            "1\n",
            "2\n",
            "4\n",
            "8\n"
          ],
          "name": "stdout"
        }
      ]
    },
    {
      "cell_type": "code",
      "metadata": {
        "id": "m-0je5ZG75Cl",
        "colab_type": "code",
        "colab": {
          "base_uri": "https://localhost:8080/",
          "height": 86
        },
        "outputId": "9e670abf-9869-465c-8374-99f6c199b2d1"
      },
      "source": [
        "#9 Triangle is valid or not\n",
        "a = int(input(\"enter side1:\"))\n",
        "b = int(input(\"enter side2:\"))\n",
        "c = int(input(\"enter side3:\"))\n",
        "if a+b>c or a+c>b or b+c>a:\n",
        "  print(\"Triangle is valid\")\n",
        "else:\n",
        "  print(\"Triangle is not valid\")"
      ],
      "execution_count": 25,
      "outputs": [
        {
          "output_type": "stream",
          "text": [
            "enter side1:3\n",
            "enter side2:3\n",
            "enter side3:3\n",
            "Triangle is valid\n"
          ],
          "name": "stdout"
        }
      ]
    },
    {
      "cell_type": "code",
      "metadata": {
        "id": "_Sz0ga_H8cLH",
        "colab_type": "code",
        "colab": {
          "base_uri": "https://localhost:8080/",
          "height": 52
        },
        "outputId": "e474ada4-f0d6-4bc3-c73b-da1de925c8a7"
      },
      "source": [
        "#10 celsis to f\n",
        "c = int(input(\"Enter Celsius value:\"))\n",
        "f = 1.8 * c +32\n",
        "print(f,\"degrees farh\")"
      ],
      "execution_count": 26,
      "outputs": [
        {
          "output_type": "stream",
          "text": [
            "Enter Celsius value:32\n",
            "89.6 degrees farh\n"
          ],
          "name": "stdout"
        }
      ]
    }
  ]
}