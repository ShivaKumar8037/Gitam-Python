{
  "nbformat": 4,
  "nbformat_minor": 0,
  "metadata": {
    "colab": {
      "name": "12/7/19.ipynb",
      "version": "0.3.2",
      "provenance": [],
      "collapsed_sections": [],
      "include_colab_link": true
    },
    "kernelspec": {
      "name": "python3",
      "display_name": "Python 3"
    }
  },
  "cells": [
    {
      "cell_type": "markdown",
      "metadata": {
        "id": "view-in-github",
        "colab_type": "text"
      },
      "source": [
        "<a href=\"https://colab.research.google.com/github/ShivaKumar8037/Gitam-Python/blob/master/12_7_19.ipynb\" target=\"_parent\"><img src=\"https://colab.research.google.com/assets/colab-badge.svg\" alt=\"Open In Colab\"/></a>"
      ]
    },
    {
      "cell_type": "markdown",
      "metadata": {
        "id": "CIDVMsyaRuh0",
        "colab_type": "text"
      },
      "source": [
        "###Regular Expression\n",
        "- Pattern Matching\n",
        "- Patterns(re) package \n",
        "- Cap symbol(^) is used to represent the start of re\n",
        "- Dollar symbol is used to represent the end of re\n",
        "- [0-9] -->Any digit matching\n",
        "   > two digit number (^[0-9]{2}$) / \n",
        "  \n",
        "  >5 digit number(^[0-9]{5}$)"
      ]
    },
    {
      "cell_type": "markdown",
      "metadata": {
        "id": "meuSs1N4YNSa",
        "colab_type": "text"
      },
      "source": [
        "###Regular Expression for characters\n",
        "- [a-z] --> Any lower case characters\n",
        "- [A-Z] --> Any Upper case characters\n",
        "- ^[a-z]{5}$ --> It accept 5 lower case characters\n",
        "\n",
        "- ^[a-zA-Z]{8}$--> it accepts 8 lower case and Upper case characters\n",
        "\n",
        "- ^[a-zA-Z0-9]{8}$ -> it accepts 8 lower case and Upper case characters\n",
        "and numbers"
      ]
    },
    {
      "cell_type": "code",
      "metadata": {
        "id": "45RHxzCUPr2w",
        "colab_type": "code",
        "colab": {
          "base_uri": "https://localhost:8080/",
          "height": 52
        },
        "outputId": "53f8f740-c01c-4662-ff7e-604dc5594434"
      },
      "source": [
        "#function to test two digit number matching\n",
        "import re                 #this package is used for patttern matching ,re: means Regular expression\n",
        "def twoDigitMatching(n):  # input is a number\n",
        "  pattern='^[0-9]{2}$'    # the pattern for two digit matching\n",
        "  n = str(n)              #converting n into a string so that it can go into the re.match function\n",
        "  if re.match(pattern,n): #here the function uses a pattern and string\n",
        "    return True\n",
        "  return False\n",
        "print(twoDigitMatching(12))  #True\n",
        "print(twoDigitMatching(123)) #false"
      ],
      "execution_count": 1,
      "outputs": [
        {
          "output_type": "stream",
          "text": [
            "True\n",
            "False\n"
          ],
          "name": "stdout"
        }
      ]
    },
    {
      "cell_type": "code",
      "metadata": {
        "id": "YrW5XzduWdXn",
        "colab_type": "code",
        "colab": {
          "base_uri": "https://localhost:8080/",
          "height": 52
        },
        "outputId": "215a10e0-41d8-494a-af10-2b76df235107"
      },
      "source": [
        "#function to define to test username having 8 characters\n",
        "#upper case and lower case\n",
        "import re\n",
        "def testUsername(s):        #input is a string\n",
        "  pattern = '^[a-zA-Z]{8}$' #the pattern for 8 characters (captial and small letters)\n",
        "  if re.match(pattern,s):\n",
        "    return True\n",
        "  return False\n",
        "print(testUsername(\"GitamHYD\"))\n",
        "print(testUsername(\"Gitam696\"))"
      ],
      "execution_count": 2,
      "outputs": [
        {
          "output_type": "stream",
          "text": [
            "True\n",
            "False\n"
          ],
          "name": "stdout"
        }
      ]
    },
    {
      "cell_type": "markdown",
      "metadata": {
        "id": "t6cRP6ZBdXaa",
        "colab_type": "text"
      },
      "source": [
        "###Regular Expression to match the Indian mobile number\n",
        "- 10 Digits\n",
        "- (First Digit will be [6-9]) and remaining 9 digits will be [0-9]\n",
        "- Example: 9988774455\n",
        "- Re:^[6-9][0-9]{9}\n",
        "- Example: 09988774455\n",
        "- Re:^[0][6-9][0-9]{9}$\n",
        "- Example:+919988774455\n",
        "\n",
        "- Re:^[+][9][1][6-9][0-9]{9}$\n",
        "\n"
      ]
    },
    {
      "cell_type": "code",
      "metadata": {
        "id": "N501hyJAaMa7",
        "colab_type": "code",
        "colab": {
          "base_uri": "https://localhost:8080/",
          "height": 52
        },
        "outputId": "b78275d8-2958-4973-8acb-d3fcda6de9e2"
      },
      "source": [
        "#function to match Indian mobile number\n",
        "import re\n",
        "def testNumber(phone):           \n",
        "  pattern = '^[6-9][0-9]{9}$|^[0][6-9][0-9]{9}$|^[+][9][1][6-9][0-9]{9}$' \n",
        "  phone = str(phone)\n",
        "  if re.match(pattern,phone):\n",
        "    return True\n",
        "  return False\n",
        "print(testNumber(8106164914))\n",
        "print(testNumber('+918106164941'))\n"
      ],
      "execution_count": 15,
      "outputs": [
        {
          "output_type": "stream",
          "text": [
            "True\n",
            "True\n"
          ],
          "name": "stdout"
        }
      ]
    },
    {
      "cell_type": "markdown",
      "metadata": {
        "id": "pWFF870Ej7e6",
        "colab_type": "text"
      },
      "source": [
        "- Regular expression to validate the Roll Number\n",
        "  - example:1521A0501\n",
        "  - example:1521A0109\n",
        "  - example:1521A0499\n",
        "- Regualar Expression to validate the password \n",
        "  - Parameters:Len min of 6 characters and max of 15 char\n",
        "  - "
      ]
    },
    {
      "cell_type": "code",
      "metadata": {
        "id": "8AOTj33ndz4F",
        "colab_type": "code",
        "colab": {
          "base_uri": "https://localhost:8080/",
          "height": 70
        },
        "outputId": "5bc6cc2f-42d1-4358-8cc2-af0355160f6d"
      },
      "source": [
        "import re\n",
        "def rollNumber(n):\n",
        "  pattern = '^[1521A0]+[1-9]+[0-9]{2}$'\n",
        "  n=str(n)\n",
        "  if re.match(pattern,n):\n",
        "    return True\n",
        "  return False\n",
        "print(rollNumber('1521A0501'))\n",
        "print(rollNumber('1521A0109'))\n",
        "print(rollNumber('1521A0499'))\n",
        "  "
      ],
      "execution_count": 18,
      "outputs": [
        {
          "output_type": "stream",
          "text": [
            "True\n",
            "True\n",
            "True\n"
          ],
          "name": "stdout"
        }
      ]
    },
    {
      "cell_type": "code",
      "metadata": {
        "id": "1eaWW7oPpYgr",
        "colab_type": "code",
        "colab": {
          "base_uri": "https://localhost:8080/",
          "height": 70
        },
        "outputId": "b45e9215-ff6f-40c2-f7a4-d9a55c73cbe2"
      },
      "source": [
        "import re\n",
        "def password(n):\n",
        "  pattern = '^[A-Za-z0-9@#!]{6,15}$'\n",
        "  n=str(n)\n",
        "  if re.match(pattern,n):\n",
        "    return True\n",
        "  return False\n",
        "print(password('1521A0501'))\n",
        "print(password('Aadsf@!09'))\n",
        "print(password('shiva21+A0499'))"
      ],
      "execution_count": 24,
      "outputs": [
        {
          "output_type": "stream",
          "text": [
            "True\n",
            "True\n",
            "False\n"
          ],
          "name": "stdout"
        }
      ]
    },
    {
      "cell_type": "markdown",
      "metadata": {
        "id": "UzkiScHA0rW8",
        "colab_type": "text"
      },
      "source": [
        "###Email id validation using Regualar Expression\n",
        "- Example:- Username@DomainName.extention\n",
        "- Username:- \n",
        "    - Length will be [6-15]\n",
        "    - No spls characters apart from Underscore(_)\n",
        "    - Should not begin and ends with Underscore(_)\n",
        "    -Characters Set: All digits and lower case\n",
        "  \n",
        "- Domain name:-\n",
        "   - Length will be [3-18]\n",
        "   - No spls characters\n",
        "   - Character set: All digits and lower case\n",
        "- Extension:\n",
        "  - Length will be [2-4]\n",
        "  - No spl characters\n",
        "  - character set:Lower case characters"
      ]
    },
    {
      "cell_type": "code",
      "metadata": {
        "id": "Kj-UYlAYp-Tj",
        "colab_type": "code",
        "colab": {
          "base_uri": "https://localhost:8080/",
          "height": 52
        },
        "outputId": "cd3cfd08-e017-477b-8577-3543be509af6"
      },
      "source": [
        "def emailValidation(email):\n",
        "  pattern='^[0-9a-z][0-9a-z._]{5,14}[@][a-z0-9]{3,18}[.][a-z]{2,4}$'\n",
        "  if re.match(pattern,email):\n",
        "    return True\n",
        "  return False\n",
        "print(emailValidation(\"shivafire@gmail.com\"))\n",
        "print(emailValidation(\"_abcdeflkajfd@gmail.com\"))"
      ],
      "execution_count": 26,
      "outputs": [
        {
          "output_type": "stream",
          "text": [
            "True\n",
            "False\n"
          ],
          "name": "stdout"
        }
      ]
    },
    {
      "cell_type": "markdown",
      "metadata": {
        "id": "a45Y2KX76xKR",
        "colab_type": "text"
      },
      "source": [
        "###Python Turtle"
      ]
    },
    {
      "cell_type": "code",
      "metadata": {
        "id": "Ak4N4fSv327d",
        "colab_type": "code",
        "colab": {}
      },
      "source": [
        "#step 1:make all the turtle package to be imported\n",
        "import turtle\n",
        "#turtle method creates and returns a new object\n",
        "a = turtle.Turtle()\n",
        "#forward() method moves 100 pixles\n",
        "turtle.forward(250)\n",
        "#we are done \n",
        "turtle.done()"
      ],
      "execution_count": 0,
      "outputs": []
    },
    {
      "cell_type": "code",
      "metadata": {
        "id": "Rs3Uo0Be_NJW",
        "colab_type": "code",
        "colab": {}
      },
      "source": [
        "import turtle as tt\n",
        "a1 = tt.Turtle()\n",
        "tt.backward(100)\n",
        "tt.done()"
      ],
      "execution_count": 0,
      "outputs": []
    },
    {
      "cell_type": "code",
      "metadata": {
        "id": "oHfZA3k3-6j8",
        "colab_type": "code",
        "colab": {}
      },
      "source": [
        "#draw a square\n",
        "import turtle as tt\n",
        "a1 = tt.Turtle()\n",
        "a1.forward(150)\n",
        "a1.right(90)\n",
        "a1.forward(150)\n",
        "a1.right(90)\n",
        "a1.forward(150)\n",
        "a1.right(90)\n",
        "a1.forward(150)\n",
        "a1.right(90)"
      ],
      "execution_count": 0,
      "outputs": []
    },
    {
      "cell_type": "code",
      "metadata": {
        "id": "bz5-6D90jVxT",
        "colab_type": "code",
        "colab": {
          "base_uri": "https://localhost:8080/",
          "height": 132
        },
        "outputId": "a85de496-5350-4728-a8ab-7b717906fe45"
      },
      "source": [
        "def reverse(lstoftuple):\n",
        "  return [tup[::-1] for tup in lstoftuple]\n",
        "lstoftuple=[(1,2),(3,4,5),(6,7,8,9)]\n",
        "print(reverse(lstoftuple)"
      ],
      "execution_count": 30,
      "outputs": [
        {
          "output_type": "error",
          "ename": "SyntaxError",
          "evalue": "ignored",
          "traceback": [
            "\u001b[0;36m  File \u001b[0;32m\"<ipython-input-30-9ab674b6d760>\"\u001b[0;36m, line \u001b[0;32m4\u001b[0m\n\u001b[0;31m    print(reverse(lstoftuple)\u001b[0m\n\u001b[0m                             ^\u001b[0m\n\u001b[0;31mSyntaxError\u001b[0m\u001b[0;31m:\u001b[0m unexpected EOF while parsing\n"
          ]
        }
      ]
    },
    {
      "cell_type": "code",
      "metadata": {
        "id": "C_Vy9nr1jcYR",
        "colab_type": "code",
        "colab": {}
      },
      "source": [
        ""
      ],
      "execution_count": 0,
      "outputs": []
    }
  ]
}