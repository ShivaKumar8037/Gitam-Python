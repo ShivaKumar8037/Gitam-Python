{
  "nbformat": 4,
  "nbformat_minor": 0,
  "metadata": {
    "colab": {
      "name": "11/7/19.ipynb",
      "version": "0.3.2",
      "provenance": [],
      "collapsed_sections": [],
      "include_colab_link": true
    },
    "kernelspec": {
      "name": "python3",
      "display_name": "Python 3"
    }
  },
  "cells": [
    {
      "cell_type": "markdown",
      "metadata": {
        "id": "view-in-github",
        "colab_type": "text"
      },
      "source": [
        "<a href=\"https://colab.research.google.com/github/ShivaKumar8037/Gitam-Python/blob/master/11_7_19.ipynb\" target=\"_parent\"><img src=\"https://colab.research.google.com/assets/colab-badge.svg\" alt=\"Open In Colab\"/></a>"
      ]
    },
    {
      "cell_type": "markdown",
      "metadata": {
        "id": "Sijy2XRaJAT-",
        "colab_type": "text"
      },
      "source": [
        "###Standard Libraries\n",
        "- File I/O\n",
        "- Regual Expression\n",
        "- Datetime\n",
        "- Math(Numberical and Mathematical)\n",
        "### File Handling in Python\n",
        "- File :- Document contaning information resides on the permanent storage\n",
        "- Different types of files :- txt,doc,pdf,csv and etc..\n",
        "- Input -- Keyboard\n",
        "- Output -- File\n",
        "###Modes of the File I/P\n",
        "- 'w' -- This mode is used to file writing\n",
        " \n",
        " -- If the file is not present first it creates the file and write some date to it\n",
        "\n",
        " -- if the file is already present then it will rewrite the previous content(previous data is lost and new data will be there)"
      ]
    },
    {
      "cell_type": "code",
      "metadata": {
        "id": "_oWPhJhPI_Nk",
        "colab_type": "code",
        "colab": {
          "base_uri": "https://localhost:8080/",
          "height": 34
        },
        "outputId": "cbb95255-e85a-48c5-e5a5-ef43a5015f26"
      },
      "source": [
        "#Function to create a file and write to the file\n",
        "def createFile(filename):\n",
        "  f = open(filename,'w')#If the file is not present first it creates the file and write some date to it\n",
        "  for i in range(10):\n",
        "    f.write('This is %d Line\\n'%i)\n",
        "  print(\"File is created and data has written\")\n",
        "  return\n",
        "createFile('file1.txt')"
      ],
      "execution_count": 12,
      "outputs": [
        {
          "output_type": "stream",
          "text": [
            "File is created and data has written\n"
          ],
          "name": "stdout"
        }
      ]
    },
    {
      "cell_type": "code",
      "metadata": {
        "id": "UNk8OCWVL7PC",
        "colab_type": "code",
        "colab": {
          "base_uri": "https://localhost:8080/",
          "height": 34
        },
        "outputId": "a3971fa5-03c1-446d-e565-856973c7a460"
      },
      "source": [
        "ls #the file exists on virtual computer not on local computer"
      ],
      "execution_count": 9,
      "outputs": [
        {
          "output_type": "stream",
          "text": [
            "file1.txt  file2.txt  \u001b[0m\u001b[01;34msample_data\u001b[0m/\n"
          ],
          "name": "stdout"
        }
      ]
    },
    {
      "cell_type": "code",
      "metadata": {
        "id": "tG9_yp4wMc8l",
        "colab_type": "code",
        "colab": {
          "base_uri": "https://localhost:8080/",
          "height": 193
        },
        "outputId": "7b304264-801b-45f4-8adf-2912feea240d"
      },
      "source": [
        "cat file1.txt"
      ],
      "execution_count": 13,
      "outputs": [
        {
          "output_type": "stream",
          "text": [
            "This is 0 Line\n",
            "This is 1 Line\n",
            "This is 2 Line\n",
            "This is 3 Line\n",
            "This is 4 Line\n",
            "This is 5 Line\n",
            "This is 6 Line\n",
            "This is 7 Line\n",
            "This is 8 Line\n",
            "This is 9 Line\n"
          ],
          "name": "stdout"
        }
      ]
    },
    {
      "cell_type": "code",
      "metadata": {
        "id": "YtcRgbOXN44f",
        "colab_type": "code",
        "colab": {
          "base_uri": "https://localhost:8080/",
          "height": 34
        },
        "outputId": "74e760ce-05c0-4d2a-ea1e-caae57cc2690"
      },
      "source": [
        "def createFile(filename):\n",
        "  f = open(filename,'w')  \n",
        "  f.write('Testing...\\n')\n",
        "  print(\"File is created and data has written\")\n",
        "  return\n",
        "createFile('file1.txt')"
      ],
      "execution_count": 16,
      "outputs": [
        {
          "output_type": "stream",
          "text": [
            "File is created and data has written\n"
          ],
          "name": "stdout"
        }
      ]
    },
    {
      "cell_type": "code",
      "metadata": {
        "id": "zYbRS9jXPvXe",
        "colab_type": "code",
        "colab": {
          "base_uri": "https://localhost:8080/",
          "height": 34
        },
        "outputId": "a5ae6b60-8c3d-4768-87cd-5356b93778cf"
      },
      "source": [
        "cat file1.txt"
      ],
      "execution_count": 17,
      "outputs": [
        {
          "output_type": "stream",
          "text": [
            "Testing...\n"
          ],
          "name": "stdout"
        }
      ]
    },
    {
      "cell_type": "code",
      "metadata": {
        "id": "Mz9wtdtLQBTO",
        "colab_type": "code",
        "colab": {
          "base_uri": "https://localhost:8080/",
          "height": 34
        },
        "outputId": "53b844f6-ede3-49b9-c6ba-f96c699da2d5"
      },
      "source": [
        "def appendData(filename):\n",
        "  f = open(filename,'a')\n",
        "  for i in range(10):\n",
        "    f.write(\"This is %d line\\n\" %i)\n",
        "  print(\"File Created and Successfully data writtten\")\n",
        "  return\n",
        "appendData(\"file2.txt\")\n"
      ],
      "execution_count": 25,
      "outputs": [
        {
          "output_type": "stream",
          "text": [
            "File Created and Successfully data writtten\n"
          ],
          "name": "stdout"
        }
      ]
    },
    {
      "cell_type": "code",
      "metadata": {
        "id": "5sEkL4l6TU4i",
        "colab_type": "code",
        "colab": {
          "base_uri": "https://localhost:8080/",
          "height": 193
        },
        "outputId": "cda0dfe8-015c-44e2-a375-d4eae9eac4e1"
      },
      "source": [
        "cat file2.txt"
      ],
      "execution_count": 26,
      "outputs": [
        {
          "output_type": "stream",
          "text": [
            "This is 0 line\n",
            "This is 1 line\n",
            "This is 2 line\n",
            "This is 3 line\n",
            "This is 4 line\n",
            "This is 5 line\n",
            "This is 6 line\n",
            "This is 7 line\n",
            "This is 8 line\n",
            "This is 9 line\n"
          ],
          "name": "stdout"
        }
      ]
    },
    {
      "cell_type": "code",
      "metadata": {
        "id": "DxE7182ESYVy",
        "colab_type": "code",
        "colab": {
          "base_uri": "https://localhost:8080/",
          "height": 34
        },
        "outputId": "c8b3cb3f-ed1d-4614-94c6-75ca736856a8"
      },
      "source": [
        "def appendData(filename):\n",
        "  f = open(filename,'a')#'a' stands for append it doesn't overwrite previous data is just adds\n",
        "  f.write(\"New Line1\\n\")\n",
        "  f.write(\"New Line2\\n\")\n",
        "  print(\"File Created and Successfully data writtten\")\n",
        "  f.close()\n",
        "  return\n",
        "appendData(\"file2.txt\")\n"
      ],
      "execution_count": 32,
      "outputs": [
        {
          "output_type": "stream",
          "text": [
            "File Created and Successfully data writtten\n"
          ],
          "name": "stdout"
        }
      ]
    },
    {
      "cell_type": "code",
      "metadata": {
        "id": "LFrOm7YrS-UZ",
        "colab_type": "code",
        "colab": {
          "base_uri": "https://localhost:8080/",
          "height": 298
        },
        "outputId": "e0fc38f6-d280-4e94-c247-226d359e11ef"
      },
      "source": [
        "cat file2.txt\n",
        "#the output prints \"New line 1\" and\"New line 2\" many times because I executed\n",
        "#the append function many times"
      ],
      "execution_count": 34,
      "outputs": [
        {
          "output_type": "stream",
          "text": [
            "This is 0 line\n",
            "This is 1 line\n",
            "This is 2 line\n",
            "This is 3 line\n",
            "This is 4 line\n",
            "This is 5 line\n",
            "This is 6 line\n",
            "This is 7 line\n",
            "This is 8 line\n",
            "This is 9 line\n",
            "New Line1\n",
            "New Line2\n",
            "New Line1\n",
            "New Line2\n",
            "New Line1\n",
            "New Line2\n"
          ],
          "name": "stdout"
        }
      ]
    },
    {
      "cell_type": "code",
      "metadata": {
        "id": "3cuwBC_nTBAq",
        "colab_type": "code",
        "colab": {
          "base_uri": "https://localhost:8080/",
          "height": 316
        },
        "outputId": "0ec2d482-1a60-47c5-9a1e-226f80aa25dc"
      },
      "source": [
        "#Function to read the file\n",
        "def readFileData(filename):\n",
        "  f = open(filename,'r')\n",
        "  if f.mode == 'r':\n",
        "    x=f.read()\n",
        "    print(x)\n",
        "  f.close()\n",
        "  return\n",
        "readFileData('file2.txt')\n",
        "    "
      ],
      "execution_count": 33,
      "outputs": [
        {
          "output_type": "stream",
          "text": [
            "This is 0 line\n",
            "This is 1 line\n",
            "This is 2 line\n",
            "This is 3 line\n",
            "This is 4 line\n",
            "This is 5 line\n",
            "This is 6 line\n",
            "This is 7 line\n",
            "This is 8 line\n",
            "This is 9 line\n",
            "New Line1\n",
            "New Line2\n",
            "New Line1\n",
            "New Line2\n",
            "New Line1\n",
            "New Line2\n",
            "\n"
          ],
          "name": "stdout"
        }
      ]
    },
    {
      "cell_type": "code",
      "metadata": {
        "id": "ZoZvdNn_VRwY",
        "colab_type": "code",
        "colab": {
          "base_uri": "https://localhost:8080/",
          "height": 70
        },
        "outputId": "29d41249-aa7e-4c4c-8261-45245997f296"
      },
      "source": [
        "#Function to read the File\n",
        "def fileOperations(filename,mode):\n",
        "  with open(filename,mode) as f:\n",
        "    if f.mode == 'r':\n",
        "      data = f.read()\n",
        "      print(data)\n",
        "    elif f.mode == 'a':\n",
        "      f.write('Data to the file')\n",
        "      print(\"The Data successfully written\")\n",
        "  f.close()\n",
        "  return\n",
        "filename = input('Enter the file name:')\n",
        "mode = input('Enter the mode of the file:')\n",
        "fileOperations(filename,mode)"
      ],
      "execution_count": 41,
      "outputs": [
        {
          "output_type": "stream",
          "text": [
            "Enter the file name:data.txt\n",
            "Enter the mode of the file:a\n",
            "The Data successfully written\n"
          ],
          "name": "stdout"
        }
      ]
    },
    {
      "cell_type": "code",
      "metadata": {
        "id": "8BdymlIDXlYk",
        "colab_type": "code",
        "colab": {
          "base_uri": "https://localhost:8080/",
          "height": 34
        },
        "outputId": "5bb29dda-372a-4efb-e7ec-418845e5e4c4"
      },
      "source": [
        "cat data.txt"
      ],
      "execution_count": 42,
      "outputs": [
        {
          "output_type": "stream",
          "text": [
            "Data to the file"
          ],
          "name": "stdout"
        }
      ]
    },
    {
      "cell_type": "code",
      "metadata": {
        "id": "PnukjfVGY17z",
        "colab_type": "code",
        "colab": {
          "base_uri": "https://localhost:8080/",
          "height": 70
        },
        "outputId": "7a015365-5860-46d0-e5df-f6991e3673bf"
      },
      "source": [
        "#continuation of previous program by given input read'r' this time\n",
        "def fileOperations(filename,mode):\n",
        "  with open(filename,mode) as f:\n",
        "    if f.mode == 'r':\n",
        "      data = f.read()\n",
        "      print(data)\n",
        "    elif f.mode == 'a':\n",
        "      f.write('Data to the file')\n",
        "      print(\"The Data successfully written\")\n",
        "  f.close()\n",
        "  return\n",
        "filename = input('Enter the file name:')\n",
        "mode = input('Enter the mode of the file:')\n",
        "fileOperations(filename,mode)"
      ],
      "execution_count": 43,
      "outputs": [
        {
          "output_type": "stream",
          "text": [
            "Enter the file name:data.txt\n",
            "Enter the mode of the file:r\n",
            "Data to the file\n"
          ],
          "name": "stdout"
        }
      ]
    },
    {
      "cell_type": "code",
      "metadata": {
        "id": "2_xDv-R8Y5Ff",
        "colab_type": "code",
        "colab": {
          "base_uri": "https://localhost:8080/",
          "height": 70
        },
        "outputId": "8804c6f6-95c2-455f-d956-0f7e299cd8f6"
      },
      "source": [
        "#Data Analysis .. v.v.imp for Data Sciences\n",
        "#Word Count Program\n",
        "def wordCount(filename,word):\n",
        "  with open(filename,'r') as f:\n",
        "    if f.mode == 'r':\n",
        "      x = f.read()#x in sting --if x is converted to list list.count(word)\n",
        "      li = x.split()#it splits the string with with spaces\n",
        "  cnt = li.count(word)\n",
        "  return cnt\n",
        "filename = input(\"Enter the file name:\")\n",
        "word = input(\"Enter the word:\")#which word count you need\n",
        "wordCount(filename,word)"
      ],
      "execution_count": 45,
      "outputs": [
        {
          "output_type": "stream",
          "text": [
            "Enter the file name:file2.txt\n",
            "Enter the word:This\n"
          ],
          "name": "stdout"
        },
        {
          "output_type": "execute_result",
          "data": {
            "text/plain": [
              "10"
            ]
          },
          "metadata": {
            "tags": []
          },
          "execution_count": 45
        }
      ]
    },
    {
      "cell_type": "code",
      "metadata": {
        "id": "t1S-anA8eYXJ",
        "colab_type": "code",
        "colab": {
          "base_uri": "https://localhost:8080/",
          "height": 52
        },
        "outputId": "8314c560-2732-418d-e25b-eea4ef0f9ae3"
      },
      "source": [
        "#character count from the given file\n",
        "def charCount(filename):\n",
        "  with open(filename,'r') as f:\n",
        "    if f.mode == 'r':\n",
        "      x = f.read()#x in sting --if x is converted to list list.count(word)\n",
        "      li = list(x)\n",
        "  return len(li)\n",
        "filename = input(\"Enter the file name:\")\n",
        "charCount(filename)\n"
      ],
      "execution_count": 68,
      "outputs": [
        {
          "output_type": "stream",
          "text": [
            "Enter the file name:file2.txt\n"
          ],
          "name": "stdout"
        },
        {
          "output_type": "execute_result",
          "data": {
            "text/plain": [
              "210"
            ]
          },
          "metadata": {
            "tags": []
          },
          "execution_count": 68
        }
      ]
    },
    {
      "cell_type": "code",
      "metadata": {
        "id": "wo-_WL5HrOT2",
        "colab_type": "code",
        "colab": {
          "base_uri": "https://localhost:8080/",
          "height": 52
        },
        "outputId": "e1e867ba-8895-4a22-b6cc-6bdb6508868b"
      },
      "source": [
        "#function to find the no of lines inthe input file\n",
        "#input -- filename(filename.txt)\n",
        "#output -- no of lines\n",
        "def lineCount(filename):\n",
        "  with open(filename,'r') as f:\n",
        "    if f.mode == 'r':\n",
        "      x = f.read()#x in sting --if x is converted to list list.count(word)\n",
        "      l = x.split('\\n')#it splits the string with with new lines\n",
        "  return len(l)\n",
        "filename = input(\"Enter the file name:\")\n",
        "lineCount(filename)"
      ],
      "execution_count": 79,
      "outputs": [
        {
          "output_type": "stream",
          "text": [
            "Enter the file name:file2.txt\n"
          ],
          "name": "stdout"
        },
        {
          "output_type": "execute_result",
          "data": {
            "text/plain": [
              "17"
            ]
          },
          "metadata": {
            "tags": []
          },
          "execution_count": 79
        }
      ]
    },
    {
      "cell_type": "code",
      "metadata": {
        "id": "0HY4qnTOrOD2",
        "colab_type": "code",
        "colab": {
          "base_uri": "https://localhost:8080/",
          "height": 52
        },
        "outputId": "09c02474-823e-4efa-f8f0-07a65db0f580"
      },
      "source": [
        "#function to print the Upper and lower characters\n",
        "def caseCount(filename):\n",
        "  cntUpper=0\n",
        "  cntLower=0\n",
        "  with open(filename,'r') as f:\n",
        "    if f.mode == 'r':\n",
        "      x = f.read()\n",
        "      li = list(x)\n",
        "  for i in li:\n",
        "    if i.isupper():#isupper() if it is upper then it return True else False\n",
        "      cntUpper+=1 #Increment in count of Upper case character\n",
        "    elif i.islower():\n",
        "      cntLower+=1\n",
        "  output = \"Upper Case = {0},Lower Case = {1}\".format(cntUpper,cntLower)\n",
        "  return output\n",
        "filename = input(\"Enter the filename:\")\n",
        "caseCount(filename)"
      ],
      "execution_count": 80,
      "outputs": [
        {
          "output_type": "stream",
          "text": [
            "Enter the filename:file2.txt\n"
          ],
          "name": "stdout"
        },
        {
          "output_type": "execute_result",
          "data": {
            "text/plain": [
              "'Upper Case = 22,Lower Case = 120'"
            ]
          },
          "metadata": {
            "tags": []
          },
          "execution_count": 80
        }
      ]
    },
    {
      "cell_type": "markdown",
      "metadata": {
        "id": "ShuwRWoTz_7J",
        "colab_type": "text"
      },
      "source": [
        "###math,random,os\n",
        "- os package contains certain methods which works with OS"
      ]
    },
    {
      "cell_type": "code",
      "metadata": {
        "id": "Qt9WOdeyv04Y",
        "colab_type": "code",
        "colab": {
          "base_uri": "https://localhost:8080/",
          "height": 34
        },
        "outputId": "982aba51-9802-48a2-eb6f-b0886b7dacae"
      },
      "source": [
        "ls"
      ],
      "execution_count": 81,
      "outputs": [
        {
          "output_type": "stream",
          "text": [
            "data.txt  file1.txt  file2.txt  file3.txt  \u001b[0m\u001b[01;34msample_data\u001b[0m/\n"
          ],
          "name": "stdout"
        }
      ]
    },
    {
      "cell_type": "code",
      "metadata": {
        "id": "kgo0qVLJ17XJ",
        "colab_type": "code",
        "colab": {}
      },
      "source": [
        "import os\n",
        "os.listdir('Git/')"
      ],
      "execution_count": 0,
      "outputs": []
    },
    {
      "cell_type": "markdown",
      "metadata": {
        "id": "Brf2LVPO430C",
        "colab_type": "text"
      },
      "source": [
        "- Older version Python -- os.listdir()\n",
        "- New Version Python -- os.scandir() and pathlib.Path()\n"
      ]
    },
    {
      "cell_type": "code",
      "metadata": {
        "id": "POgG81212PdT",
        "colab_type": "code",
        "colab": {}
      },
      "source": [
        "'''\n",
        "os.scandir('Git/')\n",
        "for i in li:\n",
        "  print(i)\n",
        "\n",
        "from pathlib import Path\n",
        "li = Path('Git/')\n",
        "for i in li.iterdir():\n",
        "  print(i.name)#to print only name of the file\n",
        "  \n",
        "'''"
      ],
      "execution_count": 0,
      "outputs": []
    },
    {
      "cell_type": "markdown",
      "metadata": {
        "id": "VG_9siWaLLoL",
        "colab_type": "text"
      },
      "source": [
        "###Listing all files in a Directory"
      ]
    },
    {
      "cell_type": "code",
      "metadata": {
        "id": "sOyXlj1p7hgL",
        "colab_type": "code",
        "colab": {}
      },
      "source": [
        "'''\n",
        "import os\n",
        "dirPath = \"Git/\"\n",
        "for i in os.listdir(dirPath):\n",
        "  if os.path.isfile(os.path.join(dirPath,i)):\n",
        "    print(i)\n",
        "  \n",
        "\n",
        "'''  \n",
        "  \n"
      ],
      "execution_count": 0,
      "outputs": []
    },
    {
      "cell_type": "code",
      "metadata": {
        "id": "yvVm6Ip4OLAB",
        "colab_type": "code",
        "colab": {}
      },
      "source": [
        "mkdir PythonProg"
      ],
      "execution_count": 0,
      "outputs": []
    },
    {
      "cell_type": "code",
      "metadata": {
        "id": "FJRiwC7QOMts",
        "colab_type": "code",
        "colab": {
          "base_uri": "https://localhost:8080/",
          "height": 34
        },
        "outputId": "66b00952-9acc-4fd2-a646-1f16b4c3f936"
      },
      "source": [
        "ls\n"
      ],
      "execution_count": 90,
      "outputs": [
        {
          "output_type": "stream",
          "text": [
            "data.txt  file1.txt  file2.txt  file3.txt  \u001b[0m\u001b[01;34mPythonProg\u001b[0m/  \u001b[01;34msample_data\u001b[0m/\n"
          ],
          "name": "stdout"
        }
      ]
    },
    {
      "cell_type": "code",
      "metadata": {
        "id": "p4FqOzEsONnw",
        "colab_type": "code",
        "colab": {}
      },
      "source": [
        "mkdir Git "
      ],
      "execution_count": 0,
      "outputs": []
    },
    {
      "cell_type": "code",
      "metadata": {
        "id": "iI0aXmM-ORDS",
        "colab_type": "code",
        "colab": {
          "base_uri": "https://localhost:8080/",
          "height": 34
        },
        "outputId": "3d09e81e-e2d8-428a-e1ec-9ede4ffec57d"
      },
      "source": [
        "ls\n"
      ],
      "execution_count": 92,
      "outputs": [
        {
          "output_type": "stream",
          "text": [
            "data.txt  file1.txt  file2.txt  file3.txt  \u001b[0m\u001b[01;34mGit\u001b[0m/  \u001b[01;34mPythonProg\u001b[0m/  \u001b[01;34msample_data\u001b[0m/\n"
          ],
          "name": "stdout"
        }
      ]
    },
    {
      "cell_type": "code",
      "metadata": {
        "id": "fdrugdRoOaDd",
        "colab_type": "code",
        "colab": {
          "base_uri": "https://localhost:8080/",
          "height": 34
        },
        "outputId": "b867089e-c051-4047-954b-cd25d5772f95"
      },
      "source": [
        "cd Git\n"
      ],
      "execution_count": 96,
      "outputs": [
        {
          "output_type": "stream",
          "text": [
            "/content/PythonProg/Git\n"
          ],
          "name": "stdout"
        }
      ]
    },
    {
      "cell_type": "code",
      "metadata": {
        "id": "7hqqEPdNOdbv",
        "colab_type": "code",
        "colab": {}
      },
      "source": [
        "ls"
      ],
      "execution_count": 0,
      "outputs": []
    },
    {
      "cell_type": "code",
      "metadata": {
        "id": "F4Hp4WYGOoS1",
        "colab_type": "code",
        "colab": {
          "base_uri": "https://localhost:8080/",
          "height": 34
        },
        "outputId": "1f8af129-5df5-47fe-f692-264f088dc7ce"
      },
      "source": [
        "cd .. "
      ],
      "execution_count": 99,
      "outputs": [
        {
          "output_type": "stream",
          "text": [
            "/content/PythonProg\n"
          ],
          "name": "stdout"
        }
      ]
    },
    {
      "cell_type": "code",
      "metadata": {
        "id": "6_QquEglOp9H",
        "colab_type": "code",
        "colab": {}
      },
      "source": [
        "import os\n",
        "dirPath = \"Git/\"\n",
        "for i in os.listdir(dirPath):\n",
        "  if os.path.isfile(os.path.join(dirPath,i)):\n",
        "    print(i)"
      ],
      "execution_count": 0,
      "outputs": []
    },
    {
      "cell_type": "code",
      "metadata": {
        "id": "qeGh57Z4Ow_x",
        "colab_type": "code",
        "colab": {
          "base_uri": "https://localhost:8080/",
          "height": 34
        },
        "outputId": "866c2c0b-0dfa-4750-a4de-a4f87ea777f1"
      },
      "source": [
        "pwd"
      ],
      "execution_count": 103,
      "outputs": [
        {
          "output_type": "execute_result",
          "data": {
            "text/plain": [
              "'/content/PythonProg'"
            ]
          },
          "metadata": {
            "tags": []
          },
          "execution_count": 103
        }
      ]
    },
    {
      "cell_type": "code",
      "metadata": {
        "id": "n-k1R0pBPKSc",
        "colab_type": "code",
        "colab": {}
      },
      "source": [
        "'''\n",
        "dirPath='Git/'\n",
        "with os.scandir(dirPath) as f:\n",
        "  for i in f:\n",
        "    if i.is_file():\n",
        "      print(i.name)\n",
        "'''      "
      ],
      "execution_count": 0,
      "outputs": []
    },
    {
      "cell_type": "markdown",
      "metadata": {
        "id": "5hA6fRcJRfK6",
        "colab_type": "text"
      },
      "source": [
        "###Listing Subdirectories\n"
      ]
    },
    {
      "cell_type": "code",
      "metadata": {
        "id": "rQ8Vxio0RjG4",
        "colab_type": "code",
        "colab": {}
      },
      "source": [
        "'''\n",
        "dirPath = 'Git/'\n",
        "for i in os.listdir(dirPath):\n",
        "  if os.path.isdir(os.path.join(dirPath,i)):\n",
        "    print(i)\n",
        "    \n",
        "    \n",
        "from pathlib from Path\n",
        "dirPath = Path('Git/')\n",
        "for i in dirPath.iterdir():\n",
        "  if i.is_dir():\n",
        "    print(i.name)\n",
        "    \n",
        "dirPath = 'Git/'\n",
        "with os.scandir(dirPath) as f:\n",
        "  for i in f:\n",
        "    if i.is_dir():\n",
        "      print(i.name)\n",
        "'''"
      ],
      "execution_count": 0,
      "outputs": []
    },
    {
      "cell_type": "markdown",
      "metadata": {
        "id": "1eeD1tmwTvXP",
        "colab_type": "text"
      },
      "source": [
        "###Creating a Single Directory"
      ]
    },
    {
      "cell_type": "code",
      "metadata": {
        "id": "DlSUWQsATzK7",
        "colab_type": "code",
        "colab": {}
      },
      "source": [
        "'''\n",
        "os.mkdir('SingleDirectory')\n",
        "\n",
        "\n",
        "import pathlib\n",
        "p = pathlib.Path('TestFolder')\n",
        "p.mkdir()\n",
        "\n",
        "\n",
        "'''"
      ],
      "execution_count": 0,
      "outputs": []
    },
    {
      "cell_type": "markdown",
      "metadata": {
        "id": "UKYSs5-QXnMu",
        "colab_type": "text"
      },
      "source": [
        "###Creating Multiple Directories"
      ]
    },
    {
      "cell_type": "code",
      "metadata": {
        "id": "OunIeTxVXrIF",
        "colab_type": "code",
        "colab": {}
      },
      "source": [
        "'''\n",
        "import os\n",
        "os.makedir('2019/July/11')\n",
        "'''"
      ],
      "execution_count": 0,
      "outputs": []
    },
    {
      "cell_type": "markdown",
      "metadata": {
        "id": "YjHb2euPYRzA",
        "colab_type": "text"
      },
      "source": [
        "###Filename Pattern Matching"
      ]
    },
    {
      "cell_type": "code",
      "metadata": {
        "id": "VkaMyF6KYQKr",
        "colab_type": "code",
        "colab": {}
      },
      "source": [
        "'''\n",
        "import os\n",
        "dirPath = 'Git/'\n",
        "for f_name in os.listdir(dirPath):\n",
        "  if f_name.endswitch('.ipynb'):\n",
        "    print(f_name)\n",
        "    \n",
        "import os\n",
        "dirPath = 'Git/'\n",
        "for f_name in os.listdir(dirPath):\n",
        "  if f_name.startswitch('05'):\n",
        "    print(f_name)\n",
        "'''"
      ],
      "execution_count": 0,
      "outputs": []
    },
    {
      "cell_type": "markdown",
      "metadata": {
        "id": "U9DdA9rYfz8B",
        "colab_type": "text"
      },
      "source": [
        "###Regular Expressions\n",
        "- Used to do specific Pattern matching\n",
        "- Symbolic notations of Pattern\n",
        "    - Patterns(RE) represents set of the values\n",
        "- [0-9]"
      ]
    },
    {
      "cell_type": "code",
      "metadata": {
        "id": "wVKr-ypff4Vo",
        "colab_type": "code",
        "colab": {
          "base_uri": "https://localhost:8080/",
          "height": 34
        },
        "outputId": "0fcc9f99-7d94-47cd-8c4e-254b3ce883be"
      },
      "source": [
        "num= -4\n",
        "-num"
      ],
      "execution_count": 113,
      "outputs": [
        {
          "output_type": "execute_result",
          "data": {
            "text/plain": [
              "4"
            ]
          },
          "metadata": {
            "tags": []
          },
          "execution_count": 113
        }
      ]
    },
    {
      "cell_type": "code",
      "metadata": {
        "id": "YdSMS8BzlgD9",
        "colab_type": "code",
        "colab": {}
      },
      "source": [
        ""
      ],
      "execution_count": 0,
      "outputs": []
    }
  ]
}