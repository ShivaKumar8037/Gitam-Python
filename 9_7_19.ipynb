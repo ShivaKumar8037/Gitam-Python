{
  "nbformat": 4,
  "nbformat_minor": 0,
  "metadata": {
    "colab": {
      "name": "9/7/19.ipynb",
      "version": "0.3.2",
      "provenance": [],
      "collapsed_sections": [],
      "include_colab_link": true
    },
    "kernelspec": {
      "name": "python3",
      "display_name": "Python 3"
    }
  },
  "cells": [
    {
      "cell_type": "markdown",
      "metadata": {
        "id": "view-in-github",
        "colab_type": "text"
      },
      "source": [
        "<a href=\"https://colab.research.google.com/github/ShivaKumar8037/Gitam-Python/blob/master/9_7_19.ipynb\" target=\"_parent\"><img src=\"https://colab.research.google.com/assets/colab-badge.svg\" alt=\"Open In Colab\"/></a>"
      ]
    },
    {
      "cell_type": "markdown",
      "metadata": {
        "id": "f6_G6iXe03SD",
        "colab_type": "text"
      },
      "source": [
        "###Day Objectives:\n",
        "- Python Data Structures\n",
        "  >lists\n",
        "\n",
        "  >Tuples\n",
        "\n",
        "  >Dictionaries\n",
        "-Basic  Program sets on Data Structures\n",
        "-Advanced Problem set\n",
        "-Contact Application (Dictoiinary Object)\n",
        "\n",
        "Data Structures :\n",
        "\n",
        "- to Store, Search and sort the data."
      ]
    },
    {
      "cell_type": "markdown",
      "metadata": {
        "id": "Jatr2NvF2VFf",
        "colab_type": "text"
      },
      "source": [
        "###Python Data Structures\n",
        "####Lists\n",
        "- It's one of common data structures supports by Python, seperated by comma operator and enclosed in square brackets\n",
        " \n",
        "    - Example:list1 = [1,6,2,18,9]\n",
        "             list2 = [\"Gitam\"10,12,15.5,\"Hyderabad\"]"
      ]
    },
    {
      "cell_type": "code",
      "metadata": {
        "id": "57Nsy3j82781",
        "colab_type": "code",
        "colab": {
          "base_uri": "https://localhost:8080/",
          "height": 140
        },
        "outputId": "32c6f89f-873d-4d1d-f852-794067ceb44d"
      },
      "source": [
        "lst = [1,8,16,9,2]#creating the list object in python\n",
        "print(lst)#Access the entire list\n",
        "print(lst[0])#Access the first item of list\n",
        "print(lst[1])#Access the second item of list\n",
        "print(lst[-1])#Access the last item of list\n",
        "print(lst[-2])#Access the last second item of list\n",
        "print(lst[1:])#prints from 2nd item to last\n",
        "print(lst[1:4])\n",
        "\n",
        "#use li,list1,lst ,lst1 or something like that instead of \"list\""
      ],
      "execution_count": 7,
      "outputs": [
        {
          "output_type": "stream",
          "text": [
            "[1, 8, 16, 9, 2]\n",
            "1\n",
            "8\n",
            "2\n",
            "9\n",
            "[8, 16, 9, 2]\n",
            "[8, 16, 9]\n"
          ],
          "name": "stdout"
        }
      ]
    },
    {
      "cell_type": "code",
      "metadata": {
        "id": "Xqj4T47C3QYu",
        "colab_type": "code",
        "colab": {
          "base_uri": "https://localhost:8080/",
          "height": 52
        },
        "outputId": "29585b28-c8aa-49f6-f182-d9fc7a9e5b6a"
      },
      "source": [
        "#Update the list item values using index (Direct Referencing)\n",
        "li= [\"Gitam\",\"Python\",1989,2002]\n",
        "print(li)\n",
        "li[2]=2019    #updating the 2nd position in the list\n",
        "print(li)"
      ],
      "execution_count": 16,
      "outputs": [
        {
          "output_type": "stream",
          "text": [
            "['Gitam', 'Python', 1989, 2002]\n",
            "['Gitam', 'Python', 2019, 2002]\n"
          ],
          "name": "stdout"
        }
      ]
    },
    {
      "cell_type": "code",
      "metadata": {
        "id": "E0OxKYzA5cbT",
        "colab_type": "code",
        "colab": {
          "base_uri": "https://localhost:8080/",
          "height": 52
        },
        "outputId": "d0586d76-d814-423a-a078-e9b9c7d71109"
      },
      "source": [
        "#Delete the specific item in the list\n",
        "print(li)\n",
        "del li[2] #for deleting the specific item \n",
        "print(li)"
      ],
      "execution_count": 18,
      "outputs": [
        {
          "output_type": "stream",
          "text": [
            "['Gitam', 'Python', 2019, 2002]\n",
            "['Gitam', 'Python', 2002]\n"
          ],
          "name": "stdout"
        }
      ]
    },
    {
      "cell_type": "code",
      "metadata": {
        "id": "HzI3TZb36cW5",
        "colab_type": "code",
        "colab": {
          "base_uri": "https://localhost:8080/",
          "height": 122
        },
        "outputId": "329c2106-4fdc-40c9-b4d5-455bde13ea18"
      },
      "source": [
        "#Basic List Operations\n",
        "lst1= [1,9,6,18,2]\n",
        "print(len(lst1))#len of the list\n",
        "print(lst1 * 2) #repeatation\n",
        "print(len(lst1))#size of list is not changing even after repeation\n",
        "print(9 in lst1)#is number 9 in list or not\n",
        "print(15 in lst1)#is number 15 in list or not\n",
        "\n",
        "#Access the list items using iteration\n",
        "for x in range(len(lst1)):\n",
        "  print(lst1[x],end=\" \")"
      ],
      "execution_count": 35,
      "outputs": [
        {
          "output_type": "stream",
          "text": [
            "5\n",
            "[1, 9, 6, 18, 2, 1, 9, 6, 18, 2]\n",
            "5\n",
            "True\n",
            "False\n",
            "1 9 6 18 2 "
          ],
          "name": "stdout"
        }
      ]
    },
    {
      "cell_type": "code",
      "metadata": {
        "id": "DQxZc9i17mFu",
        "colab_type": "code",
        "colab": {
          "base_uri": "https://localhost:8080/",
          "height": 140
        },
        "outputId": "d8dde0d9-70e6-46d8-d695-56dd6fddaf82"
      },
      "source": [
        "#function of the list\n",
        "#homogenous list: having same type of data in the list\n",
        "lst1\n",
        "print(min(lst1)) #return the min value in the list\n",
        "print(max(lst1)) #returns the max value in the list\n",
        "print(sum(lst1)) #returns the sum of all elements in the list\n",
        "print(sum(lst1)//len(lst1)) #Average of list elements\n",
        "print(lst1[1::2])#prints alternate numbers\n",
        "print(sum(lst1[1::2]))#sum of all the alternate elements\n",
        "print(sum(lst1[1::2])/len(lst[1::2])) #average of all the alternate elements"
      ],
      "execution_count": 34,
      "outputs": [
        {
          "output_type": "stream",
          "text": [
            "1\n",
            "18\n",
            "36\n",
            "7\n",
            "[9, 18]\n",
            "27\n",
            "13.5\n"
          ],
          "name": "stdout"
        }
      ]
    },
    {
      "cell_type": "code",
      "metadata": {
        "id": "jz2S2_gN9yce",
        "colab_type": "code",
        "colab": {
          "base_uri": "https://localhost:8080/",
          "height": 87
        },
        "outputId": "9d3ff05c-f98a-472c-87f8-986d64c39d4a"
      },
      "source": [
        "\n",
        "lst1\n",
        "lst1.append(42)#adding a new element at the end of the list(adds physically)\n",
        "print(lst1)\n",
        "lst1.insert(2,56) #adding an element at particular index\n",
        "print(lst1)\n",
        "lst1.count(24) #returns the value how many times the object repeated\n",
        "lst1.index(56)\n",
        "lst1.sort() #it's sort the list in ascending order\n",
        "print(lst1)\n",
        "lst.pop()#remove the last element from the list\n",
        "lst1\n",
        "lst1.pop(1)#remove an element form a particular index\n",
        "lst2=[12,34,5]\n",
        "lst1.extend(lst2) #merge the list1 and list2\n",
        "lst1"
      ],
      "execution_count": 43,
      "outputs": [
        {
          "output_type": "stream",
          "text": [
            "[1, 2, 6, 9, 18, 24, 24, 24, 24, 42, 56, 42]\n",
            "[1, 2, 56, 6, 9, 18, 24, 24, 24, 24, 42, 56, 42]\n",
            "[1, 2, 6, 9, 18, 24, 24, 24, 24, 42, 42, 56, 56]\n"
          ],
          "name": "stdout"
        },
        {
          "output_type": "execute_result",
          "data": {
            "text/plain": [
              "[1, 6, 9, 18, 24, 24, 24, 24, 42, 42, 56, 56, 12, 34, 5]"
            ]
          },
          "metadata": {
            "tags": []
          },
          "execution_count": 43
        }
      ]
    },
    {
      "cell_type": "code",
      "metadata": {
        "id": "kxVuasptEcdm",
        "colab_type": "code",
        "colab": {
          "base_uri": "https://localhost:8080/",
          "height": 70
        },
        "outputId": "6fcdba32-1418-41f5-c7fd-d4b8fbd3846c"
      },
      "source": [
        "li = [1,9,8,2,6,3]\n",
        "print(li[-1:0:-2]) #last index:till 0th index:from reverse alternate\n",
        "print(li[-1::]) #last index\n",
        "print(li[-1::-2]) #"
      ],
      "execution_count": 57,
      "outputs": [
        {
          "output_type": "stream",
          "text": [
            "[3, 2, 9]\n",
            "[3]\n",
            "[3, 2, 9]\n"
          ],
          "name": "stdout"
        }
      ]
    },
    {
      "cell_type": "code",
      "metadata": {
        "id": "SFS2LjxuEi8N",
        "colab_type": "code",
        "colab": {
          "base_uri": "https://localhost:8080/",
          "height": 34
        },
        "outputId": "3ac0aa7c-c77a-4a21-df66-eeb68ac64ae5"
      },
      "source": [
        "lst1.reverse()#reverses the list1\n",
        "lst1\n"
      ],
      "execution_count": 66,
      "outputs": [
        {
          "output_type": "execute_result",
          "data": {
            "text/plain": [
              "[5, 34, 12, 56, 56, 42, 42, 24, 24, 24, 24, 18, 9, 6, 1]"
            ]
          },
          "metadata": {
            "tags": []
          },
          "execution_count": 66
        }
      ]
    },
    {
      "cell_type": "code",
      "metadata": {
        "id": "GvY9Y-9gGsrU",
        "colab_type": "code",
        "colab": {
          "base_uri": "https://localhost:8080/",
          "height": 34
        },
        "outputId": "94be81aa-02f3-4982-d04c-0cb2bc09d5ea"
      },
      "source": [
        "lst1.remove(24) #removes the element in the list\n",
        "lst1"
      ],
      "execution_count": 70,
      "outputs": [
        {
          "output_type": "execute_result",
          "data": {
            "text/plain": [
              "[5, 34, 56, 56, 42, 42, 24, 24, 24, 18, 9, 6, 1]"
            ]
          },
          "metadata": {
            "tags": []
          },
          "execution_count": 70
        }
      ]
    },
    {
      "cell_type": "code",
      "metadata": {
        "id": "Kv8OE8AEHzG8",
        "colab_type": "code",
        "colab": {
          "base_uri": "https://localhost:8080/",
          "height": 34
        },
        "outputId": "1d14eec5-bf06-4e7c-da35-5f1a3074293b"
      },
      "source": [
        "#function to find the second large item in the list\n",
        "#input : [1,19,6,2,8,18,3]\n",
        "#output : 18\n",
        "def secondLarge(li):\n",
        "  li.sort()\n",
        "  return li[-2]\n",
        "def genericLarge(li,n): #function to find any largest value\n",
        "  li.sort()\n",
        "  return li[-n]\n",
        "li=[1,19,6,2,8,18,3]\n",
        "genericLarge(li,4) \n",
        "  "
      ],
      "execution_count": 72,
      "outputs": [
        {
          "output_type": "execute_result",
          "data": {
            "text/plain": [
              "6"
            ]
          },
          "metadata": {
            "tags": []
          },
          "execution_count": 72
        }
      ]
    },
    {
      "cell_type": "code",
      "metadata": {
        "id": "1drtfG6KJcpw",
        "colab_type": "code",
        "colab": {
          "base_uri": "https://localhost:8080/",
          "height": 52
        },
        "outputId": "a695dc10-2167-492e-dfd4-65dcb845fbbd"
      },
      "source": [
        "#function to find the least item from the list\n",
        "def secondLeast(li):\n",
        "  li.sort()\n",
        "  return li[1]\n",
        "li=[1,19,6,2,8,18,3]\n",
        "print(secondLeast(li))\n",
        "\n",
        "def genericLeast(li,n):\n",
        "  li.sort()\n",
        "  return li[n-1]\n",
        "print(genericLeast(li,3))\n"
      ],
      "execution_count": 74,
      "outputs": [
        {
          "output_type": "stream",
          "text": [
            "2\n",
            "3\n"
          ],
          "name": "stdout"
        }
      ]
    },
    {
      "cell_type": "markdown",
      "metadata": {
        "id": "qFEluC6dU_G1",
        "colab_type": "text"
      },
      "source": [
        "###Searching Algorithms\n",
        "- Linear Search\n",
        "- Binary Search\n",
        "###Linear Search\n",
        "- Linear Search Algorithm can be applied on Duplicate and Unique List\n",
        "      - Unique List:All the items of the list is appeared only one\n",
        "      - Duplicate List:The items of the list can be appeared more than once\n",
        "   - Linear Search Algorithm can be applied on Sorted or Unsorted list"
      ]
    },
    {
      "cell_type": "code",
      "metadata": {
        "id": "Tt5mfZBzVj4e",
        "colab_type": "code",
        "colab": {
          "base_uri": "https://localhost:8080/",
          "height": 34
        },
        "outputId": "35a717b8-7b5e-474c-8108-b5faf5c008ba"
      },
      "source": [
        "#function to search the data in a list\n",
        "#search is found then return the index if not return \n",
        "def linearSearch(li,tarItem):\n",
        "  for x in range(len(li)):\n",
        "    if li[x]==tarItem:\n",
        "      return x\n",
        "  return -1\n",
        "li=[1,2,3,4,5,8]\n",
        "linearSearch(li,5)\n"
      ],
      "execution_count": 81,
      "outputs": [
        {
          "output_type": "execute_result",
          "data": {
            "text/plain": [
              "4"
            ]
          },
          "metadata": {
            "tags": []
          },
          "execution_count": 81
        }
      ]
    },
    {
      "cell_type": "code",
      "metadata": {
        "id": "k-VpeJU7X3es",
        "colab_type": "code",
        "colab": {
          "base_uri": "https://localhost:8080/",
          "height": 34
        },
        "outputId": "b799004e-b2e9-412f-9988-24ac46133e54"
      },
      "source": [
        "#function\n",
        "#input: [1,5,9,6,5,15,1,2,5],key=5#Duplicate\n",
        "#Output:1 4 8\n",
        "def linearSearch2(li,key):\n",
        "  for x in range(len(li)):\n",
        "    if li[x]==key:\n",
        "      print(x,end=\" \")\n",
        "  return    \n",
        "li=[1,5,9,6,5,15,1,2,5]\n",
        "linearSearch2(li,5)"
      ],
      "execution_count": 86,
      "outputs": [
        {
          "output_type": "stream",
          "text": [
            "1 4 8 "
          ],
          "name": "stdout"
        }
      ]
    },
    {
      "cell_type": "code",
      "metadata": {
        "id": "nDImW6oqaOyR",
        "colab_type": "code",
        "colab": {
          "base_uri": "https://localhost:8080/",
          "height": 34
        },
        "outputId": "7c1760fd-a4d2-42e2-a4ca-c59112fb4e2b"
      },
      "source": [
        "#function \n",
        "#input:list\n",
        "#output:Seq of characters\n",
        "#test case\n",
        "#[1,5,9,6,5,15,1,2,5],tar=5--!! !!!!!  !!!!!!!!!\n",
        "def linearSearch3(li,key):\n",
        "  for x in range(len(li)):\n",
        "    if li[x]== key:\n",
        "      for i in range(x+1):\n",
        "        print(\"!\",end=\"\")\n",
        "      print(end=\" \")\n",
        "  return\n",
        "li=[1,5,9,6,5,15,1,2,5]\n",
        "linearSearch3(li,5)"
      ],
      "execution_count": 99,
      "outputs": [
        {
          "output_type": "stream",
          "text": [
            "!! !!!!! !!!!!!!!! "
          ],
          "name": "stdout"
        }
      ]
    },
    {
      "cell_type": "code",
      "metadata": {
        "id": "blp4YSeZeu52",
        "colab_type": "code",
        "colab": {
          "base_uri": "https://localhost:8080/",
          "height": 34
        },
        "outputId": "0e41aae6-2f52-4e3a-bc75-8d7792c28f64"
      },
      "source": [
        "#function \n",
        "#input :list\n",
        "#output: Formatted\n",
        "#test case:\n",
        "#[12,2,45,9,18,15,36]--60\n",
        "#A list item which perfectly multiple of 3 and 5\n",
        "def sumMultiple(li):\n",
        "  sum=0\n",
        "  for x in range(len(li)):\n",
        "    if li[x]%3==0 and li[x]%5==0:\n",
        "      sum=sum+li[x]\n",
        "  return sum\n",
        "li=[12,2,45,9,18,15,36]\n",
        "sumMultiple(li)#60"
      ],
      "execution_count": 103,
      "outputs": [
        {
          "output_type": "execute_result",
          "data": {
            "text/plain": [
              "60"
            ]
          },
          "metadata": {
            "tags": []
          },
          "execution_count": 103
        }
      ]
    },
    {
      "cell_type": "code",
      "metadata": {
        "id": "quWXlXMjhgqx",
        "colab_type": "code",
        "colab": {
          "base_uri": "https://localhost:8080/",
          "height": 34
        },
        "outputId": "60484547-170d-4b4e-bb22-2462b32b76ad"
      },
      "source": [
        "#function\n",
        "#input:list\n",
        "#output:Formatted Output\n",
        "#test case:\n",
        "#[1,2,3,4,5]--[1,3,8,15,5]\n",
        "#[6,5,2,8,2]--[6,12,40,4,2]\n",
        "#1.print first and last as it is because first number does not have previous and last does not have next number\n",
        "#2.need to multiply the previous and the next number\n",
        "def linearSearch5(li):\n",
        "  for x in range(len(li)):\n",
        "    if x==0 or x==len(li)-1:\n",
        "      print(li[x],end=\" \")\n",
        "    else:\n",
        "      print(li[x-1]*li[x+1],end=\" \")\n",
        "  return\n",
        "li=[1,2,3,4,5]\n",
        "linearSearch5(li)"
      ],
      "execution_count": 115,
      "outputs": [
        {
          "output_type": "stream",
          "text": [
            "1 3 8 15 5 "
          ],
          "name": "stdout"
        }
      ]
    },
    {
      "cell_type": "code",
      "metadata": {
        "id": "j-l-a7pBoiG3",
        "colab_type": "code",
        "colab": {
          "base_uri": "https://localhost:8080/",
          "height": 34
        },
        "outputId": "9e1c6dd7-868d-480c-cd72-89f250207bae"
      },
      "source": [
        "#function \n",
        "#input:list\n",
        "#output:Formatted output\n",
        "#test cases:\n",
        "#[1,6,9,4,16,19,22]--1 9 19 22 \n",
        "#1.First and last element print as it is\n",
        "#2.both sides numbers are even then print it\n",
        "def linearSearch6(li):\n",
        "  for x in range(len(li)):\n",
        "    if x==0 or x==len(li)-1:\n",
        "      print(li[x],end=\" \")\n",
        "    elif li[x-1]%2==0 and li[x+1]%2==0:\n",
        "      print(li[x],end=\" \")\n",
        "  return\n",
        "li=[1,6,9,4,16,19,22]\n",
        "linearSearch6(li)"
      ],
      "execution_count": 121,
      "outputs": [
        {
          "output_type": "stream",
          "text": [
            "1 9 19 22 "
          ],
          "name": "stdout"
        }
      ]
    },
    {
      "cell_type": "markdown",
      "metadata": {
        "id": "oVnGEu60-jxj",
        "colab_type": "text"
      },
      "source": [
        "###Number to List (Very Popular ques)\n",
        "- Input as Number\n",
        "- Expected output will be list"
      ]
    },
    {
      "cell_type": "code",
      "metadata": {
        "id": "qexSHg1Q58id",
        "colab_type": "code",
        "colab": {
          "base_uri": "https://localhost:8080/",
          "height": 34
        },
        "outputId": "c1eda649-ea5a-439c-8262-e229ee561da5"
      },
      "source": [
        "#function for conversion - Number to List\n",
        "#Input -- number\n",
        "#Output -- list\n",
        "#Test Cases:-\n",
        "#14569 -- [1,4,5,6,9]\n",
        "def num(n):\n",
        "  l=[]\n",
        "  while n>0:\n",
        "    r=n%10\n",
        "    l.append(r)\n",
        "    n=n//10\n",
        "  l.reverse()\n",
        "  return l\n",
        "num(14569)\n",
        "    \n",
        "   \n"
      ],
      "execution_count": 141,
      "outputs": [
        {
          "output_type": "execute_result",
          "data": {
            "text/plain": [
              "[1, 4, 5, 6, 9]"
            ]
          },
          "metadata": {
            "tags": []
          },
          "execution_count": 141
        }
      ]
    },
    {
      "cell_type": "code",
      "metadata": {
        "id": "Ut5bo3vG_nu5",
        "colab_type": "code",
        "colab": {
          "base_uri": "https://localhost:8080/",
          "height": 34
        },
        "outputId": "28cf0581-bc40-4f34-b890-661b9e357eea"
      },
      "source": [
        "#function to count the occurances of a character in a string\n",
        "#\"Python Programming\", P -> 2\n",
        "#\"Python Programming\",m ->2\n",
        "def countCharOccurances(s,c):\n",
        "  cnt=0\n",
        "  for ch in s:\n",
        "    if ch== c:\n",
        "      cnt +=1\n",
        "  return cnt\n",
        "countCharOccurances(\"Python Programming\",\"g\")\n",
        "def countCharOccurances1(s,c):\n",
        "  return s.count(c) #a simple alternative\n",
        "countCharOccurances(\"Python Programming\",\"g\")"
      ],
      "execution_count": 148,
      "outputs": [
        {
          "output_type": "execute_result",
          "data": {
            "text/plain": [
              "2"
            ]
          },
          "metadata": {
            "tags": []
          },
          "execution_count": 148
        }
      ]
    },
    {
      "cell_type": "markdown",
      "metadata": {
        "id": "9UqCzdbwFyZJ",
        "colab_type": "text"
      },
      "source": [
        "###String to List Conversion\n",
        "- Input will be string\n",
        "- Expected output will be list"
      ]
    },
    {
      "cell_type": "code",
      "metadata": {
        "id": "ImKe9sxiDoSE",
        "colab_type": "code",
        "colab": {
          "base_uri": "https://localhost:8080/",
          "height": 34
        },
        "outputId": "75ec21da-4a31-422f-def5-66fa1157a88d"
      },
      "source": [
        "#fucntion to convert the string to list\n",
        "#test case\n",
        "#\"1 2 3 4 5 6\"--- {1,2,3,4,5,6]\n",
        "\n",
        "def stringToListConversion(s):\n",
        "  li = s.split()\n",
        "  numberslist=[]\n",
        "  for i in li:\n",
        "    numberslist.append(int(i))\n",
        "  return numberslist\n",
        "s=\"1 2 3 4 5 6\"\n",
        "stringToListConversion(s) "
      ],
      "execution_count": 154,
      "outputs": [
        {
          "output_type": "execute_result",
          "data": {
            "text/plain": [
              "[1, 2, 3, 4, 5, 6]"
            ]
          },
          "metadata": {
            "tags": []
          },
          "execution_count": 154
        }
      ]
    },
    {
      "cell_type": "markdown",
      "metadata": {
        "id": "XMIBz4QDIk7l",
        "colab_type": "text"
      },
      "source": [
        "###Sorting Algorithms\n",
        "- Bubble Sort\n",
        "- Selection Sort\n",
        "- Insertion Sort\n",
        "### Bubble sort:-\n",
        "- This algorithm compares the adj elements,if the first element is greater than second element then its required to swap the elements"
      ]
    },
    {
      "cell_type": "code",
      "metadata": {
        "id": "08nazam1KHT8",
        "colab_type": "code",
        "colab": {
          "base_uri": "https://localhost:8080/",
          "height": 34
        },
        "outputId": "a7d13e01-12e5-45a0-e4ec-b951c6233b5d"
      },
      "source": [
        "#function to represent the Bubble sort\n",
        "def bubbleSort(li):\n",
        "  for i in range(len(li)-1):\n",
        "    for j in range(len(li)-1):\n",
        "      if li[j] > li[j+1]:\n",
        "        li[j],li[j+1]=li[j+1],li[j]\n",
        "  return li        \n",
        " \n",
        "li=[6,8,4,2,1,7,0,9] \n",
        "bubbleSort(li)"
      ],
      "execution_count": 187,
      "outputs": [
        {
          "output_type": "execute_result",
          "data": {
            "text/plain": [
              "[1, 4, 5, 6, 9]"
            ]
          },
          "metadata": {
            "tags": []
          },
          "execution_count": 187
        }
      ]
    },
    {
      "cell_type": "code",
      "metadata": {
        "id": "YuQSIpdOagru",
        "colab_type": "code",
        "colab": {
          "base_uri": "https://localhost:8080/",
          "height": 34
        },
        "outputId": "bd894563-9ae7-451f-dec9-7234ca6efe91"
      },
      "source": [
        "#assignment Question 1\n",
        "def lis(li):\n",
        "  for x in range(len(li)):\n",
        "    print(li[x],end=\"\")\n",
        "  return\n",
        "li=[1,4,5,6,9]\n",
        "    \n",
        "lis(li)"
      ],
      "execution_count": 188,
      "outputs": [
        {
          "output_type": "stream",
          "text": [
            "14569"
          ],
          "name": "stdout"
        }
      ]
    },
    {
      "cell_type": "code",
      "metadata": {
        "id": "FFVQv4iaa5je",
        "colab_type": "code",
        "colab": {
          "base_uri": "https://localhost:8080/",
          "height": 34
        },
        "outputId": "56d25fd1-e048-4855-91d9-337fd30dd7ee"
      },
      "source": [
        "#assignment question 2\n",
        "def lis(li):\n",
        "  for x in range(len(li)):\n",
        "    if li[x]%2==0:\n",
        "      print(li[x],end=\"\")\n",
        "  return\n",
        "li=[1,4,5,6,9]\n",
        "lis(li)"
      ],
      "execution_count": 186,
      "outputs": [
        {
          "output_type": "stream",
          "text": [
            "46"
          ],
          "name": "stdout"
        }
      ]
    },
    {
      "cell_type": "code",
      "metadata": {
        "id": "UdbbxyZHbWJ9",
        "colab_type": "code",
        "colab": {
          "base_uri": "https://localhost:8080/",
          "height": 34
        },
        "outputId": "fbe039a3-26fa-4f03-aefd-983544267425"
      },
      "source": [
        "#assignment question 3\n",
        "def lis(li):\n",
        "  for x in range(len(li)):\n",
        "    if li[x]%2==0:\n",
        "      li[x]=li[x]*li[x]\n",
        "  return li\n",
        "li=[1,2,3,4,5] \n",
        "lis(li)"
      ],
      "execution_count": 185,
      "outputs": [
        {
          "output_type": "execute_result",
          "data": {
            "text/plain": [
              "[1, 4, 3, 16, 5]"
            ]
          },
          "metadata": {
            "tags": []
          },
          "execution_count": 185
        }
      ]
    },
    {
      "cell_type": "code",
      "metadata": {
        "id": "7xLd7-bJbqRz",
        "colab_type": "code",
        "colab": {
          "base_uri": "https://localhost:8080/",
          "height": 34
        },
        "outputId": "20905843-4c87-489d-aeda-01d385ad9f2f"
      },
      "source": [
        "[1,5,6,9,5,3,2,4]#assignment question 4\n",
        "def lis(li):\n",
        "  l2=[]\n",
        "  for x in range(len(li)):\n",
        "    if x==0 or x==len(li)-1:\n",
        "      l2.append(li[x])\n",
        "    else:\n",
        "      l2.append(li[x-1]+li[x])\n",
        "  return l2\n",
        "li=[15,19,12,16,4]\n",
        "lis(li)"
      ],
      "execution_count": 183,
      "outputs": [
        {
          "output_type": "execute_result",
          "data": {
            "text/plain": [
              "[15, 34, 31, 28, 4]"
            ]
          },
          "metadata": {
            "tags": []
          },
          "execution_count": 183
        }
      ]
    },
    {
      "cell_type": "code",
      "metadata": {
        "id": "JgrUXV5ecer5",
        "colab_type": "code",
        "colab": {}
      },
      "source": [
        ""
      ],
      "execution_count": 0,
      "outputs": []
    }
  ]
}