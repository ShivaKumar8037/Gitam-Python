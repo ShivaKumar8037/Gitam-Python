{
  "nbformat": 4,
  "nbformat_minor": 0,
  "metadata": {
    "colab": {
      "name": "10/7/19.ipynb",
      "version": "0.3.2",
      "provenance": [],
      "collapsed_sections": [],
      "include_colab_link": true
    },
    "kernelspec": {
      "name": "python3",
      "display_name": "Python 3"
    }
  },
  "cells": [
    {
      "cell_type": "markdown",
      "metadata": {
        "id": "view-in-github",
        "colab_type": "text"
      },
      "source": [
        "<a href=\"https://colab.research.google.com/github/ShivaKumar8037/Gitam-Python/blob/master/10_7_19.ipynb\" target=\"_parent\"><img src=\"https://colab.research.google.com/assets/colab-badge.svg\" alt=\"Open In Colab\"/></a>"
      ]
    },
    {
      "cell_type": "markdown",
      "metadata": {
        "id": "YK1OM_qI9rd8",
        "colab_type": "text"
      },
      "source": [
        "###Data Structures\n",
        "- Dictionaries\n",
        "\n",
        "####Dictionaries\n",
        "- It works on the concept of Unique Data\n",
        "- Keys,values is the unique identifier for a value\n",
        "- Each key is separated from its values with colon(:)\n",
        "- Each key and value is separted by comma(,)\n",
        "- Dictionaries enclosed with Curly braces ({})"
      ]
    },
    {
      "cell_type": "code",
      "metadata": {
        "id": "5LUhdY6T8Lak",
        "colab_type": "code",
        "outputId": "0df7357d-1859-4b85-de50-de036aecffef",
        "colab": {
          "base_uri": "https://localhost:8080/",
          "height": 34
        }
      },
      "source": [
        "d1 = {\"Name\":\"Gitam\",\"EmailId\":\"gitam@gmail.com\",\"Address\":\"Hyderabad\"}#where name is key and gitam is value\n",
        "print(d1)"
      ],
      "execution_count": 0,
      "outputs": [
        {
          "output_type": "stream",
          "text": [
            "{'Name': 'Gitam', 'EmailId': 'gitam@gmail.com', 'Address': 'Hyderabad'}\n"
          ],
          "name": "stdout"
        }
      ]
    },
    {
      "cell_type": "code",
      "metadata": {
        "id": "h9daumeO-3EC",
        "colab_type": "code",
        "outputId": "b77cc28a-dc20-4d4e-e50e-3bc345478eab",
        "colab": {
          "base_uri": "https://localhost:8080/",
          "height": 34
        }
      },
      "source": [
        "d1[\"Name\"] #Access the specific key"
      ],
      "execution_count": 0,
      "outputs": [
        {
          "output_type": "execute_result",
          "data": {
            "text/plain": [
              "'Gitam'"
            ]
          },
          "metadata": {
            "tags": []
          },
          "execution_count": 5
        }
      ]
    },
    {
      "cell_type": "code",
      "metadata": {
        "id": "xGeusH0NArcJ",
        "colab_type": "code",
        "colab": {}
      },
      "source": [
        "d1[\"EmailId\"] = \"Gitam-Python@gmail.com\" #Update the data"
      ],
      "execution_count": 0,
      "outputs": []
    },
    {
      "cell_type": "code",
      "metadata": {
        "id": "amsnwsXsA5qS",
        "colab_type": "code",
        "outputId": "b1cc974f-0b7f-4d38-de1a-8b51af6240cb",
        "colab": {
          "base_uri": "https://localhost:8080/",
          "height": 34
        }
      },
      "source": [
        "d1[\"EmailId\"]"
      ],
      "execution_count": 0,
      "outputs": [
        {
          "output_type": "execute_result",
          "data": {
            "text/plain": [
              "'Gitam-Python@gmail.com'"
            ]
          },
          "metadata": {
            "tags": []
          },
          "execution_count": 9
        }
      ]
    },
    {
      "cell_type": "code",
      "metadata": {
        "id": "chxDxKqsBDHl",
        "colab_type": "code",
        "outputId": "bbb6b221-96f2-488f-d091-8d761e5a48b9",
        "colab": {
          "base_uri": "https://localhost:8080/",
          "height": 167
        }
      },
      "source": [
        "del d1[\"EmailId\"] #To delete the specific key value\n",
        "                   # del d1 will delete the entire in dictionary object\n",
        "  #the output is error because of the key\"EmailId\" is deleted"
      ],
      "execution_count": 0,
      "outputs": [
        {
          "output_type": "error",
          "ename": "KeyError",
          "evalue": "ignored",
          "traceback": [
            "\u001b[0;31m---------------------------------------------------------------------------\u001b[0m",
            "\u001b[0;31mKeyError\u001b[0m                                  Traceback (most recent call last)",
            "\u001b[0;32m<ipython-input-11-9008e05332c0>\u001b[0m in \u001b[0;36m<module>\u001b[0;34m()\u001b[0m\n\u001b[0;32m----> 1\u001b[0;31m \u001b[0;32mdel\u001b[0m \u001b[0md1\u001b[0m\u001b[0;34m[\u001b[0m\u001b[0;34m\"EmailId\"\u001b[0m\u001b[0;34m]\u001b[0m\u001b[0;34m\u001b[0m\u001b[0;34m\u001b[0m\u001b[0m\n\u001b[0m",
            "\u001b[0;31mKeyError\u001b[0m: 'EmailId'"
          ]
        }
      ]
    },
    {
      "cell_type": "code",
      "metadata": {
        "id": "f-7MuZleBOoh",
        "colab_type": "code",
        "outputId": "6a93c36a-cfd6-4d0d-8154-339dc0fe05bb",
        "colab": {
          "base_uri": "https://localhost:8080/",
          "height": 34
        }
      },
      "source": [
        "d1 "
      ],
      "execution_count": 0,
      "outputs": [
        {
          "output_type": "execute_result",
          "data": {
            "text/plain": [
              "{'Address': 'Hyderabad', 'Name': 'Gitam'}"
            ]
          },
          "metadata": {
            "tags": []
          },
          "execution_count": 12
        }
      ]
    },
    {
      "cell_type": "code",
      "metadata": {
        "id": "e0rY0LNNBZM-",
        "colab_type": "code",
        "outputId": "1275f3c6-4c99-4679-cbdf-dcf97bb91b95",
        "colab": {
          "base_uri": "https://localhost:8080/",
          "height": 34
        }
      },
      "source": [
        "d1.keys()#returns the list of keys"
      ],
      "execution_count": 0,
      "outputs": [
        {
          "output_type": "execute_result",
          "data": {
            "text/plain": [
              "dict_keys(['Name', 'Address'])"
            ]
          },
          "metadata": {
            "tags": []
          },
          "execution_count": 13
        }
      ]
    },
    {
      "cell_type": "code",
      "metadata": {
        "id": "pr14MWAbDANe",
        "colab_type": "code",
        "outputId": "f30813a4-4c91-43e2-e2bd-3d099cd39eb9",
        "colab": {
          "base_uri": "https://localhost:8080/",
          "height": 34
        }
      },
      "source": [
        "d1.values()#returns the list of values\n"
      ],
      "execution_count": 0,
      "outputs": [
        {
          "output_type": "execute_result",
          "data": {
            "text/plain": [
              "dict_values(['Gitam', 'Hyderabad'])"
            ]
          },
          "metadata": {
            "tags": []
          },
          "execution_count": 14
        }
      ]
    },
    {
      "cell_type": "code",
      "metadata": {
        "id": "E1npr-cIDUid",
        "colab_type": "code",
        "outputId": "99dbb4bf-59f4-482c-a4c1-9c2218109b4c",
        "colab": {
          "base_uri": "https://localhost:8080/",
          "height": 34
        }
      },
      "source": [
        "d1.items() #the list of tuples of keys and values"
      ],
      "execution_count": 0,
      "outputs": [
        {
          "output_type": "execute_result",
          "data": {
            "text/plain": [
              "dict_items([('Name', 'Gitam'), ('Address', 'Hyderabad')])"
            ]
          },
          "metadata": {
            "tags": []
          },
          "execution_count": 15
        }
      ]
    },
    {
      "cell_type": "markdown",
      "metadata": {
        "id": "iyxy36HZEcBM",
        "colab_type": "text"
      },
      "source": [
        "###Tuples\n",
        "- t1 parenthesis() li square brackets[ ]\n",
        "- Difference between list and tuples\n",
        "           -List are mutable - can be changed/modified\n",
        "                  - Used to access modify , Add, Delete data\n",
        "           -Tuples are immutable - cannot be changed\n",
        "                    - Used to access data only"
      ]
    },
    {
      "cell_type": "code",
      "metadata": {
        "id": "_EicdasLDd16",
        "colab_type": "code",
        "outputId": "cd065f93-9768-4e79-d293-3f045535c87b",
        "colab": {
          "base_uri": "https://localhost:8080/",
          "height": 34
        }
      },
      "source": [
        "t1 = (1,2,3,4,5,6)#example of tuple\n",
        "t1\n",
        "type(t1)"
      ],
      "execution_count": 0,
      "outputs": [
        {
          "output_type": "execute_result",
          "data": {
            "text/plain": [
              "tuple"
            ]
          },
          "metadata": {
            "tags": []
          },
          "execution_count": 17
        }
      ]
    },
    {
      "cell_type": "code",
      "metadata": {
        "id": "va6NlOaOFQ-6",
        "colab_type": "code",
        "outputId": "6edab849-e9ce-497e-f5c7-dff600761f72",
        "colab": {
          "base_uri": "https://localhost:8080/",
          "height": 34
        }
      },
      "source": [
        "t1[1:5]#the previous slicing can be applied to tuple\n",
        "#basically,tuple is only used to read the data "
      ],
      "execution_count": 0,
      "outputs": [
        {
          "output_type": "execute_result",
          "data": {
            "text/plain": [
              "(2, 3, 4, 5)"
            ]
          },
          "metadata": {
            "tags": []
          },
          "execution_count": 20
        }
      ]
    },
    {
      "cell_type": "markdown",
      "metadata": {
        "id": "8lyJtCH2GCzy",
        "colab_type": "text"
      },
      "source": [
        "###Contact Application\n",
        "- Add Contact\n",
        "- Search the contact\n",
        "- List all contacts\n",
        "     \n",
        "     - name 1: phone1\n",
        "     - name 2:phone2\n",
        "-Modify the contact\n",
        "-remove the contact\n",
        "- import the contact"
      ]
    },
    {
      "cell_type": "code",
      "metadata": {
        "id": "PlqUc92-Ff6Q",
        "colab_type": "code",
        "outputId": "8ae587ec-2d83-4fdd-8fcf-3f6cb3f42cf0",
        "colab": {
          "base_uri": "https://localhost:8080/",
          "height": 70
        }
      },
      "source": [
        "#Add contact\n",
        "contacts = {} #creating a dict object\n",
        "def addContact(name,phone):\n",
        "  if name not in contacts:#condition to check phone exists or not\n",
        "    contacts[name]=phone\n",
        "    print(\"Contact details are added\")\n",
        "  else:\n",
        "    print(\"Contact details already exists\")\n",
        "  return\n",
        "addContact(\"shiva\",\"8106164941\")\n",
        "addContact(\"musk\",\"5646865486\")\n",
        "addContact(\"shiva\",\"81064941\")#even though the phone number is same it doesn't take\n"
      ],
      "execution_count": 0,
      "outputs": [
        {
          "output_type": "stream",
          "text": [
            "Contact details are added\n",
            "Contact details are added\n",
            "Contact details already exists\n"
          ],
          "name": "stdout"
        }
      ]
    },
    {
      "cell_type": "code",
      "metadata": {
        "id": "4frb6xMoIh2Z",
        "colab_type": "code",
        "outputId": "e402d492-06f2-47c1-e03b-d7fb6d90c2a9",
        "colab": {
          "base_uri": "https://localhost:8080/",
          "height": 70
        }
      },
      "source": [
        "#Search for contact details\n",
        "def searchContact(name):\n",
        "  if name in contacts:\n",
        "    print(name,\":\",contacts[name])#contact[name] contains the phone number\n",
        "  else:\n",
        "    print(\"%s does not exists\"%name)\n",
        "  return\n",
        "searchContact('shiva')\n",
        "searchContact('bro')\n",
        "searchContact('musk')"
      ],
      "execution_count": 0,
      "outputs": [
        {
          "output_type": "stream",
          "text": [
            "shiva : 8106164941\n",
            "bro does not exists\n",
            "musk : 5646865486\n"
          ],
          "name": "stdout"
        }
      ]
    },
    {
      "cell_type": "code",
      "metadata": {
        "id": "cn545pHNK4J9",
        "colab_type": "code",
        "outputId": "28e7a2ce-6808-475d-932c-850c09e6fa8d",
        "colab": {
          "base_uri": "https://localhost:8080/",
          "height": 34
        }
      },
      "source": [
        "#Import some contact\n",
        "#Merge the contact with existing one\n",
        "def importContact(newContacts):\n",
        "  contacts.update(newContacts)#adding newContacts to contacts\n",
        "  print(len(newContacts.keys()),\"Contacts added successfully\")\n",
        "  return\n",
        "newContacts = {\"Dinesh\":9988774455,\"Ajay\":9977445566}\n",
        "importContact(newContacts)"
      ],
      "execution_count": 0,
      "outputs": [
        {
          "output_type": "stream",
          "text": [
            "2 Contacts added successfully\n"
          ],
          "name": "stdout"
        }
      ]
    },
    {
      "cell_type": "code",
      "metadata": {
        "id": "y-9oTCaoNDXb",
        "colab_type": "code",
        "outputId": "0195a26a-6ddf-4135-c23a-055406311838",
        "colab": {
          "base_uri": "https://localhost:8080/",
          "height": 87
        }
      },
      "source": [
        "contacts"
      ],
      "execution_count": 0,
      "outputs": [
        {
          "output_type": "execute_result",
          "data": {
            "text/plain": [
              "{'Ajay': 9977445566,\n",
              " 'Dinesh': 9988774455,\n",
              " 'musk': '5646865486',\n",
              " 'shiva': '8106164941'}"
            ]
          },
          "metadata": {
            "tags": []
          },
          "execution_count": 40
        }
      ]
    },
    {
      "cell_type": "code",
      "metadata": {
        "id": "4IeTUa-rNTdM",
        "colab_type": "code",
        "outputId": "585d1325-4941-4ffa-f59e-fb4e468cb039",
        "colab": {
          "base_uri": "https://localhost:8080/",
          "height": 52
        }
      },
      "source": [
        "#delete a contact\n",
        "def deleteContact(name):\n",
        "  if name in contacts:\n",
        "    del contacts[name]\n",
        "    print(name,\"delelted Successfully\")\n",
        "  else:\n",
        "    print(name,\"doesn't exists\")\n",
        "  return\n",
        "\n",
        "deleteContact(\"Dinesh\")#you deleted Dinesh twice .'. \"Dinesh doesn't exists\"\n",
        "print(contacts)"
      ],
      "execution_count": 0,
      "outputs": [
        {
          "output_type": "stream",
          "text": [
            "Dinesh doesn't exists\n",
            "{'shiva': '8106164941', 'musk': '5646865486', 'Ajay': 9977445566}\n"
          ],
          "name": "stdout"
        }
      ]
    },
    {
      "cell_type": "code",
      "metadata": {
        "id": "U_rKnq1pPVmH",
        "colab_type": "code",
        "outputId": "17a50c6c-d807-4e64-a1a9-5c44638ff67c",
        "colab": {
          "base_uri": "https://localhost:8080/",
          "height": 70
        }
      },
      "source": [
        "#Update the contact details\n",
        "def deleteContact(name,phone):\n",
        "  if name in contacts:\n",
        "    contacts[name]=phone\n",
        "    print(name,\"Update Successfully\")\n",
        "  else:\n",
        "    print(name,\"not exists\")\n",
        "  return\n",
        "deleteContact(\"Ajay\",5645681278)\n",
        "deleteContact(\"Dinesh\",9988665544)\n",
        "contacts"
      ],
      "execution_count": 0,
      "outputs": [
        {
          "output_type": "stream",
          "text": [
            "Ajay Update Successfully\n",
            "Dinesh not exists\n"
          ],
          "name": "stdout"
        },
        {
          "output_type": "execute_result",
          "data": {
            "text/plain": [
              "{'Ajay': 5645681278, 'musk': '5646865486', 'shiva': '8106164941'}"
            ]
          },
          "metadata": {
            "tags": []
          },
          "execution_count": 52
        }
      ]
    },
    {
      "cell_type": "code",
      "metadata": {
        "id": "-Rn4SeXcTHWA",
        "colab_type": "code",
        "colab": {}
      },
      "source": [
        "#2 problem\n",
        "l=[]\n",
        "sum=0\n",
        "N = int(input(\"enter number of inputs:\"))\n",
        "for i in range(N):\n",
        "  n=int(input())\n",
        "  l.append(n)\n",
        "for i in l:\n",
        "  b=l[i]\n",
        "  for j in range(i+1,len(l)):\n",
        "    if b==l[j]:\n",
        "      print(-1)\n",
        "      break\n",
        "  else:\n",
        "    sum= sum+l[i]\n",
        "    \n",
        "      "
      ],
      "execution_count": 0,
      "outputs": []
    },
    {
      "cell_type": "code",
      "metadata": {
        "id": "UfXxTAfeXT3m",
        "colab_type": "code",
        "colab": {}
      },
      "source": [
        "#3\n",
        "s=input(\"Enter s:\")\n",
        "for i in range(len(s)):\n",
        "  if ord(s[i]) == 32:\n",
        "    n=i\n",
        "for i in range(n):\n",
        "  print(s[i],end=\"\")\n",
        "  for j in range(n,len(s)):\n",
        "    print(s[j],end=\"\")"
      ],
      "execution_count": 0,
      "outputs": []
    },
    {
      "cell_type": "markdown",
      "metadata": {
        "id": "0XmTUrKLkoxw",
        "colab_type": "text"
      },
      "source": [
        "###String Formatting\n",
        "- Classical version\n",
        "- Current version"
      ]
    },
    {
      "cell_type": "code",
      "metadata": {
        "id": "2lkiqK5Ukw3e",
        "colab_type": "code",
        "outputId": "dadf238c-aba0-4ba5-ca50-bbe19c333092",
        "colab": {
          "base_uri": "https://localhost:8080/",
          "height": 34
        }
      },
      "source": [
        "#Classical version\n",
        "li=[\"Python\",\"Programming\"]\n",
        "print(\"%s %s\"%(li[0],li[1]))"
      ],
      "execution_count": 0,
      "outputs": [
        {
          "output_type": "stream",
          "text": [
            "Python Programming\n"
          ],
          "name": "stdout"
        }
      ]
    },
    {
      "cell_type": "code",
      "metadata": {
        "id": "e9kDRPkylDnM",
        "colab_type": "code",
        "outputId": "b8a17405-313c-40e6-9776-4d17caf797d8",
        "colab": {
          "base_uri": "https://localhost:8080/",
          "height": 34
        }
      },
      "source": [
        "#Current Version\n",
        "print(\"{0} {1}\".format(li[0],li[1]))"
      ],
      "execution_count": 0,
      "outputs": [
        {
          "output_type": "stream",
          "text": [
            "Python Programming\n"
          ],
          "name": "stdout"
        }
      ]
    },
    {
      "cell_type": "code",
      "metadata": {
        "id": "WBbcRlDSlQC8",
        "colab_type": "code",
        "outputId": "1a40775b-183f-41e0-afe6-b39e126c47af",
        "colab": {
          "base_uri": "https://localhost:8080/",
          "height": 34
        }
      },
      "source": [
        "li1=[1,2,3,4]\n",
        "print(\"%d %d %d %d\" %(li1[0],li1[1],li1[2],li1[3]))"
      ],
      "execution_count": 0,
      "outputs": [
        {
          "output_type": "stream",
          "text": [
            "1 2 3 4\n"
          ],
          "name": "stdout"
        }
      ]
    },
    {
      "cell_type": "code",
      "metadata": {
        "id": "Vkg-QdDpmNAZ",
        "colab_type": "code",
        "outputId": "7dbf21ac-9605-481b-d097-64d19ade665e",
        "colab": {
          "base_uri": "https://localhost:8080/",
          "height": 34
        }
      },
      "source": [
        "print(\"{0} {1} {2} {3}\".format(li1[0],li1[1],li1[2],li1[3]))"
      ],
      "execution_count": 0,
      "outputs": [
        {
          "output_type": "stream",
          "text": [
            "1 2 3 4\n"
          ],
          "name": "stdout"
        }
      ]
    },
    {
      "cell_type": "markdown",
      "metadata": {
        "id": "6M0HKPz1oWOb",
        "colab_type": "text"
      },
      "source": [
        "###String Functions\n",
        "- upper() -- will converts the given string into uppercase\n",
        "- lower() -- will converts the given string into lowercase"
      ]
    },
    {
      "cell_type": "code",
      "metadata": {
        "id": "CSFVrEgInyjf",
        "colab_type": "code",
        "outputId": "8796d935-ded2-41b4-f3e6-9828483fe274",
        "colab": {
          "base_uri": "https://localhost:8080/",
          "height": 52
        }
      },
      "source": [
        "s1 = \"Gitam\"\n",
        "print(s1.upper())\n",
        "print(s1.lower())"
      ],
      "execution_count": 0,
      "outputs": [
        {
          "output_type": "stream",
          "text": [
            "GITAM\n",
            "gitam\n"
          ],
          "name": "stdout"
        }
      ]
    },
    {
      "cell_type": "markdown",
      "metadata": {
        "id": "Csfg_8E3pR5x",
        "colab_type": "text"
      },
      "source": [
        "###Boolean Function (True and False)\n",
        "- islower() -- True if the string is lower case/False if the string is not in lower case\n",
        "-isupper() -- True if the string in upper case/False if the string not in upper case\n",
        "- istitle( ) -- True if the string follows title case/false\n",
        "- isalpha() -- if it contains only alphabets"
      ]
    },
    {
      "cell_type": "code",
      "metadata": {
        "id": "Ukcaq1lupOT4",
        "colab_type": "code",
        "outputId": "e51e2f2b-63ad-4466-89ea-f93ffb839ab0",
        "colab": {
          "base_uri": "https://localhost:8080/",
          "height": 52
        }
      },
      "source": [
        "s1 = \"GITAM\"\n",
        "print(s1.islower())\n",
        "print(s1.isupper())"
      ],
      "execution_count": 0,
      "outputs": [
        {
          "output_type": "stream",
          "text": [
            "False\n",
            "True\n"
          ],
          "name": "stdout"
        }
      ]
    },
    {
      "cell_type": "code",
      "metadata": {
        "id": "bJ_0wgaCq6rk",
        "colab_type": "code",
        "outputId": "c8fe9b50-f7c6-4d04-a91a-fcc89366bd25",
        "colab": {
          "base_uri": "https://localhost:8080/",
          "height": 52
        }
      },
      "source": [
        "s2= \"Python Programming\"\n",
        "s3= \"python Programming\"\n",
        "print(s2.istitle())\n",
        "print(s3.istitle())"
      ],
      "execution_count": 0,
      "outputs": [
        {
          "output_type": "stream",
          "text": [
            "True\n",
            "False\n"
          ],
          "name": "stdout"
        }
      ]
    },
    {
      "cell_type": "code",
      "metadata": {
        "id": "83ZtlZQgrG2g",
        "colab_type": "code",
        "outputId": "da524a02-5973-433c-9ee7-6cc6c6bc91f9",
        "colab": {
          "base_uri": "https://localhost:8080/",
          "height": 52
        }
      },
      "source": [
        "s2 = \"Application1889\"\n",
        "s3 = \"PythonProgrammming\"\n",
        "print(s2.isalpha())\n",
        "print(s3.isalpha())"
      ],
      "execution_count": 0,
      "outputs": [
        {
          "output_type": "stream",
          "text": [
            "False\n",
            "True\n"
          ],
          "name": "stdout"
        }
      ]
    },
    {
      "cell_type": "code",
      "metadata": {
        "id": "KWmItTZTrg1x",
        "colab_type": "code",
        "outputId": "c2379413-ca02-43b0-b8fc-990b93c15a80",
        "colab": {
          "base_uri": "https://localhost:8080/",
          "height": 52
        }
      },
      "source": [
        "s3 = \"PythonProgrammming\"\n",
        "s1 = \"1234\"\n",
        "print(s1.isnumeric())\n",
        "print(s3.isnumeric())"
      ],
      "execution_count": 0,
      "outputs": [
        {
          "output_type": "stream",
          "text": [
            "True\n",
            "False\n"
          ],
          "name": "stdout"
        }
      ]
    },
    {
      "cell_type": "code",
      "metadata": {
        "id": "oFKEus55tDmn",
        "colab_type": "code",
        "outputId": "9e322f80-cf9c-4833-a569-b5824b40fdcd",
        "colab": {
          "base_uri": "https://localhost:8080/",
          "height": 52
        }
      },
      "source": [
        "s1 = \" \"\n",
        "s2 = \"Py th on \"\n",
        "print(s1.isspace())\n",
        "print(s2.isspace())"
      ],
      "execution_count": 0,
      "outputs": [
        {
          "output_type": "stream",
          "text": [
            "True\n",
            "False\n"
          ],
          "name": "stdout"
        }
      ]
    },
    {
      "cell_type": "markdown",
      "metadata": {
        "id": "gIxZXpHOua-L",
        "colab_type": "text"
      },
      "source": [
        "###String Methods\n",
        "- 1.join() -- method will concatinates the two strings\n",
        "- 2. split() -- split() returns the list of strings separted by whitespace (no)\n"
      ]
    },
    {
      "cell_type": "code",
      "metadata": {
        "id": "_kz0paPMtR9S",
        "colab_type": "code",
        "outputId": "6c18de1e-e849-4814-e55b-a23789475cab",
        "colab": {
          "base_uri": "https://localhost:8080/",
          "height": 34
        }
      },
      "source": [
        "s1 = \"python\"\n",
        "print(\" \".join(s1))"
      ],
      "execution_count": 0,
      "outputs": [
        {
          "output_type": "stream",
          "text": [
            "p y t h o n\n"
          ],
          "name": "stdout"
        }
      ]
    },
    {
      "cell_type": "code",
      "metadata": {
        "id": "TJH9WSTXut2x",
        "colab_type": "code",
        "outputId": "fd33c840-5747-48b6-d7fa-e9b4e3b0d0fc",
        "colab": {
          "base_uri": "https://localhost:8080/",
          "height": 34
        }
      },
      "source": [
        "s1 = \"python is fun\"\n",
        "print(\",\".join(s1))"
      ],
      "execution_count": 0,
      "outputs": [
        {
          "output_type": "stream",
          "text": [
            "p,y,t,h,o,n, ,i,s, ,f,u,n\n"
          ],
          "name": "stdout"
        }
      ]
    },
    {
      "cell_type": "code",
      "metadata": {
        "id": "QoBXNTtPuxIv",
        "colab_type": "code",
        "outputId": "b44aa783-a1de-4688-fc8e-96f6ea9bd6d3",
        "colab": {
          "base_uri": "https://localhost:8080/",
          "height": 34
        }
      },
      "source": [
        "li=['Python','Programming','Course']\n",
        "print(\",\".join(li))"
      ],
      "execution_count": 0,
      "outputs": [
        {
          "output_type": "stream",
          "text": [
            "Python,Programming,Course\n"
          ],
          "name": "stdout"
        }
      ]
    },
    {
      "cell_type": "code",
      "metadata": {
        "id": "_6GH4pSMvCMH",
        "colab_type": "code",
        "outputId": "e6920505-c6a3-4e40-cd9d-1d732f01e8dd",
        "colab": {
          "base_uri": "https://localhost:8080/",
          "height": 34
        }
      },
      "source": [
        "s1 = \"python is fun\"\n",
        "print(s1.split())"
      ],
      "execution_count": 0,
      "outputs": [
        {
          "output_type": "stream",
          "text": [
            "['python', 'is', 'fun']\n"
          ],
          "name": "stdout"
        }
      ]
    },
    {
      "cell_type": "code",
      "metadata": {
        "id": "t_gZ-j94v_Ah",
        "colab_type": "code",
        "outputId": "03c39e01-f152-4eac-a830-983a9ac65db2",
        "colab": {
          "base_uri": "https://localhost:8080/",
          "height": 34
        }
      },
      "source": [
        "s1 = \"python is fun\"\n",
        "print(s1.split('n'))"
      ],
      "execution_count": 0,
      "outputs": [
        {
          "output_type": "stream",
          "text": [
            "['pytho', ' is fu', '']\n"
          ],
          "name": "stdout"
        }
      ]
    },
    {
      "cell_type": "code",
      "metadata": {
        "id": "6BWWMuYBx9vk",
        "colab_type": "code",
        "outputId": "1c1ca9c4-008c-437f-8e4a-cb718cb8aa5a",
        "colab": {
          "base_uri": "https://localhost:8080/",
          "height": 34
        }
      },
      "source": [
        "s1 = \"python is fun\"\n",
        "li = s1.split('n')\n",
        "print(li)"
      ],
      "execution_count": 0,
      "outputs": [
        {
          "output_type": "stream",
          "text": [
            "['pytho', ' is fu', '']\n"
          ],
          "name": "stdout"
        }
      ]
    },
    {
      "cell_type": "code",
      "metadata": {
        "id": "fde1EIBZxKYC",
        "colab_type": "code",
        "outputId": "b7e35de5-35e7-42ed-9df3-5edc59e957b7",
        "colab": {
          "base_uri": "https://localhost:8080/",
          "height": 34
        }
      },
      "source": [
        "s1 = \"python is fun\"\n",
        "li=list(s1)\n",
        "print(li)"
      ],
      "execution_count": 0,
      "outputs": [
        {
          "output_type": "stream",
          "text": [
            "['p', 'y', 't', 'h', 'o', 'n', ' ', 'i', 's', ' ', 'f', 'u', 'n']\n"
          ],
          "name": "stdout"
        }
      ]
    },
    {
      "cell_type": "markdown",
      "metadata": {
        "id": "52vtjInQP9xH",
        "colab_type": "text"
      },
      "source": [
        "###Packages and modules\n",
        "**Packages:**\n",
        "   - A collection of Modules (Single Python file .py) and Subpackages\n",
        "   \n",
        "**Module:**\n",
        "   - A single Python file containing set functions\n",
        " \n",
        "**Packages --> Sub Packages --> Modules --> Fuctions --> Statements**\n",
        "\n"
      ]
    },
    {
      "cell_type": "code",
      "metadata": {
        "id": "boJiPPinx5lt",
        "colab_type": "code",
        "outputId": "de127097-42f2-48b2-e460-aa69a429dcea",
        "colab": {
          "base_uri": "https://localhost:8080/",
          "height": 34
        }
      },
      "source": [
        "#Import the externals packages to Python File\n",
        "import math#entire lib will be imported\n",
        "math.floor(123.45)"
      ],
      "execution_count": 0,
      "outputs": [
        {
          "output_type": "execute_result",
          "data": {
            "text/plain": [
              "123"
            ]
          },
          "metadata": {
            "tags": []
          },
          "execution_count": 172
        }
      ]
    },
    {
      "cell_type": "code",
      "metadata": {
        "id": "AuM2AepWSRkH",
        "colab_type": "code",
        "outputId": "5b81f525-0f9f-4a47-d89e-89f05b062e47",
        "colab": {
          "base_uri": "https://localhost:8080/",
          "height": 34
        }
      },
      "source": [
        "from math import factorial as fact#only one function will be imported\n",
        "fact(5)"
      ],
      "execution_count": 0,
      "outputs": [
        {
          "output_type": "execute_result",
          "data": {
            "text/plain": [
              "120"
            ]
          },
          "metadata": {
            "tags": []
          },
          "execution_count": 174
        }
      ]
    },
    {
      "cell_type": "code",
      "metadata": {
        "id": "pMg4-pWWTAAj",
        "colab_type": "code",
        "outputId": "78d7b310-19da-42a3-d097-2ae2d35c3a6e",
        "colab": {
          "base_uri": "https://localhost:8080/",
          "height": 34
        }
      },
      "source": [
        "from math import gcd \n",
        "gcd(8,4)"
      ],
      "execution_count": 0,
      "outputs": [
        {
          "output_type": "execute_result",
          "data": {
            "text/plain": [
              "4"
            ]
          },
          "metadata": {
            "tags": []
          },
          "execution_count": 176
        }
      ]
    },
    {
      "cell_type": "code",
      "metadata": {
        "id": "wvGNLojSUWYT",
        "colab_type": "code",
        "outputId": "fbecfe2d-4e48-4892-e444-751935e99f60",
        "colab": {
          "base_uri": "https://localhost:8080/",
          "height": 34
        }
      },
      "source": [
        "#function to generate N random numbers in giver range\n",
        "import random\n",
        "def randomNNumbers(n,lb,ub):\n",
        "  for i in range(0,n):\n",
        "    print(random.randint(lb,ub),end=\" \")\n",
        "  return\n",
        "randomNNumbers(10,0,100)"
      ],
      "execution_count": 0,
      "outputs": [
        {
          "output_type": "stream",
          "text": [
            "79 21 0 14 95 96 83 96 21 67 "
          ],
          "name": "stdout"
        }
      ]
    },
    {
      "cell_type": "code",
      "metadata": {
        "id": "BOY4fbxTUzhd",
        "colab_type": "code",
        "outputId": "e24d7450-358f-42f2-bc08-392f6e3d8278",
        "colab": {
          "base_uri": "https://localhost:8080/",
          "height": 105
        }
      },
      "source": [
        "#Create a simple Game:\n",
        "#Generate 20 random numbers 0 to 500 \n",
        "#input:Number\n",
        "#output:Congrats!!\n",
        "#       Try once again\n",
        "import random\n",
        "n= random.randint(0,500)\n",
        "print(n)\n",
        "key = int(input(\"Enter Your Guess!:\"))\n",
        "while n!=key:\n",
        "    print(\"Try once again\")\n",
        "    key = int(input(\"Enter Your Guess!:\"))\n",
        "if n==key:\n",
        "    print(\"Congrats!!!\")"
      ],
      "execution_count": 0,
      "outputs": [
        {
          "output_type": "stream",
          "text": [
            "118\n",
            "Enter Your Guess!:1\n",
            "Try once again\n",
            "Enter Your Guess!:118\n",
            "Congrats!!!\n"
          ],
          "name": "stdout"
        }
      ]
    },
    {
      "cell_type": "code",
      "metadata": {
        "id": "LkyDXpTtXlEw",
        "colab_type": "code",
        "outputId": "bf7cb6cf-3f7e-406c-d9ab-2d7889207973",
        "colab": {
          "base_uri": "https://localhost:8080/",
          "height": 34
        }
      },
      "source": [
        "def generateNumber(n,lb,ub):\n",
        "  li=[]\n",
        "  for i in range(0,n):\n",
        "    li.append(random.randint(lb,ub))\n",
        "  return li\n",
        "generateNumber(20,0,200)\n",
        "def check(n):\n",
        "  if n in li:\n",
        "    return \"Congrats!!!\"\n",
        "  else:\n",
        "    return \"Try once again!\"\n",
        "  return\n",
        "check(1)"
      ],
      "execution_count": 0,
      "outputs": [
        {
          "output_type": "execute_result",
          "data": {
            "text/plain": [
              "'Try once again!'"
            ]
          },
          "metadata": {
            "tags": []
          },
          "execution_count": 195
        }
      ]
    },
    {
      "cell_type": "code",
      "metadata": {
        "id": "x4PcViJoZWC2",
        "colab_type": "code",
        "colab": {}
      },
      "source": [
        ""
      ],
      "execution_count": 0,
      "outputs": []
    }
  ]
}