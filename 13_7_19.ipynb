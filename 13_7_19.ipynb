{
  "nbformat": 4,
  "nbformat_minor": 0,
  "metadata": {
    "colab": {
      "name": "13/7/19.ipynb",
      "version": "0.3.2",
      "provenance": [],
      "collapsed_sections": [],
      "include_colab_link": true
    },
    "kernelspec": {
      "name": "python3",
      "display_name": "Python 3"
    }
  },
  "cells": [
    {
      "cell_type": "markdown",
      "metadata": {
        "id": "view-in-github",
        "colab_type": "text"
      },
      "source": [
        "<a href=\"https://colab.research.google.com/github/ShivaKumar8037/Gitam-Python/blob/master/13_7_19.ipynb\" target=\"_parent\"><img src=\"https://colab.research.google.com/assets/colab-badge.svg\" alt=\"Open In Colab\"/></a>"
      ]
    },
    {
      "cell_type": "markdown",
      "metadata": {
        "id": "7MQMXfA4bLni",
        "colab_type": "text"
      },
      "source": [
        "###Transforming Code into Idiomatic  Python\n",
        "- Replace traditional index manupulation with  Python  core looping idiomatic"
      ]
    },
    {
      "cell_type": "code",
      "metadata": {
        "id": "lQ69Lo53a9-B",
        "colab_type": "code",
        "outputId": "4c9b01a3-e624-4101-a5ca-96380356d28a",
        "colab": {
          "base_uri": "https://localhost:8080/",
          "height": 34
        }
      },
      "source": [
        "#Looping over a range of numbers - Traditional approach\n",
        "for i in [0,1,2,3,4,5]:\n",
        "  print(i**2,end=\" \")"
      ],
      "execution_count": 0,
      "outputs": [
        {
          "output_type": "stream",
          "text": [
            "0 1 4 9 16 25 "
          ],
          "name": "stdout"
        }
      ]
    },
    {
      "cell_type": "code",
      "metadata": {
        "id": "HVkLLV1_bxld",
        "colab_type": "code",
        "outputId": "1373dca6-7a3a-44cd-ddc3-302594cf4bf0",
        "colab": {
          "base_uri": "https://localhost:8080/",
          "height": 34
        }
      },
      "source": [
        "#Idiomatic Programming\n",
        "for i in range(6):\n",
        "  print(i**2,end=\" \")"
      ],
      "execution_count": 0,
      "outputs": [
        {
          "output_type": "stream",
          "text": [
            "0 1 4 9 16 25 "
          ],
          "name": "stdout"
        }
      ]
    },
    {
      "cell_type": "markdown",
      "metadata": {
        "id": "FECKllFydqMB",
        "colab_type": "text"
      },
      "source": [
        "### Looping Over a Collection "
      ]
    },
    {
      "cell_type": "code",
      "metadata": {
        "id": "c4GhhZJ6cHDG",
        "colab_type": "code",
        "outputId": "d458673a-9995-47ad-8df1-5ec61760f1fa",
        "colab": {
          "base_uri": "https://localhost:8080/",
          "height": 34
        }
      },
      "source": [
        "colors = ['red','green','yellow','purple']\n",
        "for i in range(len(colors)):\n",
        "  print(colors[i],end=\" \")"
      ],
      "execution_count": 0,
      "outputs": [
        {
          "output_type": "stream",
          "text": [
            "red green yellow purple "
          ],
          "name": "stdout"
        }
      ]
    },
    {
      "cell_type": "code",
      "metadata": {
        "id": "dhlSizVfd_-F",
        "colab_type": "code",
        "outputId": "81444a64-fa0d-41b6-9a51-1d0118c9f108",
        "colab": {
          "base_uri": "https://localhost:8080/",
          "height": 34
        }
      },
      "source": [
        "#idiomatic Approach\n",
        "for color in colors:\n",
        "  print(color,end = \" \")"
      ],
      "execution_count": 0,
      "outputs": [
        {
          "output_type": "stream",
          "text": [
            "red green yellow purple "
          ],
          "name": "stdout"
        }
      ]
    },
    {
      "cell_type": "markdown",
      "metadata": {
        "id": "vDIMlFtDe7FC",
        "colab_type": "text"
      },
      "source": [
        "###Looping backwards"
      ]
    },
    {
      "cell_type": "code",
      "metadata": {
        "id": "IcqLYl5beJBE",
        "colab_type": "code",
        "outputId": "32c3f629-5d28-4170-b7a9-7706c17ba4af",
        "colab": {
          "base_uri": "https://localhost:8080/",
          "height": 34
        }
      },
      "source": [
        "colors = ['red','green','yellow','purple']\n",
        "for i in range(len(colors)-1,-1,-1):\n",
        "  print(colors[i],end=\" \")"
      ],
      "execution_count": 0,
      "outputs": [
        {
          "output_type": "stream",
          "text": [
            "purple yellow green red "
          ],
          "name": "stdout"
        }
      ]
    },
    {
      "cell_type": "code",
      "metadata": {
        "id": "S6c3DUzgfRv_",
        "colab_type": "code",
        "outputId": "65c70f9d-47b4-4229-b0d4-2538da46b205",
        "colab": {
          "base_uri": "https://localhost:8080/",
          "height": 34
        }
      },
      "source": [
        "#idiomatic Approach\n",
        "for color in reversed(colors):\n",
        "  print(color,end = \" \")"
      ],
      "execution_count": 0,
      "outputs": [
        {
          "output_type": "stream",
          "text": [
            "purple yellow green red "
          ],
          "name": "stdout"
        }
      ]
    },
    {
      "cell_type": "markdown",
      "metadata": {
        "id": "8PPuh3Rph2QD",
        "colab_type": "text"
      },
      "source": [
        "###Looping in Sorted List"
      ]
    },
    {
      "cell_type": "code",
      "metadata": {
        "id": "1IAmfcEDfs4c",
        "colab_type": "code",
        "outputId": "28099b8a-a44b-46ab-c126-4d610a69c74b",
        "colab": {
          "base_uri": "https://localhost:8080/",
          "height": 34
        }
      },
      "source": [
        "colors = ['red','green','yellow','purple']\n",
        "for color in sorted(colors):\n",
        "  print(color,end=\" \")"
      ],
      "execution_count": 0,
      "outputs": [
        {
          "output_type": "stream",
          "text": [
            "green purple red yellow "
          ],
          "name": "stdout"
        }
      ]
    },
    {
      "cell_type": "code",
      "metadata": {
        "id": "twBI3FIIiDN-",
        "colab_type": "code",
        "outputId": "b8e4678f-7b33-453f-d201-f50d348f8cd3",
        "colab": {
          "base_uri": "https://localhost:8080/",
          "height": 34
        }
      },
      "source": [
        "colors = ['red','green','yellow','purple']\n",
        "for color in sorted(colors,reverse=True):\n",
        "  print(color,end=\" \")"
      ],
      "execution_count": 0,
      "outputs": [
        {
          "output_type": "stream",
          "text": [
            "yellow red purple green "
          ],
          "name": "stdout"
        }
      ]
    },
    {
      "cell_type": "markdown",
      "metadata": {
        "id": "ypNO1IBBjQhm",
        "colab_type": "text"
      },
      "source": [
        "###\n",
        "- if x<=y and y<=z:\n",
        "- if x<=y<=z: #idiomatic approach\n",
        "- if x==True\n",
        "- if x: #idiomatic approach"
      ]
    },
    {
      "cell_type": "markdown",
      "metadata": {
        "id": "m5zBJEPEjtA7",
        "colab_type": "text"
      },
      "source": [
        "###Pandas"
      ]
    },
    {
      "cell_type": "code",
      "metadata": {
        "id": "4WyfGwGZiMbf",
        "colab_type": "code",
        "colab": {}
      },
      "source": [
        "import pandas as pd"
      ],
      "execution_count": 0,
      "outputs": []
    },
    {
      "cell_type": "code",
      "metadata": {
        "id": "_y6lcg4ikFXo",
        "colab_type": "code",
        "colab": {}
      },
      "source": [
        "dt={'Id':[11,12,13,14,15],\n",
        "'first_name':['A','B','C','D','E'],\n",
        "'company':['aa','bb','cc','dd','ee'],\n",
        "'Address':['Hyd','Hyd','Hyd','Hyd','Hyd']}\n",
        "mydt = pd.DataFrame(dt)  "
      ],
      "execution_count": 0,
      "outputs": []
    },
    {
      "cell_type": "code",
      "metadata": {
        "id": "hROzcDHLk8js",
        "colab_type": "code",
        "outputId": "b3b079ad-5bed-4cf8-9bfe-dd4abffcc0f8",
        "colab": {
          "base_uri": "https://localhost:8080/",
          "height": 122
        }
      },
      "source": [
        "print(mydt)"
      ],
      "execution_count": 0,
      "outputs": [
        {
          "output_type": "stream",
          "text": [
            "   Id first_name company Address\n",
            "0  11          A      aa     Hyd\n",
            "1  12          B      bb     Hyd\n",
            "2  13          C      cc     Hyd\n",
            "3  14          D      dd     Hyd\n",
            "4  15          E      ee     Hyd\n"
          ],
          "name": "stdout"
        }
      ]
    },
    {
      "cell_type": "code",
      "metadata": {
        "id": "jvuUfNHQlKGp",
        "colab_type": "code",
        "colab": {}
      },
      "source": [
        "import os "
      ],
      "execution_count": 0,
      "outputs": []
    },
    {
      "cell_type": "code",
      "metadata": {
        "id": "EQqUCjoxo2Id",
        "colab_type": "code",
        "colab": {}
      },
      "source": [
        "os.chdir(\"D:\\\\MyData\\\\\")#saves to certain location"
      ],
      "execution_count": 0,
      "outputs": []
    },
    {
      "cell_type": "code",
      "metadata": {
        "id": "MT2OVPKno9iH",
        "colab_type": "code",
        "colab": {}
      },
      "source": [
        "mydt.to_csv(\"WorkingFile.csv\",index=False)"
      ],
      "execution_count": 0,
      "outputs": []
    },
    {
      "cell_type": "markdown",
      "metadata": {
        "id": "vfSj7U1Wr44A",
        "colab_type": "text"
      },
      "source": [
        "###Reaing the data from CSV file"
      ]
    },
    {
      "cell_type": "code",
      "metadata": {
        "id": "0icMPQXer9fR",
        "colab_type": "code",
        "colab": {}
      },
      "source": [
        "mydata= pd.read_csv('WorkingFile.csv')"
      ],
      "execution_count": 0,
      "outputs": []
    },
    {
      "cell_type": "code",
      "metadata": {
        "id": "A3TQMExRsCvA",
        "colab_type": "code",
        "outputId": "15bb51b8-754b-4c31-d7d2-8f1df197de4a",
        "colab": {
          "base_uri": "https://localhost:8080/",
          "height": 122
        }
      },
      "source": [
        "print(mydata)"
      ],
      "execution_count": 0,
      "outputs": [
        {
          "output_type": "stream",
          "text": [
            "   Id first_name company Address\n",
            "0  11          A      aa     Hyd\n",
            "1  12          B      bb     Hyd\n",
            "2  13          C      cc     Hyd\n",
            "3  14          D      dd     Hyd\n",
            "4  15          E      ee     Hyd\n"
          ],
          "name": "stdout"
        }
      ]
    },
    {
      "cell_type": "code",
      "metadata": {
        "id": "9JQ1dkf_ten2",
        "colab_type": "code",
        "colab": {}
      },
      "source": [
        "mydata1 = pd.read_csv('WorkingFile.csv',skiprows=1,names=[\"CustId\",\"Name\",\"Company\",\"Address\"])"
      ],
      "execution_count": 0,
      "outputs": []
    },
    {
      "cell_type": "code",
      "metadata": {
        "id": "tQkN06NEtsnQ",
        "colab_type": "code",
        "outputId": "f4e129ca-80e3-4dd6-a782-c965808915b9",
        "colab": {
          "base_uri": "https://localhost:8080/",
          "height": 122
        }
      },
      "source": [
        "print(mydata1)"
      ],
      "execution_count": 0,
      "outputs": [
        {
          "output_type": "stream",
          "text": [
            "   CustId Name Company Address\n",
            "0      11    A      aa     Hyd\n",
            "1      12    B      bb     Hyd\n",
            "2      13    C      cc     Hyd\n",
            "3      14    D      dd     Hyd\n",
            "4      15    E      ee     Hyd\n"
          ],
          "name": "stdout"
        }
      ]
    },
    {
      "cell_type": "code",
      "metadata": {
        "id": "2X-ZJn37twau",
        "colab_type": "code",
        "colab": {}
      },
      "source": [
        "mydata1 = pd.read_csv('WorkingFile.csv',skiprows=[1,2,3],names=[\"CustId\",\"Name\",\"Company\",\"Address\"])"
      ],
      "execution_count": 0,
      "outputs": []
    },
    {
      "cell_type": "code",
      "metadata": {
        "id": "_RWmQE2YvdV9",
        "colab_type": "code",
        "outputId": "41ba7e03-703a-46a2-c605-2c47ec1d6e49",
        "colab": {
          "base_uri": "https://localhost:8080/",
          "height": 87
        }
      },
      "source": [
        "print(mydata1)"
      ],
      "execution_count": 0,
      "outputs": [
        {
          "output_type": "stream",
          "text": [
            "  CustId        Name  Company  Address\n",
            "0     Id  first_name  company  Address\n",
            "1     14           D       dd      Hyd\n",
            "2     15           E       ee      Hyd\n"
          ],
          "name": "stdout"
        }
      ]
    },
    {
      "cell_type": "code",
      "metadata": {
        "id": "-rqTYRaHvixR",
        "colab_type": "code",
        "outputId": "39cbbb79-8514-4709-f014-12b1333d3f19",
        "colab": {
          "base_uri": "https://localhost:8080/",
          "height": 34
        }
      },
      "source": [
        "pwd"
      ],
      "execution_count": 0,
      "outputs": [
        {
          "output_type": "execute_result",
          "data": {
            "text/plain": [
              "'/content'"
            ]
          },
          "metadata": {
            "tags": []
          },
          "execution_count": 46
        }
      ]
    },
    {
      "cell_type": "markdown",
      "metadata": {
        "id": "Lc6beBE_wZR-",
        "colab_type": "text"
      },
      "source": [
        "###Print Only Two columns\n",
        "###Print the large value from CustID column --max\n",
        "###Print the least value from the CustID column -- min\n",
        "###Average of CustID column --sum(li)/len(li)"
      ]
    },
    {
      "cell_type": "code",
      "metadata": {
        "id": "nS6VrQsJwJcA",
        "colab_type": "code",
        "outputId": "b37dd6af-34e2-4fe8-c54d-790d409b3289",
        "colab": {
          "base_uri": "https://localhost:8080/",
          "height": 175
        }
      },
      "source": [
        "d={'first_name':['A','B','C','D','E'],\n",
        "'CustId':[11,12,13,14,15]}\n",
        "myData = pd.DataFrame(d)  \n",
        "print(myData)\n",
        "CustId=[11,12,13,14,15]\n",
        "print(\"Max of Customer Id:\",max(CustId))\n",
        "print(\"Min of Customer Id:\",min(CustId))\n",
        "print(\"Average of Customer Id:\",sum(CustId)/len(CustId))"
      ],
      "execution_count": 0,
      "outputs": [
        {
          "output_type": "stream",
          "text": [
            "  first_name  CustId\n",
            "0          A      11\n",
            "1          B      12\n",
            "2          C      13\n",
            "3          D      14\n",
            "4          E      15\n",
            "Max of Customer Id: 15\n",
            "Min of Customer Id: 11\n",
            "Average of Customer Id: 13.0\n"
          ],
          "name": "stdout"
        }
      ]
    },
    {
      "cell_type": "markdown",
      "metadata": {
        "id": "rhXtaL78Anxr",
        "colab_type": "text"
      },
      "source": [
        "###Numpy Package - Working with Multi Dimensional array\n",
        "- Numpy array is a bit like Python List\n",
        "- Numpy array is data structure of Numpy Lib\n",
        "- It's short name for Numberic Python or Numerical **Python**"
      ]
    },
    {
      "cell_type": "code",
      "metadata": {
        "id": "uehXZvlBxvcH",
        "colab_type": "code",
        "colab": {}
      },
      "source": [
        "import numpy as np #Import the numpy package"
      ],
      "execution_count": 0,
      "outputs": []
    },
    {
      "cell_type": "code",
      "metadata": {
        "id": "NJbtSoOqB1M5",
        "colab_type": "code",
        "outputId": "7af6072f-4834-4f4d-9379-72673336105b",
        "colab": {
          "base_uri": "https://localhost:8080/",
          "height": 34
        }
      },
      "source": [
        "li = [1,2,3,4,5]\n",
        "print(li,end= \" \")"
      ],
      "execution_count": 0,
      "outputs": [
        {
          "output_type": "stream",
          "text": [
            "[1, 2, 3, 4, 5] "
          ],
          "name": "stdout"
        }
      ]
    },
    {
      "cell_type": "code",
      "metadata": {
        "id": "g0-wEKHQCC03",
        "colab_type": "code",
        "outputId": "d0217479-b9e1-4786-f7d7-4afbf55ad7df",
        "colab": {
          "base_uri": "https://localhost:8080/",
          "height": 52
        }
      },
      "source": [
        "a1 = np.array([(1,2,3),(4,5,6)])\n",
        "print(a1.shape)#2,3 where 2->rows of array and 3->cols of array\n",
        "a2 = np.array([(1,2),(2,3),(4,5)])\n",
        "print(a2.shape)"
      ],
      "execution_count": 0,
      "outputs": [
        {
          "output_type": "stream",
          "text": [
            "(2, 3)\n",
            "(3, 2)\n"
          ],
          "name": "stdout"
        }
      ]
    },
    {
      "cell_type": "code",
      "metadata": {
        "id": "4R2zUSmVB8UL",
        "colab_type": "code",
        "outputId": "f2172a79-d646-4235-a6f6-212cbf09fbf3",
        "colab": {
          "base_uri": "https://localhost:8080/",
          "height": 34
        }
      },
      "source": [
        "array = np.array(li)#used to convert list  to array using \"np.array()\"\n",
        "print(array)"
      ],
      "execution_count": 0,
      "outputs": [
        {
          "output_type": "stream",
          "text": [
            "[1 2 3 4 5]\n"
          ],
          "name": "stdout"
        }
      ]
    },
    {
      "cell_type": "code",
      "metadata": {
        "id": "9vpHr4tbD108",
        "colab_type": "code",
        "outputId": "448c5d55-5e1e-439c-e913-a61430c95069",
        "colab": {
          "base_uri": "https://localhost:8080/",
          "height": 70
        }
      },
      "source": [
        "a1 = np.array([(1,2,3),(4,5,6)])\n",
        "a1.reshape(3,2)#reshapes array into 3 rows and two cols"
      ],
      "execution_count": 0,
      "outputs": [
        {
          "output_type": "execute_result",
          "data": {
            "text/plain": [
              "array([[1, 2],\n",
              "       [3, 4],\n",
              "       [5, 6]])"
            ]
          },
          "metadata": {
            "tags": []
          },
          "execution_count": 56
        }
      ]
    },
    {
      "cell_type": "code",
      "metadata": {
        "id": "NovVgg-wEUCv",
        "colab_type": "code",
        "outputId": "31e88a08-3fad-4bcb-aad7-46da80234698",
        "colab": {
          "base_uri": "https://localhost:8080/",
          "height": 52
        }
      },
      "source": [
        "a1 = np.array([(1,2,3)])\n",
        "a2 = np.array([(4,5,6)])\n",
        "print(np.vstack((a1,a2))) # is used to stack the sequence of input arrays vertically to make a single array."
      ],
      "execution_count": 0,
      "outputs": [
        {
          "output_type": "stream",
          "text": [
            "[[1 2 3]\n",
            " [4 5 6]]\n"
          ],
          "name": "stdout"
        }
      ]
    },
    {
      "cell_type": "code",
      "metadata": {
        "id": "4CSpt4eEGGCD",
        "colab_type": "code",
        "colab": {}
      },
      "source": [
        ""
      ],
      "execution_count": 0,
      "outputs": []
    }
  ]
}